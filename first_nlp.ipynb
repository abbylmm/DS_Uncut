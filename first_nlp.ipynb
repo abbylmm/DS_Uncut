{
 "cells": [
  {
   "cell_type": "markdown",
   "metadata": {},
   "source": [
    "# Natural Language Processing\n",
    "\n",
    "Source: [The Tragedy of Romeo and Juliet](https://www.gutenberg.org/ebooks/1112)\n",
    "\n",
    "* Stopwords from LEAD's list\n",
    "* Stopwords from NLTK\n",
    "* Stopwords from spaCy\n"
   ]
  },
  {
   "cell_type": "code",
   "execution_count": 1,
   "metadata": {},
   "outputs": [],
   "source": [
    "import requests\n",
    "\n",
    "url = 'https://raw.githubusercontent.com/abbylmm/DS_Uncut/main/romeo_and_juliet.txt'\n",
    "\n",
    "response = requests.get(url)\n",
    "text = response.text"
   ]
  },
  {
   "cell_type": "code",
   "execution_count": 2,
   "metadata": {},
   "outputs": [],
   "source": [
    "# print(text)"
   ]
  },
  {
   "cell_type": "code",
   "execution_count": 3,
   "metadata": {},
   "outputs": [],
   "source": [
    "punctuations = '''\\r\\n!()-[]{};:'\"\\, <>./?@#$%^&*_~'''\n",
    "\n",
    "for character in text:\n",
    "  if character in punctuations:\n",
    "    text = text.replace(character, ' ')\n",
    "\n",
    "text = text.lower()"
   ]
  },
  {
   "cell_type": "code",
   "execution_count": 4,
   "metadata": {},
   "outputs": [],
   "source": [
    "tokens = text.split()"
   ]
  },
  {
   "cell_type": "code",
   "execution_count": 5,
   "metadata": {},
   "outputs": [],
   "source": [
    "# print(tokens)"
   ]
  },
  {
   "cell_type": "code",
   "execution_count": 6,
   "metadata": {},
   "outputs": [
    {
     "name": "stdout",
     "output_type": "stream",
     "text": [
      "[('the', 868), ('and', 800), ('to', 661), ('i', 658), ('of', 535), ('a', 530), ('is', 381), ('in', 378), ('that', 371), ('you', 367)]\n"
     ]
    }
   ],
   "source": [
    "from collections import Counter\n",
    "print(Counter(tokens).most_common(10))"
   ]
  },
  {
   "cell_type": "code",
   "execution_count": 7,
   "metadata": {},
   "outputs": [
    {
     "data": {
      "text/plain": [
       "30093"
      ]
     },
     "execution_count": 7,
     "metadata": {},
     "output_type": "execute_result"
    }
   ],
   "source": [
    "len(tokens)"
   ]
  },
  {
   "cell_type": "markdown",
   "metadata": {},
   "source": [
    "# Stopwords from LEAD's list"
   ]
  },
  {
   "cell_type": "code",
   "execution_count": 8,
   "metadata": {},
   "outputs": [],
   "source": [
    "# stopwords\n",
    "\n",
    "url = 'https://raw.githubusercontent.com/theleadio/datascience_demo/master/stopwords.txt'\n",
    "response = requests.get(url)\n",
    "stopwords_lead = response.text.splitlines()"
   ]
  },
  {
   "cell_type": "code",
   "execution_count": 9,
   "metadata": {},
   "outputs": [
    {
     "name": "stdout",
     "output_type": "stream",
     "text": [
      "1001\n"
     ]
    }
   ],
   "source": [
    "print(len(stopwords_lead))\n",
    "# print(stopwords_lead)"
   ]
  },
  {
   "cell_type": "code",
   "execution_count": 10,
   "metadata": {},
   "outputs": [
    {
     "name": "stdout",
     "output_type": "stream",
     "text": [
      "[('thou', 278), ('thy', 164), ('rom', 163), ('romeo', 162), ('love', 151), ('nurse', 150), ('thee', 138), ('jul', 117), ('gutenberg', 97), ('friar', 93)]\n"
     ]
    }
   ],
   "source": [
    "tokens_filtered = [t for t in tokens if t not in stopwords_lead and len(t) > 0]\n",
    "print(Counter(tokens_filtered).most_common(10))"
   ]
  },
  {
   "cell_type": "code",
   "execution_count": 11,
   "metadata": {},
   "outputs": [
    {
     "data": {
      "text/plain": [
       "13049"
      ]
     },
     "execution_count": 11,
     "metadata": {},
     "output_type": "execute_result"
    }
   ],
   "source": [
    "len(tokens_filtered)"
   ]
  },
  {
   "cell_type": "markdown",
   "metadata": {},
   "source": [
    "# Stopwords from NLTK"
   ]
  },
  {
   "cell_type": "code",
   "execution_count": 12,
   "metadata": {},
   "outputs": [
    {
     "name": "stderr",
     "output_type": "stream",
     "text": [
      "[nltk_data] Downloading package punkt to\n",
      "[nltk_data]     C:\\Users\\munmun\\AppData\\Roaming\\nltk_data...\n",
      "[nltk_data]   Package punkt is already up-to-date!\n",
      "[nltk_data] Downloading package stopwords to\n",
      "[nltk_data]     C:\\Users\\munmun\\AppData\\Roaming\\nltk_data...\n",
      "[nltk_data]   Package stopwords is already up-to-date!\n"
     ]
    }
   ],
   "source": [
    "import nltk\n",
    "nltk.download('punkt')\n",
    "nltk.download('stopwords')\n",
    "from nltk.corpus import stopwords"
   ]
  },
  {
   "cell_type": "code",
   "execution_count": 13,
   "metadata": {},
   "outputs": [
    {
     "name": "stdout",
     "output_type": "stream",
     "text": [
      "179\n"
     ]
    }
   ],
   "source": [
    "stopwords_nltk = set(stopwords.words('english'))\n",
    "print(len(stopwords_nltk))\n",
    "# print(stopwords_nltk)"
   ]
  },
  {
   "cell_type": "code",
   "execution_count": 14,
   "metadata": {},
   "outputs": [],
   "source": [
    "tokens_nltk_filtered = []\n",
    "\n",
    "for t in tokens:\n",
    "    if t not in stopwords_nltk:\n",
    "        tokens_nltk_filtered.append(t)\n",
    "\n",
    "# print(tokens_nltk_filtered)"
   ]
  },
  {
   "cell_type": "code",
   "execution_count": 15,
   "metadata": {},
   "outputs": [
    {
     "name": "stdout",
     "output_type": "stream",
     "text": [
      "[('thou', 278), ('thy', 164), ('rom', 163), ('romeo', 162), ('love', 151), ('nurse', 150), ('thee', 138), ('jul', 117), ('shall', 112), ('come', 99)]\n"
     ]
    }
   ],
   "source": [
    "print(Counter(tokens_nltk_filtered).most_common(10))"
   ]
  },
  {
   "cell_type": "code",
   "execution_count": 16,
   "metadata": {},
   "outputs": [
    {
     "data": {
      "text/plain": [
       "16281"
      ]
     },
     "execution_count": 16,
     "metadata": {},
     "output_type": "execute_result"
    }
   ],
   "source": [
    "len(tokens_nltk_filtered)"
   ]
  },
  {
   "cell_type": "markdown",
   "metadata": {},
   "source": [
    "# Stopwords from spaCy"
   ]
  },
  {
   "cell_type": "code",
   "execution_count": 17,
   "metadata": {},
   "outputs": [],
   "source": [
    "from spacy.lang.en import English\n",
    "from spacy.lang.en.stop_words import STOP_WORDS"
   ]
  },
  {
   "cell_type": "code",
   "execution_count": 18,
   "metadata": {},
   "outputs": [
    {
     "name": "stdout",
     "output_type": "stream",
     "text": [
      "326\n"
     ]
    }
   ],
   "source": [
    "print(len(STOP_WORDS))\n",
    "# print(STOP_WORDS)"
   ]
  },
  {
   "cell_type": "code",
   "execution_count": 19,
   "metadata": {},
   "outputs": [],
   "source": [
    "import spacy\n",
    "nlp = spacy.blank(\"en\")"
   ]
  },
  {
   "cell_type": "code",
   "execution_count": 20,
   "metadata": {},
   "outputs": [],
   "source": [
    "non_stopwords = [non_stopwords.text for non_stopwords in nlp(text) if not non_stopwords.is_stop]\n",
    "# print(non_stopwords)\n",
    "\n",
    "stopwords = [stopwords.text for stopwords in nlp(text) if stopwords.is_stop]\n",
    "# print(stopwords)"
   ]
  },
  {
   "cell_type": "code",
   "execution_count": 21,
   "metadata": {},
   "outputs": [],
   "source": [
    "tokens_spacy_filtered = []\n",
    "\n",
    "for t in tokens:\n",
    "    if t not in STOP_WORDS:\n",
    "        tokens_spacy_filtered.append(t)\n",
    "\n",
    "# print(tokens_spacy_filtered)"
   ]
  },
  {
   "cell_type": "code",
   "execution_count": 22,
   "metadata": {},
   "outputs": [
    {
     "name": "stdout",
     "output_type": "stream",
     "text": [
      "[('s', 305), ('thou', 278), ('d', 237), ('o', 169), ('thy', 164), ('rom', 163), ('romeo', 162), ('love', 151), ('nurse', 150), ('thee', 138)]\n"
     ]
    }
   ],
   "source": [
    "print(Counter(tokens_spacy_filtered).most_common(10))"
   ]
  },
  {
   "cell_type": "code",
   "execution_count": 23,
   "metadata": {},
   "outputs": [
    {
     "data": {
      "text/plain": [
       "15440"
      ]
     },
     "execution_count": 23,
     "metadata": {},
     "output_type": "execute_result"
    }
   ],
   "source": [
    "len(tokens_spacy_filtered)"
   ]
  }
 ],
 "metadata": {
  "interpreter": {
   "hash": "732add9bf382e549494bd37f0bc6a8431f4167bf7609584a1df652bd1b1dd6cf"
  },
  "kernelspec": {
   "display_name": "Python 3.9.2 64-bit",
   "language": "python",
   "name": "python3"
  },
  "language_info": {
   "codemirror_mode": {
    "name": "ipython",
    "version": 3
   },
   "file_extension": ".py",
   "mimetype": "text/x-python",
   "name": "python",
   "nbconvert_exporter": "python",
   "pygments_lexer": "ipython3",
   "version": "3.9.2"
  },
  "orig_nbformat": 4
 },
 "nbformat": 4,
 "nbformat_minor": 2
}
