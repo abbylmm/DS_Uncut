{
 "cells": [
  {
   "cell_type": "markdown",
   "metadata": {},
   "source": [
    "# Facebook Ad Campaign\n",
    "\n",
    "Source of dataset: [Kaggle](https://www.kaggle.com/madislemsalu/facebook-ad-campaign)\n",
    "\n",
    "One of the digital marketing pains is Clicks But No Conversions, possible reason:\n",
    "\n",
    "* Wrong audience targeted --- Age / Gender"
   ]
  },
  {
   "cell_type": "code",
   "execution_count": 5,
   "metadata": {},
   "outputs": [],
   "source": [
    "import pandas as pd\n",
    "import seaborn as sns\n",
    "import matplotlib.pyplot as plt"
   ]
  },
  {
   "cell_type": "code",
   "execution_count": 6,
   "metadata": {},
   "outputs": [],
   "source": [
    "df = pd.read_csv('https://raw.githubusercontent.com/abbylmm/DS_Uncut/main/facebook_ad_campaign.csv?token=APRFPNFVZWC5DFNGBLQTBQ3BQ75JW')"
   ]
  },
  {
   "cell_type": "code",
   "execution_count": 7,
   "metadata": {},
   "outputs": [
    {
     "data": {
      "text/html": [
       "<div>\n",
       "<style scoped>\n",
       "    .dataframe tbody tr th:only-of-type {\n",
       "        vertical-align: middle;\n",
       "    }\n",
       "\n",
       "    .dataframe tbody tr th {\n",
       "        vertical-align: top;\n",
       "    }\n",
       "\n",
       "    .dataframe thead th {\n",
       "        text-align: right;\n",
       "    }\n",
       "</style>\n",
       "<table border=\"1\" class=\"dataframe\">\n",
       "  <thead>\n",
       "    <tr style=\"text-align: right;\">\n",
       "      <th></th>\n",
       "      <th>ad_id</th>\n",
       "      <th>reporting_start</th>\n",
       "      <th>reporting_end</th>\n",
       "      <th>campaign_id</th>\n",
       "      <th>fb_campaign_id</th>\n",
       "      <th>age</th>\n",
       "      <th>gender</th>\n",
       "      <th>interest1</th>\n",
       "      <th>interest2</th>\n",
       "      <th>interest3</th>\n",
       "      <th>impressions</th>\n",
       "      <th>clicks</th>\n",
       "      <th>spent</th>\n",
       "      <th>total_conversion</th>\n",
       "      <th>approved_conversion</th>\n",
       "    </tr>\n",
       "  </thead>\n",
       "  <tbody>\n",
       "    <tr>\n",
       "      <th>0</th>\n",
       "      <td>708746</td>\n",
       "      <td>17/08/2017</td>\n",
       "      <td>17/08/2017</td>\n",
       "      <td>916</td>\n",
       "      <td>103916</td>\n",
       "      <td>30-34</td>\n",
       "      <td>M</td>\n",
       "      <td>15</td>\n",
       "      <td>17</td>\n",
       "      <td>17</td>\n",
       "      <td>7350.0</td>\n",
       "      <td>1</td>\n",
       "      <td>1.43</td>\n",
       "      <td>2.0</td>\n",
       "      <td>1.0</td>\n",
       "    </tr>\n",
       "    <tr>\n",
       "      <th>1</th>\n",
       "      <td>708749</td>\n",
       "      <td>17/08/2017</td>\n",
       "      <td>17/08/2017</td>\n",
       "      <td>916</td>\n",
       "      <td>103917</td>\n",
       "      <td>30-34</td>\n",
       "      <td>M</td>\n",
       "      <td>16</td>\n",
       "      <td>19</td>\n",
       "      <td>21</td>\n",
       "      <td>17861.0</td>\n",
       "      <td>2</td>\n",
       "      <td>1.82</td>\n",
       "      <td>2.0</td>\n",
       "      <td>0.0</td>\n",
       "    </tr>\n",
       "    <tr>\n",
       "      <th>2</th>\n",
       "      <td>708771</td>\n",
       "      <td>17/08/2017</td>\n",
       "      <td>17/08/2017</td>\n",
       "      <td>916</td>\n",
       "      <td>103920</td>\n",
       "      <td>30-34</td>\n",
       "      <td>M</td>\n",
       "      <td>20</td>\n",
       "      <td>25</td>\n",
       "      <td>22</td>\n",
       "      <td>693.0</td>\n",
       "      <td>0</td>\n",
       "      <td>0.00</td>\n",
       "      <td>1.0</td>\n",
       "      <td>0.0</td>\n",
       "    </tr>\n",
       "    <tr>\n",
       "      <th>3</th>\n",
       "      <td>708815</td>\n",
       "      <td>30/08/2017</td>\n",
       "      <td>30/08/2017</td>\n",
       "      <td>916</td>\n",
       "      <td>103928</td>\n",
       "      <td>30-34</td>\n",
       "      <td>M</td>\n",
       "      <td>28</td>\n",
       "      <td>32</td>\n",
       "      <td>32</td>\n",
       "      <td>4259.0</td>\n",
       "      <td>1</td>\n",
       "      <td>1.25</td>\n",
       "      <td>1.0</td>\n",
       "      <td>0.0</td>\n",
       "    </tr>\n",
       "    <tr>\n",
       "      <th>4</th>\n",
       "      <td>708818</td>\n",
       "      <td>17/08/2017</td>\n",
       "      <td>17/08/2017</td>\n",
       "      <td>916</td>\n",
       "      <td>103928</td>\n",
       "      <td>30-34</td>\n",
       "      <td>M</td>\n",
       "      <td>28</td>\n",
       "      <td>33</td>\n",
       "      <td>32</td>\n",
       "      <td>4133.0</td>\n",
       "      <td>1</td>\n",
       "      <td>1.29</td>\n",
       "      <td>1.0</td>\n",
       "      <td>1.0</td>\n",
       "    </tr>\n",
       "  </tbody>\n",
       "</table>\n",
       "</div>"
      ],
      "text/plain": [
       "    ad_id reporting_start reporting_end campaign_id fb_campaign_id    age  \\\n",
       "0  708746      17/08/2017    17/08/2017         916         103916  30-34   \n",
       "1  708749      17/08/2017    17/08/2017         916         103917  30-34   \n",
       "2  708771      17/08/2017    17/08/2017         916         103920  30-34   \n",
       "3  708815      30/08/2017    30/08/2017         916         103928  30-34   \n",
       "4  708818      17/08/2017    17/08/2017         916         103928  30-34   \n",
       "\n",
       "  gender  interest1  interest2  interest3  impressions  clicks  spent  \\\n",
       "0      M         15         17         17       7350.0       1   1.43   \n",
       "1      M         16         19         21      17861.0       2   1.82   \n",
       "2      M         20         25         22        693.0       0   0.00   \n",
       "3      M         28         32         32       4259.0       1   1.25   \n",
       "4      M         28         33         32       4133.0       1   1.29   \n",
       "\n",
       "   total_conversion  approved_conversion  \n",
       "0               2.0                  1.0  \n",
       "1               2.0                  0.0  \n",
       "2               1.0                  0.0  \n",
       "3               1.0                  0.0  \n",
       "4               1.0                  1.0  "
      ]
     },
     "execution_count": 7,
     "metadata": {},
     "output_type": "execute_result"
    }
   ],
   "source": [
    "df.head()"
   ]
  },
  {
   "cell_type": "code",
   "execution_count": 8,
   "metadata": {},
   "outputs": [
    {
     "name": "stdout",
     "output_type": "stream",
     "text": [
      "<class 'pandas.core.frame.DataFrame'>\n",
      "RangeIndex: 1143 entries, 0 to 1142\n",
      "Data columns (total 5 columns):\n",
      " #   Column            Non-Null Count  Dtype  \n",
      "---  ------            --------------  -----  \n",
      " 0   age               1143 non-null   object \n",
      " 1   gender            1143 non-null   object \n",
      " 2   spent             1143 non-null   float64\n",
      " 3   clicks            1143 non-null   int64  \n",
      " 4   total_conversion  761 non-null    float64\n",
      "dtypes: float64(2), int64(1), object(2)\n",
      "memory usage: 44.8+ KB\n"
     ]
    }
   ],
   "source": [
    "# extract columns\n",
    "selected_col = ['age', 'gender', 'spent', 'clicks', 'total_conversion']\n",
    "df2 = df.loc[:,selected_col]\n",
    "df2.info()"
   ]
  },
  {
   "cell_type": "code",
   "execution_count": 9,
   "metadata": {},
   "outputs": [
    {
     "data": {
      "text/plain": [
       "array(['30-34', '35-39', '40-44', '45-49', '10', '15', '16', '18', '19',\n",
       "       '20', '21', '22', '23', '24', '25', '26', '27', '28', '29', '31',\n",
       "       '32', '36', '63', '64', '65', '2', '66', '30', '7', '100', '101',\n",
       "       '102', '103', '105', '107', '110', '111', '112', '113', '108',\n",
       "       '109', '114', '104', '106'], dtype=object)"
      ]
     },
     "execution_count": 9,
     "metadata": {},
     "output_type": "execute_result"
    }
   ],
   "source": [
    "df2['age'].unique()\n",
    "\n",
    "# discrepancies between range and categorical"
   ]
  },
  {
   "cell_type": "code",
   "execution_count": 10,
   "metadata": {},
   "outputs": [],
   "source": [
    "options = ['30-34', '35-39', '40-44', '45-49']\n",
    "\n",
    "# selecting rows based on condition\n",
    "df3 = df2.loc[df2['age'].isin(options)]"
   ]
  },
  {
   "cell_type": "code",
   "execution_count": 11,
   "metadata": {},
   "outputs": [
    {
     "data": {
      "text/plain": [
       "array(['30-34', '35-39', '40-44', '45-49'], dtype=object)"
      ]
     },
     "execution_count": 11,
     "metadata": {},
     "output_type": "execute_result"
    }
   ],
   "source": [
    "df3['age'].unique()"
   ]
  },
  {
   "cell_type": "code",
   "execution_count": 12,
   "metadata": {},
   "outputs": [
    {
     "name": "stdout",
     "output_type": "stream",
     "text": [
      "['30-34' '35-39' '40-44' '45-49']\n",
      "['M' 'F']\n",
      "[1.42999995e+00 1.82000002e+00 0.00000000e+00 1.25000000e+00\n",
      " 1.28999996e+00 4.76999998e+00 1.26999998e+00 1.50000000e+00\n",
      " 3.15999997e+00 1.02800002e+01 5.69999993e-01 1.69000006e+00\n",
      " 4.63000011e+00 2.60999990e+00 3.04999995e+00 3.05999994e+00\n",
      " 2.98000002e+00 5.52000010e+00 8.47000015e+00 1.58200002e+01\n",
      " 1.47000003e+00 1.52999997e+00 1.80699997e+01 1.61000001e+00\n",
      " 1.19000006e+00 9.22000027e+00 1.50999999e+00 9.43000007e+00\n",
      " 6.96000004e+00 1.22000003e+00 2.79999995e+00 1.60000002e+00\n",
      " 1.12999999e+00 5.73000002e+00 9.38000000e+00 5.63000000e+00\n",
      " 3.84000003e+00 1.03999996e+00 1.46000004e+00 2.83999991e+00\n",
      " 1.35000002e+00 5.75000000e+00 3.98000002e+00 4.44999993e+00\n",
      " 1.32000005e+00 4.09000003e+00 1.00300001e+01 4.25000000e+00\n",
      " 2.02900003e+01 1.38999999e+00 4.44000006e+00 1.57000005e+00\n",
      " 1.40999997e+00 3.33300000e+01 3.34000009e+00 8.05000007e+00\n",
      " 5.21000004e+00 2.34999996e+00 1.93299996e+01 1.45000005e+00\n",
      " 4.05000007e+00 3.29799998e+01 3.12899995e+01 8.78999996e+00\n",
      " 9.11999989e+00 6.26000011e+00 3.86400000e+01 2.39999995e-01\n",
      " 1.09000003e+00 2.68000007e+00 3.00999999e+00 1.58000004e+00\n",
      " 1.40600004e+01 2.90000010e+00 1.59000003e+00 4.59000015e+00\n",
      " 5.40000021e-01 1.34100001e+01 8.60000014e-01 1.07700005e+01\n",
      " 5.59000015e+00 5.81600004e+01 1.06199998e+01 5.46000004e+00\n",
      " 2.01799998e+01 1.76379998e+02 3.43900005e+01 5.49000001e+00\n",
      " 1.41999996e+00 5.19700003e+01 3.19000006e+00 1.96000004e+00\n",
      " 6.00000024e-01 1.14999998e+00 3.18000007e+00 9.80000019e-01\n",
      " 1.48000005e+00 2.93999994e+00 4.60000002e+00 2.66999996e+00\n",
      " 1.09600005e+01 2.35999990e+00 7.35000014e+00 9.34000003e+00\n",
      " 4.61999989e+00 8.50000000e+00 2.42000008e+00 2.95000005e+00\n",
      " 3.72000003e+00 4.44999981e+00 1.30700002e+01 1.08499997e+01\n",
      " 1.20600001e+01 8.86000013e+00 2.77299995e+01 7.34999990e+00\n",
      " 2.65300004e+01 3.94299998e+01 4.79300003e+01 6.03999996e+00\n",
      " 2.36999989e+00 6.34000015e+00 5.32199995e+01 3.57999995e+01\n",
      " 1.80220001e+02 7.64100006e+01 9.54999995e+00 1.80200000e+01\n",
      " 1.33700000e+01 4.59000003e+00 2.58600000e+01 4.90000010e-01\n",
      " 1.67999995e+00 2.54199994e+01 3.31000006e+00 1.54999995e+00\n",
      " 5.43999994e+00 8.16099979e+01 4.98999989e+00 3.17099998e+01\n",
      " 2.55200005e+01 4.25999999e+00 1.83000004e+00 2.80999994e+00\n",
      " 1.10499997e+01 7.22999978e+00 4.26999986e+00 9.47999990e+00\n",
      " 2.89000010e+00 1.05699997e+01 3.20000005e+00 9.70000029e-01\n",
      " 4.37000000e+00 1.80999994e+00 3.31999993e+00 1.17999995e+00\n",
      " 4.73000002e+00 1.37999999e+00 1.25999999e+00 3.57999992e+00\n",
      " 6.27999997e+00 1.21000004e+00 4.66300001e+01 3.44400001e+01\n",
      " 9.21999979e+00 7.71999991e+00 1.80000007e-01 5.38999987e+00\n",
      " 5.77999985e+00 9.90000010e-01 1.27999997e+00 5.27999997e+00\n",
      " 1.04999995e+00 1.34000003e+00 1.04299998e+01 6.09999990e+00\n",
      " 1.96599995e+01 5.61900008e+01 6.02999985e+00 9.59999979e-01\n",
      " 2.61999994e+00 1.36000001e+00 6.05000019e+00 1.98800003e+01\n",
      " 4.52999997e+00 6.77999985e+00 3.09000003e+00 3.14000010e+00\n",
      " 7.54000020e+00 3.41500001e+01 3.95999992e+00 2.65000010e+00\n",
      " 8.17999983e+00 4.13000011e+00 7.20000029e-01 1.91000004e+01\n",
      " 2.75000000e+00 4.12900007e+01 9.41000032e+00 1.34099999e+01\n",
      " 9.49999988e-01 3.22900000e+01 1.73000002e+00 8.89999986e-01\n",
      " 1.02299999e+01 4.42999983e+00 3.82999992e+00 1.11000001e+00\n",
      " 5.34999990e+00 3.95000005e+00 4.01999998e+00 1.33000004e+00\n",
      " 3.08999991e+00 6.01999998e+00 1.23000002e+00 7.70799997e+01\n",
      " 9.32999992e+00 1.37000001e+00 5.90999997e+00 6.91000009e+00\n",
      " 9.53999996e+00 1.73000004e+01 1.30999994e+00 4.07999992e+00\n",
      " 1.79299999e+01 4.56999993e+00 2.26999998e+00 1.02999997e+00\n",
      " 3.61300004e+01 1.53999996e+00 5.90699999e+01 7.81000006e+00\n",
      " 2.85000000e+01 1.00799999e+01 6.79799998e+01 1.63999999e+00\n",
      " 5.29999971e-01 1.44000006e+00 3.91999996e+00 4.94400001e+01\n",
      " 4.18000007e+00 3.74999988e+00 2.73000002e+00 2.32000005e+00\n",
      " 6.16999996e+00 4.94000006e+00 3.92500010e+01 1.25100004e+01\n",
      " 4.55000019e+00 8.91000009e+00 4.30000019e+00 2.86999994e+00\n",
      " 1.55999994e+00 3.21000004e+00 1.51999998e+00 4.32999992e+00\n",
      " 1.07000005e+00 4.65999985e+00 2.72000003e+00 4.28999996e+00\n",
      " 3.25000000e+00 2.61999989e+00 1.23900003e+01 3.15000010e+00\n",
      " 1.19499998e+01 1.48000002e+00 7.26999998e+00 4.09999996e-01\n",
      " 6.07999992e+00 2.09999990e+00 2.96000004e+00 1.23699999e+01\n",
      " 2.54049996e+02 1.22400000e+02 8.63300011e+01 1.61909999e+02\n",
      " 1.82000005e+00 2.36769999e+02 6.39949998e+02 5.29700001e+01\n",
      " 3.60150001e+02 1.65200001e+01 1.63899997e+02 2.10360001e+02\n",
      " 3.57300003e+01 2.15839999e+02 3.80000007e+00 9.68000005e+01\n",
      " 1.57329998e+02 2.65699995e+01 9.30899999e+01 7.89200002e+01\n",
      " 1.03150000e+02 3.65300002e+01 2.88500000e+01 2.57709999e+02\n",
      " 7.22000015e+00 7.89999998e+00 6.20600004e+01 1.41400005e+01\n",
      " 2.37300003e+01 1.71000004e+00 9.44000006e+00 2.77999992e+01\n",
      " 6.76500006e+01 3.24000001e+00 5.22600001e+01 1.30400002e+01\n",
      " 3.83899998e+01 1.38770000e+02 2.60380001e+02 8.54999995e+00\n",
      " 1.56300002e+01 6.01999996e+01 3.41900001e+01 5.14000011e+00\n",
      " 2.16559998e+02 9.30700004e+01 5.60599992e+01 5.40999987e+01\n",
      " 7.80000007e+00 5.22000003e+00 3.58550003e+02 2.80990000e+02\n",
      " 1.15120001e+02 2.19770002e+02 5.20199999e+01 3.53099999e+01\n",
      " 6.33200010e+01 5.42400004e+01 6.52300000e+01 4.21000004e+00\n",
      " 4.86099998e+01 1.39199997e+01 1.10599997e+01 8.74200008e+01\n",
      " 1.65999997e+00 6.74000001e+00 8.22000027e+00 5.58000004e+00\n",
      " 9.22999990e+00 3.42299997e+01 3.14999998e+00 2.02099994e+01\n",
      " 5.94399998e+01 3.85899997e+01 2.18499998e+01 2.23200001e+01\n",
      " 1.10239999e+02 2.97500005e+01 1.84700002e+01 3.62400003e+01\n",
      " 7.64399996e+01 1.18000002e+01 2.68199998e+01 6.56700012e+01\n",
      " 3.22400003e+01 2.45600000e+02 1.76400001e+01 3.85499994e+01\n",
      " 4.07599995e+01 6.37000000e+00 8.97600005e+01 1.61500001e+01\n",
      " 1.89129998e+02 8.52999985e+00 6.77700013e+01 9.68999989e+01\n",
      " 3.71300001e+01 5.31599996e+01 1.92930000e+02 2.36119999e+02\n",
      " 1.25700002e+01 1.25800004e+01 2.80499996e+01 8.34800012e+01\n",
      " 3.04799999e+01 2.02999998e+01 1.31579998e+02 1.46299999e+01\n",
      " 6.44699993e+01 3.01500006e+01 6.22500002e+01 7.80399998e+01\n",
      " 3.40000010e+00 1.48300004e+01 2.24299998e+01 4.41400003e+01\n",
      " 6.96600000e+01 1.62700000e+01 5.78999990e+00 4.20800002e+01\n",
      " 6.76699998e+01 3.40700009e+01 4.17199997e+01 1.95699998e+01\n",
      " 5.73700000e+01 1.73699997e+01 1.00289999e+02 3.70999992e+00\n",
      " 2.32099998e+01 1.77889999e+02 6.67700001e+01 3.26800000e+01\n",
      " 4.20579998e+02 8.75500007e+01 2.32370001e+02 1.50140001e+02\n",
      " 9.64800007e+01 9.55100013e+01 7.23100003e+01 9.20999992e+00\n",
      " 2.54250004e+02 1.11700003e+01 3.42300003e+01 2.52600001e+01\n",
      " 1.13990001e+02 1.21099998e+02 9.87000002e+01 8.80000007e+00\n",
      " 9.92999995e+00 5.33899994e+01 3.76999998e+00 2.41799999e+01\n",
      " 7.68999997e+01 1.45200001e+01 3.61700005e+01 3.84400008e+01\n",
      " 6.19300000e+01 7.04100008e+01 3.75999999e+01 2.05900003e+01\n",
      " 2.47800002e+01 2.95399994e+01 3.78499998e+01 2.29000002e+00\n",
      " 2.41900003e+01 8.51999998e+00 1.63360000e+02 5.81400000e+01\n",
      " 2.93099998e+01 1.16340000e+02 6.08999991e+01 4.00200009e+01\n",
      " 2.60069998e+02 3.59470000e+02 1.05710000e+02 1.06600001e+01\n",
      " 1.43300001e+02 6.50299985e+01 1.17560000e+02 1.43430000e+02\n",
      " 9.65999985e+00 1.24799999e+02 9.85500002e+01 4.07700002e+01\n",
      " 1.34880000e+02 1.93599999e+01 4.30100003e+01 4.26299998e+01\n",
      " 7.57899998e+01 7.71000004e+00 1.40399998e+01 3.98599997e+01\n",
      " 3.67799996e+01 5.48699995e+01 8.77899996e+01 6.73000002e+00\n",
      " 7.68399993e+01 1.55399997e+01 1.76700001e+01 4.96000001e+01\n",
      " 5.32699990e+01 1.26930000e+02 1.79620001e+02 3.84200004e+01\n",
      " 5.85999999e+01 3.97299998e+01 1.91100000e+01 1.58100002e+01\n",
      " 1.40970002e+02 6.07600002e+01 1.35100001e+01 5.51000000e+01\n",
      " 1.26300001e+01 8.13600002e+01 1.64700000e+01 3.10300000e+01\n",
      " 6.07299997e+01 7.48300014e+01 7.48000002e+00 3.64800005e+01\n",
      " 6.80600005e+01 7.88000000e+00 1.23550000e+02 1.35750001e+02\n",
      " 1.16880000e+02 3.65660001e+02]\n",
      "[  1   2   0   3   7   4  12  14   5  13  24   6  23  20  28  10   9  36\n",
      "  15 116  27  38   8  21  19  25  34 114  48  11  16  55  33  56  26  41\n",
      "  49  29 141  67  50  86 123 340  30 202  95 120  89  54  46  58  22 152\n",
      "  35  31  80 145  53 206 159  65 128  32  39  43  66 142  51 100 118  68\n",
      "  37  42  40  18  59 103 233  52 125  84 147  63  64  91  69 205  82  71\n",
      "  81  75  85  44  77 221]\n",
      "[ 2.  1.  4.  3.  0.  5. 28. 13. 11. 24. 60.  7. 40. 26.  6. 20.  9. 23.\n",
      " 22. 31. 10.  8. 17. 15.]\n"
     ]
    }
   ],
   "source": [
    "for column in df3:\n",
    "    print(df3[column].unique())"
   ]
  },
  {
   "cell_type": "code",
   "execution_count": 13,
   "metadata": {},
   "outputs": [
    {
     "name": "stdout",
     "output_type": "stream",
     "text": [
      "<class 'pandas.core.frame.DataFrame'>\n",
      "Int64Index: 761 entries, 0 to 760\n",
      "Data columns (total 5 columns):\n",
      " #   Column            Non-Null Count  Dtype  \n",
      "---  ------            --------------  -----  \n",
      " 0   age               761 non-null    object \n",
      " 1   gender            761 non-null    object \n",
      " 2   spent             761 non-null    float64\n",
      " 3   clicks            761 non-null    int64  \n",
      " 4   total_conversion  761 non-null    float64\n",
      "dtypes: float64(2), int64(1), object(2)\n",
      "memory usage: 35.7+ KB\n"
     ]
    }
   ],
   "source": [
    "df3.info()"
   ]
  },
  {
   "cell_type": "code",
   "execution_count": 14,
   "metadata": {},
   "outputs": [
    {
     "data": {
      "text/html": [
       "<div>\n",
       "<style scoped>\n",
       "    .dataframe tbody tr th:only-of-type {\n",
       "        vertical-align: middle;\n",
       "    }\n",
       "\n",
       "    .dataframe tbody tr th {\n",
       "        vertical-align: top;\n",
       "    }\n",
       "\n",
       "    .dataframe thead th {\n",
       "        text-align: right;\n",
       "    }\n",
       "</style>\n",
       "<table border=\"1\" class=\"dataframe\">\n",
       "  <thead>\n",
       "    <tr style=\"text-align: right;\">\n",
       "      <th></th>\n",
       "      <th>spent</th>\n",
       "      <th>clicks</th>\n",
       "      <th>total_conversion</th>\n",
       "    </tr>\n",
       "  </thead>\n",
       "  <tbody>\n",
       "    <tr>\n",
       "      <th>count</th>\n",
       "      <td>761.000000</td>\n",
       "      <td>761.000000</td>\n",
       "      <td>761.000000</td>\n",
       "    </tr>\n",
       "    <tr>\n",
       "      <th>mean</th>\n",
       "      <td>25.782181</td>\n",
       "      <td>15.340342</td>\n",
       "      <td>2.161629</td>\n",
       "    </tr>\n",
       "    <tr>\n",
       "      <th>std</th>\n",
       "      <td>57.622334</td>\n",
       "      <td>32.715738</td>\n",
       "      <td>4.062201</td>\n",
       "    </tr>\n",
       "    <tr>\n",
       "      <th>min</th>\n",
       "      <td>0.000000</td>\n",
       "      <td>0.000000</td>\n",
       "      <td>0.000000</td>\n",
       "    </tr>\n",
       "    <tr>\n",
       "      <th>25%</th>\n",
       "      <td>0.000000</td>\n",
       "      <td>0.000000</td>\n",
       "      <td>1.000000</td>\n",
       "    </tr>\n",
       "    <tr>\n",
       "      <th>50%</th>\n",
       "      <td>3.580000</td>\n",
       "      <td>3.000000</td>\n",
       "      <td>1.000000</td>\n",
       "    </tr>\n",
       "    <tr>\n",
       "      <th>75%</th>\n",
       "      <td>23.210000</td>\n",
       "      <td>14.000000</td>\n",
       "      <td>2.000000</td>\n",
       "    </tr>\n",
       "    <tr>\n",
       "      <th>max</th>\n",
       "      <td>639.949998</td>\n",
       "      <td>340.000000</td>\n",
       "      <td>60.000000</td>\n",
       "    </tr>\n",
       "  </tbody>\n",
       "</table>\n",
       "</div>"
      ],
      "text/plain": [
       "            spent      clicks  total_conversion\n",
       "count  761.000000  761.000000        761.000000\n",
       "mean    25.782181   15.340342          2.161629\n",
       "std     57.622334   32.715738          4.062201\n",
       "min      0.000000    0.000000          0.000000\n",
       "25%      0.000000    0.000000          1.000000\n",
       "50%      3.580000    3.000000          1.000000\n",
       "75%     23.210000   14.000000          2.000000\n",
       "max    639.949998  340.000000         60.000000"
      ]
     },
     "execution_count": 14,
     "metadata": {},
     "output_type": "execute_result"
    }
   ],
   "source": [
    "df3.describe()"
   ]
  },
  {
   "cell_type": "code",
   "execution_count": 15,
   "metadata": {},
   "outputs": [
    {
     "data": {
      "text/html": [
       "<div>\n",
       "<style scoped>\n",
       "    .dataframe tbody tr th:only-of-type {\n",
       "        vertical-align: middle;\n",
       "    }\n",
       "\n",
       "    .dataframe tbody tr th {\n",
       "        vertical-align: top;\n",
       "    }\n",
       "\n",
       "    .dataframe thead th {\n",
       "        text-align: right;\n",
       "    }\n",
       "</style>\n",
       "<table border=\"1\" class=\"dataframe\">\n",
       "  <thead>\n",
       "    <tr style=\"text-align: right;\">\n",
       "      <th></th>\n",
       "      <th>spent</th>\n",
       "      <th>clicks</th>\n",
       "      <th>total_conversion</th>\n",
       "    </tr>\n",
       "    <tr>\n",
       "      <th>age</th>\n",
       "      <th></th>\n",
       "      <th></th>\n",
       "      <th></th>\n",
       "    </tr>\n",
       "  </thead>\n",
       "  <tbody>\n",
       "    <tr>\n",
       "      <th>30-34</th>\n",
       "      <td>23.526667</td>\n",
       "      <td>13.556575</td>\n",
       "      <td>2.721713</td>\n",
       "    </tr>\n",
       "    <tr>\n",
       "      <th>35-39</th>\n",
       "      <td>28.586222</td>\n",
       "      <td>16.694444</td>\n",
       "      <td>1.983333</td>\n",
       "    </tr>\n",
       "    <tr>\n",
       "      <th>40-44</th>\n",
       "      <td>31.205971</td>\n",
       "      <td>19.136691</td>\n",
       "      <td>1.690647</td>\n",
       "    </tr>\n",
       "    <tr>\n",
       "      <th>45-49</th>\n",
       "      <td>21.251043</td>\n",
       "      <td>13.704348</td>\n",
       "      <td>1.417391</td>\n",
       "    </tr>\n",
       "  </tbody>\n",
       "</table>\n",
       "</div>"
      ],
      "text/plain": [
       "           spent     clicks  total_conversion\n",
       "age                                          \n",
       "30-34  23.526667  13.556575          2.721713\n",
       "35-39  28.586222  16.694444          1.983333\n",
       "40-44  31.205971  19.136691          1.690647\n",
       "45-49  21.251043  13.704348          1.417391"
      ]
     },
     "execution_count": 15,
     "metadata": {},
     "output_type": "execute_result"
    }
   ],
   "source": [
    "df3.groupby('age').mean()"
   ]
  },
  {
   "cell_type": "code",
   "execution_count": 16,
   "metadata": {},
   "outputs": [
    {
     "data": {
      "text/html": [
       "<div>\n",
       "<style scoped>\n",
       "    .dataframe tbody tr th:only-of-type {\n",
       "        vertical-align: middle;\n",
       "    }\n",
       "\n",
       "    .dataframe tbody tr th {\n",
       "        vertical-align: top;\n",
       "    }\n",
       "\n",
       "    .dataframe thead th {\n",
       "        text-align: right;\n",
       "    }\n",
       "</style>\n",
       "<table border=\"1\" class=\"dataframe\">\n",
       "  <thead>\n",
       "    <tr style=\"text-align: right;\">\n",
       "      <th></th>\n",
       "      <th>spent</th>\n",
       "      <th>clicks</th>\n",
       "      <th>total_conversion</th>\n",
       "    </tr>\n",
       "    <tr>\n",
       "      <th>gender</th>\n",
       "      <th></th>\n",
       "      <th></th>\n",
       "      <th></th>\n",
       "    </tr>\n",
       "  </thead>\n",
       "  <tbody>\n",
       "    <tr>\n",
       "      <th>F</th>\n",
       "      <td>8.909855</td>\n",
       "      <td>6.127273</td>\n",
       "      <td>1.170909</td>\n",
       "    </tr>\n",
       "    <tr>\n",
       "      <th>M</th>\n",
       "      <td>35.329280</td>\n",
       "      <td>20.553498</td>\n",
       "      <td>2.722222</td>\n",
       "    </tr>\n",
       "  </tbody>\n",
       "</table>\n",
       "</div>"
      ],
      "text/plain": [
       "            spent     clicks  total_conversion\n",
       "gender                                        \n",
       "F        8.909855   6.127273          1.170909\n",
       "M       35.329280  20.553498          2.722222"
      ]
     },
     "execution_count": 16,
     "metadata": {},
     "output_type": "execute_result"
    }
   ],
   "source": [
    "df3.groupby('gender').mean()"
   ]
  },
  {
   "cell_type": "markdown",
   "metadata": {},
   "source": [
    "### Data Visualization"
   ]
  },
  {
   "cell_type": "code",
   "execution_count": 17,
   "metadata": {},
   "outputs": [
    {
     "data": {
      "image/png": "[encoded data removed]",
      "text/plain": [
       "<Figure size 360x360 with 1 Axes>"
      ]
     },
     "metadata": {},
     "output_type": "display_data"
    }
   ],
   "source": [
    "sns.set(rc={'figure.figsize':(5,5)})\n",
    "fb = sns.countplot(x='age', data=df3, order=df3['age'].value_counts().index)"
   ]
  },
  {
   "cell_type": "code",
   "execution_count": 18,
   "metadata": {},
   "outputs": [
    {
     "data": {
      "text/plain": [
       "Text(0.5, 1.0, 'Clicks vs Conversion')"
      ]
     },
     "execution_count": 18,
     "metadata": {},
     "output_type": "execute_result"
    },
    {
     "data": {
      "image/png": "[encoded data removed]",
      "text/plain": [
       "<Figure size 360x360 with 1 Axes>"
      ]
     },
     "metadata": {},
     "output_type": "display_data"
    }
   ],
   "source": [
    "sns.scatterplot(x=\"clicks\", y=\"total_conversion\", data=df3)\n",
    "plt.xlabel(\"clicks\", size=11)\n",
    "plt.ylabel(\"total_conversion\", size=11)\n",
    "plt.title(\"Clicks vs Conversion\", size=18)"
   ]
  },
  {
   "cell_type": "markdown",
   "metadata": {},
   "source": [
    "**Conclusion:**\n",
    "\n",
    "- Highest average total conversion is Facebook users aged 30-34\n",
    "- Highest average amount spent and clicks is Male users aged 40-44 (although total conversion is lower)\n",
    "- Clicks below 50 is optimal"
   ]
  }
 ],
 "metadata": {
  "interpreter": {
   "hash": "732add9bf382e549494bd37f0bc6a8431f4167bf7609584a1df652bd1b1dd6cf"
  },
  "kernelspec": {
   "display_name": "Python 3.9.2 64-bit",
   "language": "python",
   "name": "python3"
  },
  "language_info": {
   "codemirror_mode": {
    "name": "ipython",
    "version": 3
   },
   "file_extension": ".py",
   "mimetype": "text/x-python",
   "name": "python",
   "nbconvert_exporter": "python",
   "pygments_lexer": "ipython3",
   "version": "3.9.2"
  },
  "orig_nbformat": 4
 },
 "nbformat": 4,
 "nbformat_minor": 2
}
