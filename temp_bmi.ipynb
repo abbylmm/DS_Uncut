{
 "cells": [
  {
   "cell_type": "markdown",
   "metadata": {},
   "source": [
    "### Temperature Conversion (Celsius & Fahrenheit)"
   ]
  },
  {
   "cell_type": "code",
   "execution_count": 2,
   "metadata": {},
   "outputs": [
    {
     "name": "stdout",
     "output_type": "stream",
     "text": [
      "0°C equal to 32.00°F\n",
      "0°F equal to -17.78°C\n",
      "15°C equal to 59.00°F\n",
      "90°F equal to 32.22°C\n"
     ]
    }
   ],
   "source": [
    "temperature = [\"0C\", \"0F\", \"15C\", \"90F\"]\n",
    "\n",
    "for i in range(len(temperature)):\n",
    "  symbol = temperature[i][-1]\n",
    "  input = temperature[i][:-1]\n",
    "\n",
    "  if symbol == \"C\":\n",
    "    #(0°C × 9/5) + 32 = 32°F\n",
    "    fahrenheit = int(input)*(9/5)+32\n",
    "    mytemp = \"{}°C equal to {:.2f}°F\"\n",
    "    print(mytemp.format(input, fahrenheit))\n",
    "\n",
    "  elif symbol == \"F\":\n",
    "    #(32°F − 32) × 5/9 = 0°C\n",
    "    celsius = (int(input)-32)*5/9\n",
    "    mytemp = \"{}°F equal to {:.2f}°C\"\n",
    "    print(mytemp.format(input, celsius))\n"
   ]
  },
  {
   "cell_type": "markdown",
   "metadata": {},
   "source": [
    "### Body Mass Index (BMI)"
   ]
  },
  {
   "cell_type": "code",
   "execution_count": 3,
   "metadata": {},
   "outputs": [],
   "source": [
    "p1 = {\"person\":\"David\", \"gender\":\"M\", \"height\":168, \"weight\":58}\n",
    "p2 = {\"person\":\"Judy\", \"gender\":\"F\", \"height\":157, \"weight\":42}\n",
    "p3 = {\"person\":\"Ken\", \"gender\":\"M\", \"height\":172, \"weight\":85}\n",
    "\n",
    "nested_people = {\n",
    "      \"David\":{\"gender\":\"M\", \"height\":168, \"weight\":58},\n",
    "      \"Judy\":{\"gender\":\"F\", \"height\":157, \"weight\":42},\n",
    "      \"Ken\":{\"gender\":\"M\", \"height\":172, \"weight\":85}\n",
    "}"
   ]
  },
  {
   "cell_type": "code",
   "execution_count": 4,
   "metadata": {},
   "outputs": [
    {
     "name": "stdout",
     "output_type": "stream",
     "text": [
      "\n",
      " David\n",
      "gender : M\n",
      "height : 168\n",
      "weight : 58\n",
      "\n",
      " Judy\n",
      "gender : F\n",
      "height : 157\n",
      "weight : 42\n",
      "\n",
      " Ken\n",
      "gender : M\n",
      "height : 172\n",
      "weight : 85\n"
     ]
    }
   ],
   "source": [
    "for x in nested_people:\n",
    "    print(\"\\n\",x)\n",
    "    for y in nested_people[x]:\n",
    "        print (y,':',nested_people[x][y])"
   ]
  },
  {
   "cell_type": "code",
   "execution_count": 5,
   "metadata": {},
   "outputs": [
    {
     "name": "stdout",
     "output_type": "stream",
     "text": [
      "David :\n",
      "BMI is 20.55 and he/she is\u001b[1m Healthy, Maintain :D \u001b[0m \n",
      "\n",
      "Judy :\n",
      "BMI is 17.04 and he/she is\u001b[1m Underweight, Eat More :( \u001b[0m \n",
      "\n",
      "Ken :\n",
      "BMI is 28.73 and he/she is\u001b[1m Overweight, Eat Less :( \u001b[0m \n",
      "\n"
     ]
    }
   ],
   "source": [
    "people = [p1, p2, p3]\n",
    "\n",
    "for i in people:\n",
    "\n",
    "  p = i['person']\n",
    "  gender = i['gender']\n",
    "  m = i['height'] / 100\n",
    "  kg = i['weight']\n",
    "\n",
    "  BMI = kg / (m*m)\n",
    "  format_BMI = float(\"{:.2f}\".format(BMI))\n",
    "  #print(format_BMI)\n",
    "  #print(type(format_BMI)) \n",
    " \n",
    "  if gender == \"M\" or gender == \"F\":\n",
    "    if BMI <= 18.5:\n",
    "      result = \"Underweight, Eat More :(\"\n",
    "    elif BMI > 18.5 and BMI <= 24.9:\n",
    "      result = \"Healthy, Maintain :D\"\n",
    "    elif BMI > 25.0 and BMI <= 29.9:\n",
    "      result = \"Overweight, Eat Less :(\"\n",
    "    elif BMI > 30.0:\n",
    "      result = \"Obese, Please Diet :(\"\n",
    "    else:\n",
    "      result = \"Error 404\"\n",
    "\n",
    "    print(f\"{p}\", \":\")\n",
    "    myresult = \"BMI is {} and he/she is\\033[1m {} \\033[0m \\n\"\n",
    "    print(myresult.format(format_BMI, result))"
   ]
  }
 ],
 "metadata": {
  "interpreter": {
   "hash": "732add9bf382e549494bd37f0bc6a8431f4167bf7609584a1df652bd1b1dd6cf"
  },
  "kernelspec": {
   "display_name": "Python 3.9.2 64-bit",
   "language": "python",
   "name": "python3"
  },
  "language_info": {
   "codemirror_mode": {
    "name": "ipython",
    "version": 3
   },
   "file_extension": ".py",
   "mimetype": "text/x-python",
   "name": "python",
   "nbconvert_exporter": "python",
   "pygments_lexer": "ipython3",
   "version": "3.9.2"
  },
  "orig_nbformat": 4
 },
 "nbformat": 4,
 "nbformat_minor": 2
}
