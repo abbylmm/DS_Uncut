{
 "cells": [
  {
   "cell_type": "markdown",
   "metadata": {},
   "source": [
    "# Analyse Sentiments using NLTK\n",
    "\n",
    "Ratings & Reviews of Maya Chair - [Lazada](https://www.lazada.com.my/products/maya-chair-ergonomic-med-breathable-and-comfortable-back-office-chair-chrome-leg-i1707076057-s6482924133.html?spm=a2o4k.searchlistcategory.list.28.5ec61d76ZOKD5X&search=1&freeshipping=1)\n"
   ]
  },
  {
   "cell_type": "code",
   "execution_count": 200,
   "metadata": {},
   "outputs": [
    {
     "name": "stderr",
     "output_type": "stream",
     "text": [
      "[nltk_data] Downloading package vader_lexicon to\n",
      "[nltk_data]     C:\\Users\\munmun\\AppData\\Roaming\\nltk_data...\n",
      "[nltk_data]   Package vader_lexicon is already up-to-date!\n"
     ]
    }
   ],
   "source": [
    "import nltk\n",
    "from nltk.sentiment.vader import SentimentIntensityAnalyzer\n",
    "nltk.download('vader_lexicon')\n",
    "analyzer = SentimentIntensityAnalyzer()"
   ]
  },
  {
   "cell_type": "code",
   "execution_count": 201,
   "metadata": {},
   "outputs": [],
   "source": [
    "# rated 5 stars & 4 stars\n",
    "\n",
    "above_average = [\n",
    "'''superb...!! i buy as a present for my husband.. now his pc room are completely, so he can gaming nicely..very recommend although only this colour they have, overall very nice..''', \n",
    "'''Fast shipping, 2 days arrived. Price is the cheapest for the similar model, and offers more colour choices. Quality is acceptable at this price, but it's a bit more difficult to assemble compared to models sold by other seller.''', \n",
    "'''This product is valuable for money. Sitting on it feels comfortable and no defects for this price. Overall quite satisfied.''', \n",
    "'''suitable for kids.. not really for adults... find it abit \"not so strong and stable\"... anyway, no complain. my girl enjoyed sitting and rolling on it.'''\n",
    "]\n",
    "\n",
    "# rated 3 stars\n",
    "\n",
    "average = [\n",
    "'''when I set up some hole cannot fixed and cannot up and down the chair \n",
    "After deal with seller I had returned it.\n",
    "but customer service is very good I will buy another one hahaha because this chair quality looks really good''', \n",
    "'''Fast delivery but little defect at the support.''', \n",
    "'''Have sounds when spinning the chair..  and got stains..  seller take time to ship out and the delivery also take a longgggg time, I'm so frustrated with lazada nowadays..''', \n",
    "'''It's missing part F, and one of the screws (Part I) cannot be properly screwed into the given hole underneath the chair cushion, so the chair assembled was not so balanced, abit shaky while sitting on it, and the chair height was unadjusted due to missing part F... Wonder if the seller can send the part F to me? Thanks'''\n",
    "]\n",
    "\n",
    "# rated 2 stars and 1 star\n",
    "\n",
    "below_average = [\n",
    "'''Very very dissatisfied with this seller. Already chat to help to check the chair in good condition before sent but  what I received was a lot of scratched. And got a lot of sound when moving.''', \n",
    "'''Doesn't look sturdy. The roller part edges super sharp, may cut your feet into deep cut. Wrapped with foam on each chair's leg. 😩😩..''', \n",
    "'''I should have read all the comments before purchase. Some parts looks old and lot scratches, like defect or rejected stocks. The back seat holes alignment out, not able to put on all the screw nuts.Waiting seller to reply on next action.''', \n",
    "'''Low product quality. Scratches on the chair, the seat netting defects. It seemed like 2nd hand / preloved product.'''\n",
    "]\n"
   ]
  },
  {
   "cell_type": "code",
   "execution_count": 202,
   "metadata": {},
   "outputs": [
    {
     "name": "stdout",
     "output_type": "stream",
     "text": [
      "{'neg': 0.0, 'neu': 0.897, 'pos': 0.103, 'compound': 0.4738}\n",
      "{'neg': 0.091, 'neu': 0.868, 'pos': 0.041, 'compound': -0.4659}\n",
      "{'neg': 0.167, 'neu': 0.51, 'pos': 0.323, 'compound': 0.6801}\n",
      "{'neg': 0.242, 'neu': 0.659, 'pos': 0.099, 'compound': -0.5857}\n"
     ]
    }
   ],
   "source": [
    "for i in above_average: \n",
    "    print(analyzer.polarity_scores(i))"
   ]
  },
  {
   "cell_type": "code",
   "execution_count": 203,
   "metadata": {},
   "outputs": [
    {
     "name": "stdout",
     "output_type": "stream",
     "text": [
      "0.125\n",
      "0.1415\n"
     ]
    }
   ],
   "source": [
    "print((0.0 + 0.091 + 0.167 + 0.242) / 4)\n",
    "print((0.103 + 0.041 + 0.323 + 0.099) / 4)"
   ]
  },
  {
   "cell_type": "code",
   "execution_count": 204,
   "metadata": {},
   "outputs": [
    {
     "name": "stdout",
     "output_type": "stream",
     "text": [
      "{'neg': 0.0, 'neu': 0.728, 'pos': 0.272, 'compound': 0.938}\n",
      "{'neg': 0.218, 'neu': 0.491, 'pos': 0.291, 'compound': 0.2238}\n",
      "{'neg': 0.139, 'neu': 0.861, 'pos': 0.0, 'compound': -0.656}\n",
      "{'neg': 0.128, 'neu': 0.79, 'pos': 0.082, 'compound': -0.2583}\n"
     ]
    }
   ],
   "source": [
    "for i in average: \n",
    "    print(analyzer.polarity_scores(i))"
   ]
  },
  {
   "cell_type": "code",
   "execution_count": 205,
   "metadata": {},
   "outputs": [
    {
     "name": "stdout",
     "output_type": "stream",
     "text": [
      "0.12125\n",
      "0.16124999999999998\n"
     ]
    }
   ],
   "source": [
    "print((0.0 + 0.218 + 0.139 + 0.128) / 4)\n",
    "print((0.272 + 0.291 + 0.0 + 0.082) / 4)"
   ]
  },
  {
   "cell_type": "code",
   "execution_count": 206,
   "metadata": {},
   "outputs": [
    {
     "name": "stdout",
     "output_type": "stream",
     "text": [
      "{'neg': 0.058, 'neu': 0.836, 'pos': 0.106, 'compound': 0.1814}\n",
      "{'neg': 0.144, 'neu': 0.722, 'pos': 0.134, 'compound': 0.1779}\n",
      "{'neg': 0.152, 'neu': 0.794, 'pos': 0.054, 'compound': -0.5574}\n",
      "{'neg': 0.196, 'neu': 0.571, 'pos': 0.233, 'compound': 0.2263}\n"
     ]
    }
   ],
   "source": [
    "for i in below_average: \n",
    "    print(analyzer.polarity_scores(i))"
   ]
  },
  {
   "cell_type": "code",
   "execution_count": 207,
   "metadata": {},
   "outputs": [
    {
     "name": "stdout",
     "output_type": "stream",
     "text": [
      "0.1375\n",
      "0.13175\n"
     ]
    }
   ],
   "source": [
    "print((0.058 + 0.144 + 0.152 + 0.196) / 4)\n",
    "print((0.106 + 0.134 + 0.054 + 0.233) / 4)"
   ]
  }
 ],
 "metadata": {
  "interpreter": {
   "hash": "732add9bf382e549494bd37f0bc6a8431f4167bf7609584a1df652bd1b1dd6cf"
  },
  "kernelspec": {
   "display_name": "Python 3.9.2 64-bit",
   "language": "python",
   "name": "python3"
  },
  "language_info": {
   "codemirror_mode": {
    "name": "ipython",
    "version": 3
   },
   "file_extension": ".py",
   "mimetype": "text/x-python",
   "name": "python",
   "nbconvert_exporter": "python",
   "pygments_lexer": "ipython3",
   "version": "3.9.2"
  },
  "orig_nbformat": 4
 },
 "nbformat": 4,
 "nbformat_minor": 2
}
