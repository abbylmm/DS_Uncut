{
 "cells": [
  {
   "cell_type": "markdown",
   "metadata": {},
   "source": [
    "# Analyse Sentiments using NLTK\n",
    "\n",
    "Ratings & Reviews of Maya Chair\n",
    "* [Lazada](https://www.lazada.com.my/products/maya-chair-ergonomic-med-breathable-and-comfortable-back-office-chair-chrome-leg-i1707076057-s6482924133.html?spm=a2o4k.searchlistcategory.list.28.5ec61d76ZOKD5X&search=1&freeshipping=1)\n",
    "* [Reference](https://realpython.com/python-nltk-sentiment-analysis/)\n"
   ]
  },
  {
   "cell_type": "code",
   "execution_count": 7,
   "metadata": {},
   "outputs": [
    {
     "name": "stderr",
     "output_type": "stream",
     "text": [
      "[nltk_data] Downloading package vader_lexicon to\n",
      "[nltk_data]     C:\\Users\\munmun\\AppData\\Roaming\\nltk_data...\n",
      "[nltk_data]   Package vader_lexicon is already up-to-date!\n"
     ]
    }
   ],
   "source": [
    "import nltk\n",
    "from nltk.sentiment.vader import SentimentIntensityAnalyzer\n",
    "nltk.download('vader_lexicon')\n",
    "analyzer = SentimentIntensityAnalyzer()"
   ]
  },
  {
   "cell_type": "code",
   "execution_count": 8,
   "metadata": {},
   "outputs": [],
   "source": [
    "# rated 5 stars and 4 stars\n",
    "\n",
    "above_average = [\n",
    "'''superb...!! i buy as a present for my husband.. now his pc room are completely, so he can gaming nicely.. \n",
    "very recommend although only this colour they have, overall very nice..''', \n",
    "'''Fast shipping, 2 days arrived. Price is the cheapest for the similar model, and offers more colour choices. \n",
    "Quality is acceptable at this price, but it's a bit more difficult to assemble compared to models sold by other seller.''', \n",
    "'''This product is valuable for money. Sitting on it feels comfortable and no defects for this price. Overall quite satisfied.''', \n",
    "'''suitable for kids.. not really for adults... find it abit \"not so strong and stable\"... anyway, no complain. \n",
    "my girl enjoyed sitting and rolling on it.'''\n",
    "]\n",
    "\n",
    "# rated 3 stars\n",
    "\n",
    "average = [\n",
    "'''when I set up some hole cannot fixed and cannot up and down the chair \n",
    "After deal with seller I had returned it. \n",
    "but customer service is very good I will buy another one hahaha because this chair quality looks really good''', \n",
    "'''Fast delivery but little defect at the support.''', \n",
    "'''Have sounds when spinning the chair..  and got stains.. seller take time to ship out and the delivery also take a longgggg time, \n",
    "I'm so frustrated with lazada nowadays..''', \n",
    "'''It's missing part F, and one of the screws (Part I) cannot be properly screwed into the given hole underneath the chair \n",
    "cushion, so the chair assembled was not so balanced, abit shaky while sitting on it, and the chair height was unadjusted \n",
    "due to missing part F... Wonder if the seller can send the part F to me? Thanks'''\n",
    "]\n",
    "\n",
    "# rated 2 stars and 1 star\n",
    "\n",
    "below_average = [\n",
    "'''Very very dissatisfied with this seller. Already chat to help to check the chair in good condition before sent but  \n",
    "what I received was a lot of scratched. And got a lot of sound when moving.''', \n",
    "'''Doesn't look sturdy. The roller part edges super sharp, may cut your feet into deep cut. \n",
    "Wrapped with foam on each chair's leg. 😩😩..''', \n",
    "'''I should have read all the comments before purchase. Some parts looks old and lot scratches, like defect or rejected stocks. \n",
    "The back seat holes alignment out, not able to put on all the screw nuts.Waiting seller to reply on next action.''', \n",
    "'''Low product quality. Scratches on the chair, the seat netting defects. It seemed like 2nd hand / preloved product.'''\n",
    "]\n"
   ]
  },
  {
   "cell_type": "code",
   "execution_count": 9,
   "metadata": {},
   "outputs": [
    {
     "name": "stdout",
     "output_type": "stream",
     "text": [
      "{'neg': 0.0, 'neu': 0.892, 'pos': 0.108, 'compound': 0.5231}\n",
      "{'neg': 0.091, 'neu': 0.868, 'pos': 0.041, 'compound': -0.4659}\n",
      "{'neg': 0.167, 'neu': 0.51, 'pos': 0.323, 'compound': 0.6801}\n",
      "{'neg': 0.242, 'neu': 0.659, 'pos': 0.099, 'compound': -0.5857}\n",
      "{'neg': 0.0, 'neu': 0.728, 'pos': 0.272, 'compound': 0.938}\n",
      "{'neg': 0.218, 'neu': 0.491, 'pos': 0.291, 'compound': 0.2238}\n",
      "{'neg': 0.139, 'neu': 0.861, 'pos': 0.0, 'compound': -0.656}\n",
      "{'neg': 0.128, 'neu': 0.79, 'pos': 0.082, 'compound': -0.2583}\n",
      "{'neg': 0.058, 'neu': 0.836, 'pos': 0.106, 'compound': 0.1814}\n",
      "{'neg': 0.144, 'neu': 0.722, 'pos': 0.134, 'compound': 0.1779}\n",
      "{'neg': 0.152, 'neu': 0.794, 'pos': 0.054, 'compound': -0.5574}\n",
      "{'neg': 0.196, 'neu': 0.571, 'pos': 0.233, 'compound': 0.2263}\n"
     ]
    }
   ],
   "source": [
    "reviews = [above_average, average, below_average]\n",
    "\n",
    "for i in range(3): \n",
    "    for j in reviews[i]: \n",
    "        print(analyzer.polarity_scores(j))"
   ]
  },
  {
   "cell_type": "code",
   "execution_count": 10,
   "metadata": {},
   "outputs": [
    {
     "name": "stdout",
     "output_type": "stream",
     "text": [
      "> True \n",
      " superb...!! i buy as a present for my husband.. now his pc room are completely, so he can gaming nicely.. \n",
      "very recommend although only this colour they have, overall very nice..\n",
      "> False \n",
      " Fast shipping, 2 days arrived. Price is the cheapest for the similar model, and offers more colour choices. \n",
      "Quality is acceptable at this price, but it's a bit more difficult to assemble compared to models sold by other seller.\n",
      "> True \n",
      " This product is valuable for money. Sitting on it feels comfortable and no defects for this price. Overall quite satisfied.\n",
      "> False \n",
      " suitable for kids.. not really for adults... find it abit \"not so strong and stable\"... anyway, no complain. \n",
      "my girl enjoyed sitting and rolling on it.\n",
      "> True \n",
      " when I set up some hole cannot fixed and cannot up and down the chair \n",
      "After deal with seller I had returned it. \n",
      "but customer service is very good I will buy another one hahaha because this chair quality looks really good\n",
      "> True \n",
      " Fast delivery but little defect at the support.\n",
      "> False \n",
      " Have sounds when spinning the chair..  and got stains.. seller take time to ship out and the delivery also take a longgggg time, \n",
      "I'm so frustrated with lazada nowadays..\n",
      "> False \n",
      " It's missing part F, and one of the screws (Part I) cannot be properly screwed into the given hole underneath the chair \n",
      "cushion, so the chair assembled was not so balanced, abit shaky while sitting on it, and the chair height was unadjusted \n",
      "due to missing part F... Wonder if the seller can send the part F to me? Thanks\n",
      "> True \n",
      " Very very dissatisfied with this seller. Already chat to help to check the chair in good condition before sent but  \n",
      "what I received was a lot of scratched. And got a lot of sound when moving.\n",
      "> True \n",
      " Doesn't look sturdy. The roller part edges super sharp, may cut your feet into deep cut. \n",
      "Wrapped with foam on each chair's leg. 😩😩..\n",
      "> False \n",
      " I should have read all the comments before purchase. Some parts looks old and lot scratches, like defect or rejected stocks. \n",
      "The back seat holes alignment out, not able to put on all the screw nuts.Waiting seller to reply on next action.\n",
      "> True \n",
      " Low product quality. Scratches on the chair, the seat netting defects. It seemed like 2nd hand / preloved product.\n"
     ]
    }
   ],
   "source": [
    "for i in reviews:\n",
    "    def is_positive(i: str) -> bool:\n",
    "        return analyzer.polarity_scores(i)[\"compound\"] > 0\n",
    "\n",
    "for i in range(3): \n",
    "    for j in reviews[i]: \n",
    "            print(\">\", is_positive(j), \"\\n\", j)\n"
   ]
  },
  {
   "cell_type": "code",
   "execution_count": 11,
   "metadata": {},
   "outputs": [
    {
     "name": "stdout",
     "output_type": "stream",
     "text": [
      "Positive reviews: 7\n",
      "Neutral reviews: 0\n",
      "Negative reviews: 5\n"
     ]
    }
   ],
   "source": [
    "neg_list = list()\n",
    "neu_list = list()\n",
    "pos_list = list()\n",
    "\n",
    "for i in range(3): \n",
    "    for j in reviews[i]: \n",
    "            compound_score = analyzer.polarity_scores(j)[\"compound\"]\n",
    "\n",
    "            neg_list.append(compound_score) if compound_score < 0 else exit\n",
    "            neu_list.append(compound_score) if compound_score == 0 else exit\n",
    "            pos_list.append(compound_score) if compound_score > 0 else exit\n",
    "\n",
    "print('Positive reviews:', len(pos_list))\n",
    "print('Neutral reviews:', len(neu_list))\n",
    "print('Negative reviews:', len(neg_list))"
   ]
  }
 ],
 "metadata": {
  "interpreter": {
   "hash": "732add9bf382e549494bd37f0bc6a8431f4167bf7609584a1df652bd1b1dd6cf"
  },
  "kernelspec": {
   "display_name": "Python 3.9.2 64-bit",
   "language": "python",
   "name": "python3"
  },
  "language_info": {
   "codemirror_mode": {
    "name": "ipython",
    "version": 3
   },
   "file_extension": ".py",
   "mimetype": "text/x-python",
   "name": "python",
   "nbconvert_exporter": "python",
   "pygments_lexer": "ipython3",
   "version": "3.9.2"
  },
  "orig_nbformat": 4
 },
 "nbformat": 4,
 "nbformat_minor": 2
}
