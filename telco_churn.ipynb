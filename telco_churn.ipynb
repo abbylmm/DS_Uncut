{
 "cells": [
  {
   "cell_type": "markdown",
   "metadata": {},
   "source": [
    "# Telco Customer Churn\n",
    "Objectives: To predict customers who are most likely subject to churn\n",
    "\n",
    "* [Scrub Data](#scrub)\n",
    "* EDA - [Heatmap](#heatmap)\n",
    "* EDA - [Histogram](#histogram)\n",
    "* EDA - [DataFrame.style](#dataframe)\n",
    "* EDA - [CountPlot](#countplot)\n",
    "* [Initial Decision Tree](#tree)\n",
    "* [Feature Selection](#feat_imp)\n",
    "* [Final Decison Tree](#final_tree)\n",
    "* [Logistic Regression](#logistic)\n"
   ]
  },
  {
   "cell_type": "code",
   "execution_count": 1,
   "metadata": {},
   "outputs": [],
   "source": [
    "import pandas as pd\n",
    "import seaborn as sns\n",
    "import numpy as np\n",
    "import matplotlib.pyplot as plt"
   ]
  },
  {
   "cell_type": "code",
   "execution_count": 2,
   "metadata": {},
   "outputs": [
    {
     "data": {
      "text/html": [
       "<div>\n",
       "<style scoped>\n",
       "    .dataframe tbody tr th:only-of-type {\n",
       "        vertical-align: middle;\n",
       "    }\n",
       "\n",
       "    .dataframe tbody tr th {\n",
       "        vertical-align: top;\n",
       "    }\n",
       "\n",
       "    .dataframe thead th {\n",
       "        text-align: right;\n",
       "    }\n",
       "</style>\n",
       "<table border=\"1\" class=\"dataframe\">\n",
       "  <thead>\n",
       "    <tr style=\"text-align: right;\">\n",
       "      <th></th>\n",
       "      <th>customerID</th>\n",
       "      <th>gender</th>\n",
       "      <th>SeniorCitizen</th>\n",
       "      <th>Partner</th>\n",
       "      <th>Dependents</th>\n",
       "      <th>tenure</th>\n",
       "      <th>PhoneService</th>\n",
       "      <th>MultipleLines</th>\n",
       "      <th>InternetService</th>\n",
       "      <th>OnlineSecurity</th>\n",
       "      <th>...</th>\n",
       "      <th>DeviceProtection</th>\n",
       "      <th>TechSupport</th>\n",
       "      <th>StreamingTV</th>\n",
       "      <th>StreamingMovies</th>\n",
       "      <th>Contract</th>\n",
       "      <th>PaperlessBilling</th>\n",
       "      <th>PaymentMethod</th>\n",
       "      <th>MonthlyCharges</th>\n",
       "      <th>TotalCharges</th>\n",
       "      <th>Churn</th>\n",
       "    </tr>\n",
       "  </thead>\n",
       "  <tbody>\n",
       "    <tr>\n",
       "      <th>5734</th>\n",
       "      <td>6408-WHTEF</td>\n",
       "      <td>Male</td>\n",
       "      <td>0</td>\n",
       "      <td>Yes</td>\n",
       "      <td>Yes</td>\n",
       "      <td>72</td>\n",
       "      <td>Yes</td>\n",
       "      <td>Yes</td>\n",
       "      <td>DSL</td>\n",
       "      <td>Yes</td>\n",
       "      <td>...</td>\n",
       "      <td>Yes</td>\n",
       "      <td>Yes</td>\n",
       "      <td>Yes</td>\n",
       "      <td>Yes</td>\n",
       "      <td>Two year</td>\n",
       "      <td>Yes</td>\n",
       "      <td>Mailed check</td>\n",
       "      <td>89.40</td>\n",
       "      <td>6376.55</td>\n",
       "      <td>No</td>\n",
       "    </tr>\n",
       "    <tr>\n",
       "      <th>2522</th>\n",
       "      <td>0661-KBKPA</td>\n",
       "      <td>Male</td>\n",
       "      <td>0</td>\n",
       "      <td>Yes</td>\n",
       "      <td>Yes</td>\n",
       "      <td>53</td>\n",
       "      <td>Yes</td>\n",
       "      <td>Yes</td>\n",
       "      <td>DSL</td>\n",
       "      <td>No</td>\n",
       "      <td>...</td>\n",
       "      <td>Yes</td>\n",
       "      <td>Yes</td>\n",
       "      <td>Yes</td>\n",
       "      <td>Yes</td>\n",
       "      <td>One year</td>\n",
       "      <td>Yes</td>\n",
       "      <td>Mailed check</td>\n",
       "      <td>78.75</td>\n",
       "      <td>3942.45</td>\n",
       "      <td>No</td>\n",
       "    </tr>\n",
       "    <tr>\n",
       "      <th>5572</th>\n",
       "      <td>4654-ULTTN</td>\n",
       "      <td>Male</td>\n",
       "      <td>0</td>\n",
       "      <td>Yes</td>\n",
       "      <td>No</td>\n",
       "      <td>70</td>\n",
       "      <td>Yes</td>\n",
       "      <td>Yes</td>\n",
       "      <td>DSL</td>\n",
       "      <td>Yes</td>\n",
       "      <td>...</td>\n",
       "      <td>Yes</td>\n",
       "      <td>Yes</td>\n",
       "      <td>No</td>\n",
       "      <td>Yes</td>\n",
       "      <td>Two year</td>\n",
       "      <td>Yes</td>\n",
       "      <td>Credit card (automatic)</td>\n",
       "      <td>74.80</td>\n",
       "      <td>5315.8</td>\n",
       "      <td>No</td>\n",
       "    </tr>\n",
       "    <tr>\n",
       "      <th>5072</th>\n",
       "      <td>5995-SNNEW</td>\n",
       "      <td>Male</td>\n",
       "      <td>1</td>\n",
       "      <td>Yes</td>\n",
       "      <td>No</td>\n",
       "      <td>23</td>\n",
       "      <td>Yes</td>\n",
       "      <td>Yes</td>\n",
       "      <td>Fiber optic</td>\n",
       "      <td>No</td>\n",
       "      <td>...</td>\n",
       "      <td>Yes</td>\n",
       "      <td>No</td>\n",
       "      <td>Yes</td>\n",
       "      <td>Yes</td>\n",
       "      <td>Month-to-month</td>\n",
       "      <td>Yes</td>\n",
       "      <td>Electronic check</td>\n",
       "      <td>104.45</td>\n",
       "      <td>2184.85</td>\n",
       "      <td>No</td>\n",
       "    </tr>\n",
       "    <tr>\n",
       "      <th>1234</th>\n",
       "      <td>4525-VZCZG</td>\n",
       "      <td>Male</td>\n",
       "      <td>0</td>\n",
       "      <td>No</td>\n",
       "      <td>Yes</td>\n",
       "      <td>54</td>\n",
       "      <td>Yes</td>\n",
       "      <td>No</td>\n",
       "      <td>Fiber optic</td>\n",
       "      <td>Yes</td>\n",
       "      <td>...</td>\n",
       "      <td>No</td>\n",
       "      <td>Yes</td>\n",
       "      <td>Yes</td>\n",
       "      <td>Yes</td>\n",
       "      <td>One year</td>\n",
       "      <td>Yes</td>\n",
       "      <td>Electronic check</td>\n",
       "      <td>105.85</td>\n",
       "      <td>5826.65</td>\n",
       "      <td>No</td>\n",
       "    </tr>\n",
       "    <tr>\n",
       "      <th>2100</th>\n",
       "      <td>6227-FBDXH</td>\n",
       "      <td>Male</td>\n",
       "      <td>0</td>\n",
       "      <td>Yes</td>\n",
       "      <td>No</td>\n",
       "      <td>69</td>\n",
       "      <td>Yes</td>\n",
       "      <td>Yes</td>\n",
       "      <td>Fiber optic</td>\n",
       "      <td>No</td>\n",
       "      <td>...</td>\n",
       "      <td>Yes</td>\n",
       "      <td>No</td>\n",
       "      <td>Yes</td>\n",
       "      <td>Yes</td>\n",
       "      <td>One year</td>\n",
       "      <td>No</td>\n",
       "      <td>Bank transfer (automatic)</td>\n",
       "      <td>99.50</td>\n",
       "      <td>6841.45</td>\n",
       "      <td>No</td>\n",
       "    </tr>\n",
       "    <tr>\n",
       "      <th>1423</th>\n",
       "      <td>0680-DFNNY</td>\n",
       "      <td>Male</td>\n",
       "      <td>0</td>\n",
       "      <td>Yes</td>\n",
       "      <td>No</td>\n",
       "      <td>15</td>\n",
       "      <td>Yes</td>\n",
       "      <td>Yes</td>\n",
       "      <td>Fiber optic</td>\n",
       "      <td>No</td>\n",
       "      <td>...</td>\n",
       "      <td>Yes</td>\n",
       "      <td>No</td>\n",
       "      <td>Yes</td>\n",
       "      <td>Yes</td>\n",
       "      <td>Month-to-month</td>\n",
       "      <td>Yes</td>\n",
       "      <td>Electronic check</td>\n",
       "      <td>101.10</td>\n",
       "      <td>1504.05</td>\n",
       "      <td>Yes</td>\n",
       "    </tr>\n",
       "    <tr>\n",
       "      <th>3713</th>\n",
       "      <td>6961-VCPMC</td>\n",
       "      <td>Male</td>\n",
       "      <td>1</td>\n",
       "      <td>Yes</td>\n",
       "      <td>No</td>\n",
       "      <td>46</td>\n",
       "      <td>Yes</td>\n",
       "      <td>No</td>\n",
       "      <td>Fiber optic</td>\n",
       "      <td>No</td>\n",
       "      <td>...</td>\n",
       "      <td>No</td>\n",
       "      <td>No</td>\n",
       "      <td>No</td>\n",
       "      <td>Yes</td>\n",
       "      <td>Month-to-month</td>\n",
       "      <td>Yes</td>\n",
       "      <td>Electronic check</td>\n",
       "      <td>80.40</td>\n",
       "      <td>3605.2</td>\n",
       "      <td>Yes</td>\n",
       "    </tr>\n",
       "    <tr>\n",
       "      <th>77</th>\n",
       "      <td>5590-ZSKRV</td>\n",
       "      <td>Female</td>\n",
       "      <td>0</td>\n",
       "      <td>Yes</td>\n",
       "      <td>Yes</td>\n",
       "      <td>8</td>\n",
       "      <td>Yes</td>\n",
       "      <td>No</td>\n",
       "      <td>DSL</td>\n",
       "      <td>Yes</td>\n",
       "      <td>...</td>\n",
       "      <td>No</td>\n",
       "      <td>No</td>\n",
       "      <td>No</td>\n",
       "      <td>No</td>\n",
       "      <td>Month-to-month</td>\n",
       "      <td>No</td>\n",
       "      <td>Mailed check</td>\n",
       "      <td>54.65</td>\n",
       "      <td>482.25</td>\n",
       "      <td>No</td>\n",
       "    </tr>\n",
       "    <tr>\n",
       "      <th>2589</th>\n",
       "      <td>7576-OYWBN</td>\n",
       "      <td>Male</td>\n",
       "      <td>1</td>\n",
       "      <td>No</td>\n",
       "      <td>No</td>\n",
       "      <td>3</td>\n",
       "      <td>Yes</td>\n",
       "      <td>Yes</td>\n",
       "      <td>Fiber optic</td>\n",
       "      <td>No</td>\n",
       "      <td>...</td>\n",
       "      <td>No</td>\n",
       "      <td>No</td>\n",
       "      <td>No</td>\n",
       "      <td>No</td>\n",
       "      <td>Month-to-month</td>\n",
       "      <td>Yes</td>\n",
       "      <td>Electronic check</td>\n",
       "      <td>76.05</td>\n",
       "      <td>231.8</td>\n",
       "      <td>Yes</td>\n",
       "    </tr>\n",
       "  </tbody>\n",
       "</table>\n",
       "<p>10 rows × 21 columns</p>\n",
       "</div>"
      ],
      "text/plain": [
       "      customerID  gender  SeniorCitizen Partner Dependents  tenure  \\\n",
       "5734  6408-WHTEF    Male              0     Yes        Yes      72   \n",
       "2522  0661-KBKPA    Male              0     Yes        Yes      53   \n",
       "5572  4654-ULTTN    Male              0     Yes         No      70   \n",
       "5072  5995-SNNEW    Male              1     Yes         No      23   \n",
       "1234  4525-VZCZG    Male              0      No        Yes      54   \n",
       "2100  6227-FBDXH    Male              0     Yes         No      69   \n",
       "1423  0680-DFNNY    Male              0     Yes         No      15   \n",
       "3713  6961-VCPMC    Male              1     Yes         No      46   \n",
       "77    5590-ZSKRV  Female              0     Yes        Yes       8   \n",
       "2589  7576-OYWBN    Male              1      No         No       3   \n",
       "\n",
       "     PhoneService MultipleLines InternetService OnlineSecurity  ...  \\\n",
       "5734          Yes           Yes             DSL            Yes  ...   \n",
       "2522          Yes           Yes             DSL             No  ...   \n",
       "5572          Yes           Yes             DSL            Yes  ...   \n",
       "5072          Yes           Yes     Fiber optic             No  ...   \n",
       "1234          Yes            No     Fiber optic            Yes  ...   \n",
       "2100          Yes           Yes     Fiber optic             No  ...   \n",
       "1423          Yes           Yes     Fiber optic             No  ...   \n",
       "3713          Yes            No     Fiber optic             No  ...   \n",
       "77            Yes            No             DSL            Yes  ...   \n",
       "2589          Yes           Yes     Fiber optic             No  ...   \n",
       "\n",
       "     DeviceProtection TechSupport StreamingTV StreamingMovies        Contract  \\\n",
       "5734              Yes         Yes         Yes             Yes        Two year   \n",
       "2522              Yes         Yes         Yes             Yes        One year   \n",
       "5572              Yes         Yes          No             Yes        Two year   \n",
       "5072              Yes          No         Yes             Yes  Month-to-month   \n",
       "1234               No         Yes         Yes             Yes        One year   \n",
       "2100              Yes          No         Yes             Yes        One year   \n",
       "1423              Yes          No         Yes             Yes  Month-to-month   \n",
       "3713               No          No          No             Yes  Month-to-month   \n",
       "77                 No          No          No              No  Month-to-month   \n",
       "2589               No          No          No              No  Month-to-month   \n",
       "\n",
       "     PaperlessBilling              PaymentMethod MonthlyCharges  TotalCharges  \\\n",
       "5734              Yes               Mailed check          89.40       6376.55   \n",
       "2522              Yes               Mailed check          78.75       3942.45   \n",
       "5572              Yes    Credit card (automatic)          74.80        5315.8   \n",
       "5072              Yes           Electronic check         104.45       2184.85   \n",
       "1234              Yes           Electronic check         105.85       5826.65   \n",
       "2100               No  Bank transfer (automatic)          99.50       6841.45   \n",
       "1423              Yes           Electronic check         101.10       1504.05   \n",
       "3713              Yes           Electronic check          80.40        3605.2   \n",
       "77                 No               Mailed check          54.65        482.25   \n",
       "2589              Yes           Electronic check          76.05         231.8   \n",
       "\n",
       "     Churn  \n",
       "5734    No  \n",
       "2522    No  \n",
       "5572    No  \n",
       "5072    No  \n",
       "1234    No  \n",
       "2100    No  \n",
       "1423   Yes  \n",
       "3713   Yes  \n",
       "77      No  \n",
       "2589   Yes  \n",
       "\n",
       "[10 rows x 21 columns]"
      ]
     },
     "execution_count": 2,
     "metadata": {},
     "output_type": "execute_result"
    }
   ],
   "source": [
    "df = pd.read_csv(\"https://raw.githubusercontent.com/theleadio/datascience_demo/master/telco_customer_churn_dataset.csv\")\n",
    "df.sample(10)"
   ]
  },
  {
   "cell_type": "code",
   "execution_count": 3,
   "metadata": {},
   "outputs": [
    {
     "name": "stdout",
     "output_type": "stream",
     "text": [
      "<class 'pandas.core.frame.DataFrame'>\n",
      "RangeIndex: 7043 entries, 0 to 7042\n",
      "Data columns (total 21 columns):\n",
      " #   Column            Non-Null Count  Dtype  \n",
      "---  ------            --------------  -----  \n",
      " 0   customerID        7043 non-null   object \n",
      " 1   gender            7043 non-null   object \n",
      " 2   SeniorCitizen     7043 non-null   int64  \n",
      " 3   Partner           7043 non-null   object \n",
      " 4   Dependents        7043 non-null   object \n",
      " 5   tenure            7043 non-null   int64  \n",
      " 6   PhoneService      7043 non-null   object \n",
      " 7   MultipleLines     7043 non-null   object \n",
      " 8   InternetService   7043 non-null   object \n",
      " 9   OnlineSecurity    7043 non-null   object \n",
      " 10  OnlineBackup      7043 non-null   object \n",
      " 11  DeviceProtection  7043 non-null   object \n",
      " 12  TechSupport       7043 non-null   object \n",
      " 13  StreamingTV       7043 non-null   object \n",
      " 14  StreamingMovies   7043 non-null   object \n",
      " 15  Contract          7043 non-null   object \n",
      " 16  PaperlessBilling  7043 non-null   object \n",
      " 17  PaymentMethod     7043 non-null   object \n",
      " 18  MonthlyCharges    7043 non-null   float64\n",
      " 19  TotalCharges      7043 non-null   object \n",
      " 20  Churn             7043 non-null   object \n",
      "dtypes: float64(1), int64(2), object(18)\n",
      "memory usage: 1.1+ MB\n"
     ]
    }
   ],
   "source": [
    "df.info()"
   ]
  },
  {
   "cell_type": "markdown",
   "metadata": {},
   "source": [
    "<a id='scrub'></a>\n",
    "# Scrub Data"
   ]
  },
  {
   "cell_type": "code",
   "execution_count": 4,
   "metadata": {},
   "outputs": [
    {
     "name": "stdout",
     "output_type": "stream",
     "text": [
      "\n",
      "Frequency of variable: gender\n",
      "Male      3555\n",
      "Female    3488\n",
      "Name: gender, dtype: int64\n",
      "\n",
      "Frequency of variable: SeniorCitizen\n",
      "0    5901\n",
      "1    1142\n",
      "Name: SeniorCitizen, dtype: int64\n",
      "\n",
      "Frequency of variable: Partner\n",
      "No     3641\n",
      "Yes    3402\n",
      "Name: Partner, dtype: int64\n",
      "\n",
      "Frequency of variable: Dependents\n",
      "No     4933\n",
      "Yes    2110\n",
      "Name: Dependents, dtype: int64\n",
      "\n",
      "Frequency of variable: PhoneService\n",
      "Yes    6361\n",
      "No      682\n",
      "Name: PhoneService, dtype: int64\n",
      "\n",
      "Frequency of variable: MultipleLines\n",
      "No                  3390\n",
      "Yes                 2971\n",
      "No phone service     682\n",
      "Name: MultipleLines, dtype: int64\n",
      "\n",
      "Frequency of variable: InternetService\n",
      "Fiber optic    3096\n",
      "DSL            2421\n",
      "No             1526\n",
      "Name: InternetService, dtype: int64\n",
      "\n",
      "Frequency of variable: OnlineSecurity\n",
      "No                     3498\n",
      "Yes                    2019\n",
      "No internet service    1526\n",
      "Name: OnlineSecurity, dtype: int64\n",
      "\n",
      "Frequency of variable: OnlineBackup\n",
      "No                     3088\n",
      "Yes                    2429\n",
      "No internet service    1526\n",
      "Name: OnlineBackup, dtype: int64\n",
      "\n",
      "Frequency of variable: DeviceProtection\n",
      "No                     3095\n",
      "Yes                    2422\n",
      "No internet service    1526\n",
      "Name: DeviceProtection, dtype: int64\n",
      "\n",
      "Frequency of variable: TechSupport\n",
      "No                     3473\n",
      "Yes                    2044\n",
      "No internet service    1526\n",
      "Name: TechSupport, dtype: int64\n",
      "\n",
      "Frequency of variable: StreamingTV\n",
      "No                     2810\n",
      "Yes                    2707\n",
      "No internet service    1526\n",
      "Name: StreamingTV, dtype: int64\n",
      "\n",
      "Frequency of variable: StreamingMovies\n",
      "No                     2785\n",
      "Yes                    2732\n",
      "No internet service    1526\n",
      "Name: StreamingMovies, dtype: int64\n",
      "\n",
      "Frequency of variable: Contract\n",
      "Month-to-month    3875\n",
      "Two year          1695\n",
      "One year          1473\n",
      "Name: Contract, dtype: int64\n",
      "\n",
      "Frequency of variable: PaperlessBilling\n",
      "Yes    4171\n",
      "No     2872\n",
      "Name: PaperlessBilling, dtype: int64\n",
      "\n",
      "Frequency of variable: PaymentMethod\n",
      "Electronic check             2365\n",
      "Mailed check                 1612\n",
      "Bank transfer (automatic)    1544\n",
      "Credit card (automatic)      1522\n",
      "Name: PaymentMethod, dtype: int64\n",
      "\n",
      "Frequency of variable: Churn\n",
      "No     5174\n",
      "Yes    1869\n",
      "Name: Churn, dtype: int64\n"
     ]
    }
   ],
   "source": [
    "categorical_columns = df.drop(['customerID', 'tenure', 'MonthlyCharges', 'TotalCharges'], axis = 1).columns.tolist()\n",
    "\n",
    "# print frequency of categories\n",
    "for col in categorical_columns:\n",
    "    print ('\\nFrequency of variable: %s'%col)\n",
    "    print (df[col].value_counts())"
   ]
  },
  {
   "cell_type": "code",
   "execution_count": 5,
   "metadata": {},
   "outputs": [],
   "source": [
    "df['TotalCharges'] = pd.to_numeric(df['TotalCharges'], errors = 'coerce')"
   ]
  },
  {
   "cell_type": "code",
   "execution_count": 6,
   "metadata": {},
   "outputs": [],
   "source": [
    "binary_cols = ['Partner', 'Dependents', 'PhoneService', 'PaperlessBilling', 'Churn']\n",
    "\n",
    "for column in binary_cols:\n",
    "    df[column] = df[column].map({'No': 0, 'Yes': 1})\n"
   ]
  },
  {
   "cell_type": "code",
   "execution_count": 7,
   "metadata": {},
   "outputs": [],
   "source": [
    "binning = ['OnlineSecurity', 'OnlineBackup', 'DeviceProtection', 'TechSupport', 'StreamingTV', 'StreamingMovies']\n",
    "\n",
    "for column in binning:\n",
    "    df[column] = df[column].map({'No': 0, 'Yes': 1, 'No internet service': 0})"
   ]
  },
  {
   "cell_type": "code",
   "execution_count": 8,
   "metadata": {},
   "outputs": [],
   "source": [
    "df['gender'] = df['gender'].map({'Female': 0, 'Male': 1})\n",
    "df['MultipleLines'] = df['MultipleLines'].map({'No': 0, 'Yes': 1, 'No phone service': 0})"
   ]
  },
  {
   "cell_type": "code",
   "execution_count": 9,
   "metadata": {},
   "outputs": [
    {
     "name": "stdout",
     "output_type": "stream",
     "text": [
      "<class 'pandas.core.frame.DataFrame'>\n",
      "RangeIndex: 7043 entries, 0 to 7042\n",
      "Data columns (total 21 columns):\n",
      " #   Column            Non-Null Count  Dtype  \n",
      "---  ------            --------------  -----  \n",
      " 0   customerID        7043 non-null   object \n",
      " 1   gender            7043 non-null   int64  \n",
      " 2   SeniorCitizen     7043 non-null   int64  \n",
      " 3   Partner           7043 non-null   int64  \n",
      " 4   Dependents        7043 non-null   int64  \n",
      " 5   tenure            7043 non-null   int64  \n",
      " 6   PhoneService      7043 non-null   int64  \n",
      " 7   MultipleLines     7043 non-null   int64  \n",
      " 8   InternetService   7043 non-null   object \n",
      " 9   OnlineSecurity    7043 non-null   int64  \n",
      " 10  OnlineBackup      7043 non-null   int64  \n",
      " 11  DeviceProtection  7043 non-null   int64  \n",
      " 12  TechSupport       7043 non-null   int64  \n",
      " 13  StreamingTV       7043 non-null   int64  \n",
      " 14  StreamingMovies   7043 non-null   int64  \n",
      " 15  Contract          7043 non-null   object \n",
      " 16  PaperlessBilling  7043 non-null   int64  \n",
      " 17  PaymentMethod     7043 non-null   object \n",
      " 18  MonthlyCharges    7043 non-null   float64\n",
      " 19  TotalCharges      7032 non-null   float64\n",
      " 20  Churn             7043 non-null   int64  \n",
      "dtypes: float64(2), int64(15), object(4)\n",
      "memory usage: 1.1+ MB\n"
     ]
    }
   ],
   "source": [
    "df.info()"
   ]
  },
  {
   "cell_type": "code",
   "execution_count": 10,
   "metadata": {},
   "outputs": [
    {
     "name": "stdout",
     "output_type": "stream",
     "text": [
      "<class 'pandas.core.frame.DataFrame'>\n",
      "RangeIndex: 7043 entries, 0 to 7042\n",
      "Data columns (total 28 columns):\n",
      " #   Column                                   Non-Null Count  Dtype  \n",
      "---  ------                                   --------------  -----  \n",
      " 0   customerID                               7043 non-null   object \n",
      " 1   gender                                   7043 non-null   int64  \n",
      " 2   SeniorCitizen                            7043 non-null   int64  \n",
      " 3   Partner                                  7043 non-null   int64  \n",
      " 4   Dependents                               7043 non-null   int64  \n",
      " 5   tenure                                   7043 non-null   int64  \n",
      " 6   PhoneService                             7043 non-null   int64  \n",
      " 7   MultipleLines                            7043 non-null   int64  \n",
      " 8   OnlineSecurity                           7043 non-null   int64  \n",
      " 9   OnlineBackup                             7043 non-null   int64  \n",
      " 10  DeviceProtection                         7043 non-null   int64  \n",
      " 11  TechSupport                              7043 non-null   int64  \n",
      " 12  StreamingTV                              7043 non-null   int64  \n",
      " 13  StreamingMovies                          7043 non-null   int64  \n",
      " 14  PaperlessBilling                         7043 non-null   int64  \n",
      " 15  MonthlyCharges                           7043 non-null   float64\n",
      " 16  TotalCharges                             7032 non-null   float64\n",
      " 17  Churn                                    7043 non-null   int64  \n",
      " 18  InternetService_DSL                      7043 non-null   uint8  \n",
      " 19  InternetService_Fiber optic              7043 non-null   uint8  \n",
      " 20  InternetService_No                       7043 non-null   uint8  \n",
      " 21  Contract_Month-to-month                  7043 non-null   uint8  \n",
      " 22  Contract_One year                        7043 non-null   uint8  \n",
      " 23  Contract_Two year                        7043 non-null   uint8  \n",
      " 24  PaymentMethod_Bank transfer (automatic)  7043 non-null   uint8  \n",
      " 25  PaymentMethod_Credit card (automatic)    7043 non-null   uint8  \n",
      " 26  PaymentMethod_Electronic check           7043 non-null   uint8  \n",
      " 27  PaymentMethod_Mailed check               7043 non-null   uint8  \n",
      "dtypes: float64(2), int64(15), object(1), uint8(10)\n",
      "memory usage: 1.0+ MB\n"
     ]
    }
   ],
   "source": [
    "cols_enc = ['InternetService', 'Contract', 'PaymentMethod']\n",
    "prefix_dict = {'InternetService':'InternetService', \n",
    "               'Contract':'Contract', \n",
    "               'PaymentMethod':'PaymentMethod'}\n",
    "\n",
    "df_enc = pd.get_dummies(df, prefix=prefix_dict, columns=cols_enc)\n",
    "df_enc.info()"
   ]
  },
  {
   "cell_type": "code",
   "execution_count": 11,
   "metadata": {},
   "outputs": [
    {
     "data": {
      "text/html": [
       "<div>\n",
       "<style scoped>\n",
       "    .dataframe tbody tr th:only-of-type {\n",
       "        vertical-align: middle;\n",
       "    }\n",
       "\n",
       "    .dataframe tbody tr th {\n",
       "        vertical-align: top;\n",
       "    }\n",
       "\n",
       "    .dataframe thead th {\n",
       "        text-align: right;\n",
       "    }\n",
       "</style>\n",
       "<table border=\"1\" class=\"dataframe\">\n",
       "  <thead>\n",
       "    <tr style=\"text-align: right;\">\n",
       "      <th></th>\n",
       "      <th>customerID</th>\n",
       "      <th>gender</th>\n",
       "      <th>SeniorCitizen</th>\n",
       "      <th>Partner</th>\n",
       "      <th>Dependents</th>\n",
       "      <th>tenure</th>\n",
       "      <th>PhoneService</th>\n",
       "      <th>MultipleLines</th>\n",
       "      <th>OnlineSecurity</th>\n",
       "      <th>OnlineBackup</th>\n",
       "      <th>...</th>\n",
       "      <th>InternetService_DSL</th>\n",
       "      <th>InternetService_Fiber optic</th>\n",
       "      <th>InternetService_No</th>\n",
       "      <th>Contract_Month-to-month</th>\n",
       "      <th>Contract_One year</th>\n",
       "      <th>Contract_Two year</th>\n",
       "      <th>PaymentMethod_Bank transfer (automatic)</th>\n",
       "      <th>PaymentMethod_Credit card (automatic)</th>\n",
       "      <th>PaymentMethod_Electronic check</th>\n",
       "      <th>PaymentMethod_Mailed check</th>\n",
       "    </tr>\n",
       "  </thead>\n",
       "  <tbody>\n",
       "    <tr>\n",
       "      <th>0</th>\n",
       "      <td>7590-VHVEG</td>\n",
       "      <td>0</td>\n",
       "      <td>0</td>\n",
       "      <td>1</td>\n",
       "      <td>0</td>\n",
       "      <td>1</td>\n",
       "      <td>0</td>\n",
       "      <td>0</td>\n",
       "      <td>0</td>\n",
       "      <td>1</td>\n",
       "      <td>...</td>\n",
       "      <td>1</td>\n",
       "      <td>0</td>\n",
       "      <td>0</td>\n",
       "      <td>1</td>\n",
       "      <td>0</td>\n",
       "      <td>0</td>\n",
       "      <td>0</td>\n",
       "      <td>0</td>\n",
       "      <td>1</td>\n",
       "      <td>0</td>\n",
       "    </tr>\n",
       "    <tr>\n",
       "      <th>1</th>\n",
       "      <td>5575-GNVDE</td>\n",
       "      <td>1</td>\n",
       "      <td>0</td>\n",
       "      <td>0</td>\n",
       "      <td>0</td>\n",
       "      <td>34</td>\n",
       "      <td>1</td>\n",
       "      <td>0</td>\n",
       "      <td>1</td>\n",
       "      <td>0</td>\n",
       "      <td>...</td>\n",
       "      <td>1</td>\n",
       "      <td>0</td>\n",
       "      <td>0</td>\n",
       "      <td>0</td>\n",
       "      <td>1</td>\n",
       "      <td>0</td>\n",
       "      <td>0</td>\n",
       "      <td>0</td>\n",
       "      <td>0</td>\n",
       "      <td>1</td>\n",
       "    </tr>\n",
       "    <tr>\n",
       "      <th>2</th>\n",
       "      <td>3668-QPYBK</td>\n",
       "      <td>1</td>\n",
       "      <td>0</td>\n",
       "      <td>0</td>\n",
       "      <td>0</td>\n",
       "      <td>2</td>\n",
       "      <td>1</td>\n",
       "      <td>0</td>\n",
       "      <td>1</td>\n",
       "      <td>1</td>\n",
       "      <td>...</td>\n",
       "      <td>1</td>\n",
       "      <td>0</td>\n",
       "      <td>0</td>\n",
       "      <td>1</td>\n",
       "      <td>0</td>\n",
       "      <td>0</td>\n",
       "      <td>0</td>\n",
       "      <td>0</td>\n",
       "      <td>0</td>\n",
       "      <td>1</td>\n",
       "    </tr>\n",
       "    <tr>\n",
       "      <th>3</th>\n",
       "      <td>7795-CFOCW</td>\n",
       "      <td>1</td>\n",
       "      <td>0</td>\n",
       "      <td>0</td>\n",
       "      <td>0</td>\n",
       "      <td>45</td>\n",
       "      <td>0</td>\n",
       "      <td>0</td>\n",
       "      <td>1</td>\n",
       "      <td>0</td>\n",
       "      <td>...</td>\n",
       "      <td>1</td>\n",
       "      <td>0</td>\n",
       "      <td>0</td>\n",
       "      <td>0</td>\n",
       "      <td>1</td>\n",
       "      <td>0</td>\n",
       "      <td>1</td>\n",
       "      <td>0</td>\n",
       "      <td>0</td>\n",
       "      <td>0</td>\n",
       "    </tr>\n",
       "    <tr>\n",
       "      <th>4</th>\n",
       "      <td>9237-HQITU</td>\n",
       "      <td>0</td>\n",
       "      <td>0</td>\n",
       "      <td>0</td>\n",
       "      <td>0</td>\n",
       "      <td>2</td>\n",
       "      <td>1</td>\n",
       "      <td>0</td>\n",
       "      <td>0</td>\n",
       "      <td>0</td>\n",
       "      <td>...</td>\n",
       "      <td>0</td>\n",
       "      <td>1</td>\n",
       "      <td>0</td>\n",
       "      <td>1</td>\n",
       "      <td>0</td>\n",
       "      <td>0</td>\n",
       "      <td>0</td>\n",
       "      <td>0</td>\n",
       "      <td>1</td>\n",
       "      <td>0</td>\n",
       "    </tr>\n",
       "  </tbody>\n",
       "</table>\n",
       "<p>5 rows × 28 columns</p>\n",
       "</div>"
      ],
      "text/plain": [
       "   customerID  gender  SeniorCitizen  Partner  Dependents  tenure  \\\n",
       "0  7590-VHVEG       0              0        1           0       1   \n",
       "1  5575-GNVDE       1              0        0           0      34   \n",
       "2  3668-QPYBK       1              0        0           0       2   \n",
       "3  7795-CFOCW       1              0        0           0      45   \n",
       "4  9237-HQITU       0              0        0           0       2   \n",
       "\n",
       "   PhoneService  MultipleLines  OnlineSecurity  OnlineBackup  ...  \\\n",
       "0             0              0               0             1  ...   \n",
       "1             1              0               1             0  ...   \n",
       "2             1              0               1             1  ...   \n",
       "3             0              0               1             0  ...   \n",
       "4             1              0               0             0  ...   \n",
       "\n",
       "   InternetService_DSL  InternetService_Fiber optic  InternetService_No  \\\n",
       "0                    1                            0                   0   \n",
       "1                    1                            0                   0   \n",
       "2                    1                            0                   0   \n",
       "3                    1                            0                   0   \n",
       "4                    0                            1                   0   \n",
       "\n",
       "   Contract_Month-to-month  Contract_One year  Contract_Two year  \\\n",
       "0                        1                  0                  0   \n",
       "1                        0                  1                  0   \n",
       "2                        1                  0                  0   \n",
       "3                        0                  1                  0   \n",
       "4                        1                  0                  0   \n",
       "\n",
       "   PaymentMethod_Bank transfer (automatic)  \\\n",
       "0                                        0   \n",
       "1                                        0   \n",
       "2                                        0   \n",
       "3                                        1   \n",
       "4                                        0   \n",
       "\n",
       "   PaymentMethod_Credit card (automatic)  PaymentMethod_Electronic check  \\\n",
       "0                                      0                               1   \n",
       "1                                      0                               0   \n",
       "2                                      0                               0   \n",
       "3                                      0                               0   \n",
       "4                                      0                               1   \n",
       "\n",
       "   PaymentMethod_Mailed check  \n",
       "0                           0  \n",
       "1                           1  \n",
       "2                           1  \n",
       "3                           0  \n",
       "4                           0  \n",
       "\n",
       "[5 rows x 28 columns]"
      ]
     },
     "execution_count": 11,
     "metadata": {},
     "output_type": "execute_result"
    }
   ],
   "source": [
    "df_enc.head()"
   ]
  },
  {
   "cell_type": "markdown",
   "metadata": {},
   "source": [
    "# Explore Data"
   ]
  },
  {
   "cell_type": "markdown",
   "metadata": {},
   "source": [
    "<a id='heatmap'></a>\n",
    "### Heatmap"
   ]
  },
  {
   "cell_type": "code",
   "execution_count": 12,
   "metadata": {},
   "outputs": [],
   "source": [
    "df2 = df_enc.drop('customerID', axis=1)"
   ]
  },
  {
   "cell_type": "code",
   "execution_count": 13,
   "metadata": {},
   "outputs": [
    {
     "name": "stderr",
     "output_type": "stream",
     "text": [
      "C:\\Users\\munmun\\AppData\\Local\\Temp/ipykernel_20168/4179990973.py:7: DeprecationWarning: `np.bool` is a deprecated alias for the builtin `bool`. To silence this warning, use `bool` by itself. Doing this will not modify any behavior and is safe. If you specifically wanted the numpy scalar type, use `np.bool_` here.\n",
      "Deprecated in NumPy 1.20; for more details and guidance: https://numpy.org/devdocs/release/1.20.0-notes.html#deprecations\n",
      "  mask = np.zeros_like(corr, dtype=np.bool)\n"
     ]
    },
    {
     "data": {
      "image/png": "[encoded data removed]",
      "text/plain": [
       "<Figure size 1440x1440 with 2 Axes>"
      ]
     },
     "metadata": {
      "needs_background": "light"
     },
     "output_type": "display_data"
    }
   ],
   "source": [
    "import numpy as np\n",
    "\n",
    "fig, ax = plt.subplots(figsize=(20, 20))\n",
    "\n",
    "corr = df2.corr()\n",
    "\n",
    "mask = np.zeros_like(corr, dtype=np.bool)\n",
    "mask[np.triu_indices_from(mask)]=True\n",
    "\n",
    "# color map\n",
    "cmap = sns.diverging_palette(0, 230, 90, 60, as_cmap=True)\n",
    "\n",
    "# plot heatmap\n",
    "sns.heatmap(corr, mask=mask, annot=True, fmt=\".2f\", cmap=cmap, vmin=-1, vmax=1, cbar_kws={\"shrink\": .8})\n",
    "\n",
    "plt.show()\n",
    "\n",
    "# https://towardsdatascience.com/heatmap-basics-with-pythons-seaborn-fb92ea280a6c"
   ]
  },
  {
   "cell_type": "markdown",
   "metadata": {},
   "source": [
    "| ⬆️ Churn | ➕ Correlation |\n",
    "|-------|-------|\n",
    "| Contract_Month-to-month | 0.41 |\n",
    "| InternetService_Fiber optic | 0.31 |\n",
    "| PaymentMethod_Electronic check | 0.30 |\n",
    "| PaperlessBilling | 0.19 |\n",
    "| MonthlyCharges | 0.19 | \n"
   ]
  },
  {
   "cell_type": "markdown",
   "metadata": {},
   "source": [
    "| ⬆️ Churn | ➖ Correlation |\n",
    "|-----|-----|\n",
    "| tenure | -0.35 |\n",
    "| Contract_Two year | -0.30 |\n",
    "| InternetService_No | -0.23 |\n",
    "| TotalCharges | -0.20 |\n"
   ]
  },
  {
   "cell_type": "markdown",
   "metadata": {},
   "source": [
    "<a id='histogram'></a>\n",
    "### Histogram"
   ]
  },
  {
   "cell_type": "code",
   "execution_count": 14,
   "metadata": {},
   "outputs": [
    {
     "data": {
      "text/plain": [
       "(array([1612.,  759.,  570.,  556.,  495.,  494.,  452.,  495.,  501.,\n",
       "        1109.]),\n",
       " array([ 0. ,  7.2, 14.4, 21.6, 28.8, 36. , 43.2, 50.4, 57.6, 64.8, 72. ]),\n",
       " <BarContainer object of 10 artists>)"
      ]
     },
     "execution_count": 14,
     "metadata": {},
     "output_type": "execute_result"
    },
    {
     "data": {
      "image/png": "[encoded data removed]",
      "text/plain": [
       "<Figure size 432x288 with 1 Axes>"
      ]
     },
     "metadata": {
      "needs_background": "light"
     },
     "output_type": "display_data"
    }
   ],
   "source": [
    "x = df2['tenure']\n",
    "\n",
    "plt.title('Tenure Histogram')\n",
    "plt.hist(x, color=\"skyblue\", ec=\"skyblue\")"
   ]
  },
  {
   "cell_type": "markdown",
   "metadata": {},
   "source": [
    "* Histogram of tenure appears as a U-shaped graph\n",
    "* Engagement of telco customers is not static and changes over time"
   ]
  },
  {
   "cell_type": "code",
   "execution_count": 15,
   "metadata": {},
   "outputs": [
    {
     "data": {
      "text/plain": [
       "(array([1606.,  191.,  365.,  639.,  473.,  895.,  953.,  869.,  758.,\n",
       "         294.]),\n",
       " array([ 18.25,  28.3 ,  38.35,  48.4 ,  58.45,  68.5 ,  78.55,  88.6 ,\n",
       "         98.65, 108.7 , 118.75]),\n",
       " <BarContainer object of 10 artists>)"
      ]
     },
     "execution_count": 15,
     "metadata": {},
     "output_type": "execute_result"
    },
    {
     "data": {
      "image/png": "[encoded data removed]",
      "text/plain": [
       "<Figure size 432x288 with 1 Axes>"
      ]
     },
     "metadata": {
      "needs_background": "light"
     },
     "output_type": "display_data"
    }
   ],
   "source": [
    "x = df2['MonthlyCharges']\n",
    "\n",
    "plt.title('MonthlyCharges Histogram')\n",
    "plt.hist(x, color=\"skyblue\", ec=\"skyblue\")"
   ]
  },
  {
   "cell_type": "markdown",
   "metadata": {},
   "source": [
    "* A big chunk of customers with monthly charges below USD 30 "
   ]
  },
  {
   "cell_type": "code",
   "execution_count": 16,
   "metadata": {},
   "outputs": [
    {
     "data": {
      "text/plain": [
       "(array([2709., 1228.,  671.,  508.,  454.,  412.,  395.,  310.,  223.,\n",
       "         122.]),\n",
       " array([  18.8,  885.4, 1752. , 2618.6, 3485.2, 4351.8, 5218.4, 6085. ,\n",
       "        6951.6, 7818.2, 8684.8]),\n",
       " <BarContainer object of 10 artists>)"
      ]
     },
     "execution_count": 16,
     "metadata": {},
     "output_type": "execute_result"
    },
    {
     "data": {
      "image/png": "[encoded data removed]",
      "text/plain": [
       "<Figure size 432x288 with 1 Axes>"
      ]
     },
     "metadata": {
      "needs_background": "light"
     },
     "output_type": "display_data"
    }
   ],
   "source": [
    "x = df2['TotalCharges']\n",
    "\n",
    "plt.title('TotalCharges Histogram')\n",
    "plt.hist(x, color=\"skyblue\", ec=\"skyblue\")"
   ]
  },
  {
   "cell_type": "markdown",
   "metadata": {},
   "source": [
    "* Total charges with right skewed distribution\n",
    "* Most customers with total charges below USD 4k"
   ]
  },
  {
   "cell_type": "markdown",
   "metadata": {},
   "source": [
    "<a id='dataframe'></a>\n",
    "### DataFrame.style"
   ]
  },
  {
   "cell_type": "code",
   "execution_count": 17,
   "metadata": {},
   "outputs": [
    {
     "data": {
      "text/html": [
       "<div>\n",
       "<style scoped>\n",
       "    .dataframe tbody tr th:only-of-type {\n",
       "        vertical-align: middle;\n",
       "    }\n",
       "\n",
       "    .dataframe tbody tr th {\n",
       "        vertical-align: top;\n",
       "    }\n",
       "\n",
       "    .dataframe thead th {\n",
       "        text-align: right;\n",
       "    }\n",
       "</style>\n",
       "<table border=\"1\" class=\"dataframe\">\n",
       "  <thead>\n",
       "    <tr style=\"text-align: right;\">\n",
       "      <th></th>\n",
       "      <th>gender</th>\n",
       "      <th>SeniorCitizen</th>\n",
       "      <th>Partner</th>\n",
       "      <th>Dependents</th>\n",
       "      <th>tenure</th>\n",
       "      <th>PhoneService</th>\n",
       "      <th>MultipleLines</th>\n",
       "      <th>OnlineSecurity</th>\n",
       "      <th>OnlineBackup</th>\n",
       "      <th>DeviceProtection</th>\n",
       "      <th>...</th>\n",
       "      <th>InternetService_DSL</th>\n",
       "      <th>InternetService_Fiber optic</th>\n",
       "      <th>InternetService_No</th>\n",
       "      <th>Contract_Month-to-month</th>\n",
       "      <th>Contract_One year</th>\n",
       "      <th>Contract_Two year</th>\n",
       "      <th>PaymentMethod_Bank transfer (automatic)</th>\n",
       "      <th>PaymentMethod_Credit card (automatic)</th>\n",
       "      <th>PaymentMethod_Electronic check</th>\n",
       "      <th>PaymentMethod_Mailed check</th>\n",
       "    </tr>\n",
       "  </thead>\n",
       "  <tbody>\n",
       "    <tr>\n",
       "      <th>713</th>\n",
       "      <td>0</td>\n",
       "      <td>0</td>\n",
       "      <td>0</td>\n",
       "      <td>1</td>\n",
       "      <td>14</td>\n",
       "      <td>1</td>\n",
       "      <td>1</td>\n",
       "      <td>1</td>\n",
       "      <td>0</td>\n",
       "      <td>0</td>\n",
       "      <td>...</td>\n",
       "      <td>0</td>\n",
       "      <td>1</td>\n",
       "      <td>0</td>\n",
       "      <td>1</td>\n",
       "      <td>0</td>\n",
       "      <td>0</td>\n",
       "      <td>0</td>\n",
       "      <td>0</td>\n",
       "      <td>0</td>\n",
       "      <td>1</td>\n",
       "    </tr>\n",
       "    <tr>\n",
       "      <th>4190</th>\n",
       "      <td>0</td>\n",
       "      <td>0</td>\n",
       "      <td>1</td>\n",
       "      <td>0</td>\n",
       "      <td>11</td>\n",
       "      <td>1</td>\n",
       "      <td>1</td>\n",
       "      <td>1</td>\n",
       "      <td>0</td>\n",
       "      <td>0</td>\n",
       "      <td>...</td>\n",
       "      <td>0</td>\n",
       "      <td>1</td>\n",
       "      <td>0</td>\n",
       "      <td>1</td>\n",
       "      <td>0</td>\n",
       "      <td>0</td>\n",
       "      <td>0</td>\n",
       "      <td>1</td>\n",
       "      <td>0</td>\n",
       "      <td>0</td>\n",
       "    </tr>\n",
       "    <tr>\n",
       "      <th>1636</th>\n",
       "      <td>0</td>\n",
       "      <td>0</td>\n",
       "      <td>0</td>\n",
       "      <td>0</td>\n",
       "      <td>48</td>\n",
       "      <td>1</td>\n",
       "      <td>1</td>\n",
       "      <td>0</td>\n",
       "      <td>0</td>\n",
       "      <td>0</td>\n",
       "      <td>...</td>\n",
       "      <td>0</td>\n",
       "      <td>0</td>\n",
       "      <td>1</td>\n",
       "      <td>0</td>\n",
       "      <td>1</td>\n",
       "      <td>0</td>\n",
       "      <td>1</td>\n",
       "      <td>0</td>\n",
       "      <td>0</td>\n",
       "      <td>0</td>\n",
       "    </tr>\n",
       "    <tr>\n",
       "      <th>2259</th>\n",
       "      <td>0</td>\n",
       "      <td>0</td>\n",
       "      <td>0</td>\n",
       "      <td>0</td>\n",
       "      <td>8</td>\n",
       "      <td>1</td>\n",
       "      <td>0</td>\n",
       "      <td>0</td>\n",
       "      <td>0</td>\n",
       "      <td>0</td>\n",
       "      <td>...</td>\n",
       "      <td>0</td>\n",
       "      <td>0</td>\n",
       "      <td>1</td>\n",
       "      <td>0</td>\n",
       "      <td>0</td>\n",
       "      <td>1</td>\n",
       "      <td>0</td>\n",
       "      <td>0</td>\n",
       "      <td>0</td>\n",
       "      <td>1</td>\n",
       "    </tr>\n",
       "    <tr>\n",
       "      <th>4087</th>\n",
       "      <td>0</td>\n",
       "      <td>0</td>\n",
       "      <td>0</td>\n",
       "      <td>0</td>\n",
       "      <td>10</td>\n",
       "      <td>1</td>\n",
       "      <td>0</td>\n",
       "      <td>0</td>\n",
       "      <td>0</td>\n",
       "      <td>0</td>\n",
       "      <td>...</td>\n",
       "      <td>0</td>\n",
       "      <td>0</td>\n",
       "      <td>1</td>\n",
       "      <td>1</td>\n",
       "      <td>0</td>\n",
       "      <td>0</td>\n",
       "      <td>0</td>\n",
       "      <td>0</td>\n",
       "      <td>0</td>\n",
       "      <td>1</td>\n",
       "    </tr>\n",
       "  </tbody>\n",
       "</table>\n",
       "<p>5 rows × 27 columns</p>\n",
       "</div>"
      ],
      "text/plain": [
       "      gender  SeniorCitizen  Partner  Dependents  tenure  PhoneService  \\\n",
       "713        0              0        0           1      14             1   \n",
       "4190       0              0        1           0      11             1   \n",
       "1636       0              0        0           0      48             1   \n",
       "2259       0              0        0           0       8             1   \n",
       "4087       0              0        0           0      10             1   \n",
       "\n",
       "      MultipleLines  OnlineSecurity  OnlineBackup  DeviceProtection  ...  \\\n",
       "713               1               1             0                 0  ...   \n",
       "4190              1               1             0                 0  ...   \n",
       "1636              1               0             0                 0  ...   \n",
       "2259              0               0             0                 0  ...   \n",
       "4087              0               0             0                 0  ...   \n",
       "\n",
       "      InternetService_DSL  InternetService_Fiber optic  InternetService_No  \\\n",
       "713                     0                            1                   0   \n",
       "4190                    0                            1                   0   \n",
       "1636                    0                            0                   1   \n",
       "2259                    0                            0                   1   \n",
       "4087                    0                            0                   1   \n",
       "\n",
       "      Contract_Month-to-month  Contract_One year  Contract_Two year  \\\n",
       "713                         1                  0                  0   \n",
       "4190                        1                  0                  0   \n",
       "1636                        0                  1                  0   \n",
       "2259                        0                  0                  1   \n",
       "4087                        1                  0                  0   \n",
       "\n",
       "      PaymentMethod_Bank transfer (automatic)  \\\n",
       "713                                         0   \n",
       "4190                                        0   \n",
       "1636                                        1   \n",
       "2259                                        0   \n",
       "4087                                        0   \n",
       "\n",
       "      PaymentMethod_Credit card (automatic)  PaymentMethod_Electronic check  \\\n",
       "713                                       0                               0   \n",
       "4190                                      1                               0   \n",
       "1636                                      0                               0   \n",
       "2259                                      0                               0   \n",
       "4087                                      0                               0   \n",
       "\n",
       "      PaymentMethod_Mailed check  \n",
       "713                            1  \n",
       "4190                           0  \n",
       "1636                           0  \n",
       "2259                           1  \n",
       "4087                           1  \n",
       "\n",
       "[5 rows x 27 columns]"
      ]
     },
     "execution_count": 17,
     "metadata": {},
     "output_type": "execute_result"
    }
   ],
   "source": [
    "df2.sample(5)"
   ]
  },
  {
   "cell_type": "code",
   "execution_count": 18,
   "metadata": {},
   "outputs": [
    {
     "data": {
      "text/html": [
       "<div>\n",
       "<style scoped>\n",
       "    .dataframe tbody tr th:only-of-type {\n",
       "        vertical-align: middle;\n",
       "    }\n",
       "\n",
       "    .dataframe tbody tr th {\n",
       "        vertical-align: top;\n",
       "    }\n",
       "\n",
       "    .dataframe thead th {\n",
       "        text-align: right;\n",
       "    }\n",
       "</style>\n",
       "<table border=\"1\" class=\"dataframe\">\n",
       "  <thead>\n",
       "    <tr style=\"text-align: right;\">\n",
       "      <th></th>\n",
       "      <th>Total Bad</th>\n",
       "      <th>Total Good</th>\n",
       "      <th>Portfolio Churn Rate %</th>\n",
       "    </tr>\n",
       "  </thead>\n",
       "  <tbody>\n",
       "    <tr>\n",
       "      <th>0</th>\n",
       "      <td>1869</td>\n",
       "      <td>5174</td>\n",
       "      <td>26.54</td>\n",
       "    </tr>\n",
       "  </tbody>\n",
       "</table>\n",
       "</div>"
      ],
      "text/plain": [
       "   Total Bad  Total Good  Portfolio Churn Rate %\n",
       "0       1869        5174                   26.54"
      ]
     },
     "execution_count": 18,
     "metadata": {},
     "output_type": "execute_result"
    }
   ],
   "source": [
    "churn_yes = len(df2[df2['Churn'] == 1])\n",
    "churn_no = len(df2[df2['Churn'] == 0])\n",
    "churn_rate = churn_yes / (churn_yes + churn_no) * 100\n",
    "\n",
    "pd.DataFrame({'Total Bad': churn_yes, 'Total Good': churn_no, 'Portfolio Churn Rate %': [round(churn_rate, 2)]})"
   ]
  },
  {
   "cell_type": "code",
   "execution_count": 19,
   "metadata": {},
   "outputs": [],
   "source": [
    "new_df = {}\n",
    "new_df['male'] = df2.loc[df2['gender'] == 1, 'Churn'].value_counts()\n",
    "new_df['female'] = df2.loc[df2['gender'] == 0, 'Churn'].value_counts()\n",
    "new_df['senior'] = df2.loc[df2['SeniorCitizen'] == 1, 'Churn'].value_counts()\n",
    "new_df['non-senior'] = df2.loc[df2['SeniorCitizen'] == 0, 'Churn'].value_counts()\n",
    "new_df['tenure_lt_1yr'] = df2.loc[df2['tenure'] < 12, 'Churn'].value_counts()\n",
    "new_df['tenure_lt_2yr'] = df2.loc[df2['tenure'] < 24, 'Churn'].value_counts()\n",
    "new_df['tenure_lt_3yr'] = df2.loc[df2['tenure'] < 36, 'Churn'].value_counts()\n",
    "new_df['tenure_gt_5yr'] = df2.loc[df2['tenure'] > 60, 'Churn'].value_counts()\n",
    "new_df['1mth_contract'] = df2.loc[df2['Contract_Month-to-month'] == 1, 'Churn'].value_counts()\n",
    "new_df['1yr_contract'] = df2.loc[df2['Contract_One year'] == 1, 'Churn'].value_counts()\n",
    "new_df['2yr_contract'] = df2.loc[df2['Contract_Two year'] == 1, 'Churn'].value_counts()\n"
   ]
  },
  {
   "cell_type": "code",
   "execution_count": 20,
   "metadata": {},
   "outputs": [],
   "source": [
    "new_df = pd.DataFrame(new_df).T"
   ]
  },
  {
   "cell_type": "code",
   "execution_count": 21,
   "metadata": {},
   "outputs": [
    {
     "data": {
      "text/html": [
       "<style type=\"text/css\">\n",
       "#T_2179e_row0_col2 {\n",
       "  width: 10em;\n",
       "  height: 80%;\n",
       "  background: linear-gradient(90deg,#ee1f5f 100.0%, transparent 100.0%);\n",
       "}\n",
       "#T_2179e_row1_col2 {\n",
       "  width: 10em;\n",
       "  height: 80%;\n",
       "  background: linear-gradient(90deg,#ee1f5f 87.7%, transparent 87.7%);\n",
       "}\n",
       "#T_2179e_row2_col2 {\n",
       "  width: 10em;\n",
       "  height: 80%;\n",
       "  background: linear-gradient(90deg,#ee1f5f 86.1%, transparent 86.1%);\n",
       "}\n",
       "#T_2179e_row3_col2 {\n",
       "  width: 10em;\n",
       "  height: 80%;\n",
       "  background: linear-gradient(90deg,#ee1f5f 85.5%, transparent 85.5%);\n",
       "}\n",
       "#T_2179e_row4_col2 {\n",
       "  width: 10em;\n",
       "  height: 80%;\n",
       "  background: linear-gradient(90deg,#ee1f5f 76.5%, transparent 76.5%);\n",
       "}\n",
       "#T_2179e_row5_col2 {\n",
       "  width: 10em;\n",
       "  height: 80%;\n",
       "  background: linear-gradient(90deg,#ee1f5f 53.0%, transparent 53.0%);\n",
       "}\n",
       "#T_2179e_row6_col2 {\n",
       "  width: 10em;\n",
       "  height: 80%;\n",
       "  background: linear-gradient(90deg,#ee1f5f 51.3%, transparent 51.3%);\n",
       "}\n",
       "#T_2179e_row7_col2 {\n",
       "  width: 10em;\n",
       "  height: 80%;\n",
       "  background: linear-gradient(90deg,#ee1f5f 45.7%, transparent 45.7%);\n",
       "}\n",
       "#T_2179e_row8_col2 {\n",
       "  width: 10em;\n",
       "  height: 80%;\n",
       "  background: linear-gradient(90deg,#ee1f5f 18.6%, transparent 18.6%);\n",
       "}\n",
       "#T_2179e_row9_col2 {\n",
       "  width: 10em;\n",
       "  height: 80%;\n",
       "  background: linear-gradient(90deg,#ee1f5f 8.3%, transparent 8.3%);\n",
       "}\n",
       "#T_2179e_row10_col2 {\n",
       "  width: 10em;\n",
       "  height: 80%;\n",
       "}\n",
       "</style>\n",
       "<table id=\"T_2179e_\">\n",
       "  <thead>\n",
       "    <tr>\n",
       "      <th class=\"blank level0\" >&nbsp;</th>\n",
       "      <th class=\"col_heading level0 col0\" >0</th>\n",
       "      <th class=\"col_heading level0 col1\" >1</th>\n",
       "      <th class=\"col_heading level0 col2\" >Churn Rate %</th>\n",
       "    </tr>\n",
       "  </thead>\n",
       "  <tbody>\n",
       "    <tr>\n",
       "      <th id=\"T_2179e_level0_row0\" class=\"row_heading level0 row0\" >tenure_lt_1yr</th>\n",
       "      <td id=\"T_2179e_row0_col0\" class=\"data row0 col0\" >1070</td>\n",
       "      <td id=\"T_2179e_row0_col1\" class=\"data row0 col1\" >999</td>\n",
       "      <td id=\"T_2179e_row0_col2\" class=\"data row0 col2\" >48.28%</td>\n",
       "    </tr>\n",
       "    <tr>\n",
       "      <th id=\"T_2179e_level0_row1\" class=\"row_heading level0 row1\" >1mth_contract</th>\n",
       "      <td id=\"T_2179e_row1_col0\" class=\"data row1 col0\" >2220</td>\n",
       "      <td id=\"T_2179e_row1_col1\" class=\"data row1 col1\" >1655</td>\n",
       "      <td id=\"T_2179e_row1_col2\" class=\"data row1 col2\" >42.71%</td>\n",
       "    </tr>\n",
       "    <tr>\n",
       "      <th id=\"T_2179e_level0_row2\" class=\"row_heading level0 row2\" >tenure_lt_2yr</th>\n",
       "      <td id=\"T_2179e_row2_col0\" class=\"data row2 col0\" >1808</td>\n",
       "      <td id=\"T_2179e_row2_col1\" class=\"data row2 col1\" >1308</td>\n",
       "      <td id=\"T_2179e_row2_col2\" class=\"data row2 col2\" >41.98%</td>\n",
       "    </tr>\n",
       "    <tr>\n",
       "      <th id=\"T_2179e_level0_row3\" class=\"row_heading level0 row3\" >senior</th>\n",
       "      <td id=\"T_2179e_row3_col0\" class=\"data row3 col0\" >666</td>\n",
       "      <td id=\"T_2179e_row3_col1\" class=\"data row3 col1\" >476</td>\n",
       "      <td id=\"T_2179e_row3_col2\" class=\"data row3 col2\" >41.68%</td>\n",
       "    </tr>\n",
       "    <tr>\n",
       "      <th id=\"T_2179e_level0_row4\" class=\"row_heading level0 row4\" >tenure_lt_3yr</th>\n",
       "      <td id=\"T_2179e_row4_col0\" class=\"data row4 col0\" >2491</td>\n",
       "      <td id=\"T_2179e_row4_col1\" class=\"data row4 col1\" >1501</td>\n",
       "      <td id=\"T_2179e_row4_col2\" class=\"data row4 col2\" >37.60%</td>\n",
       "    </tr>\n",
       "    <tr>\n",
       "      <th id=\"T_2179e_level0_row5\" class=\"row_heading level0 row5\" >female</th>\n",
       "      <td id=\"T_2179e_row5_col0\" class=\"data row5 col0\" >2549</td>\n",
       "      <td id=\"T_2179e_row5_col1\" class=\"data row5 col1\" >939</td>\n",
       "      <td id=\"T_2179e_row5_col2\" class=\"data row5 col2\" >26.92%</td>\n",
       "    </tr>\n",
       "    <tr>\n",
       "      <th id=\"T_2179e_level0_row6\" class=\"row_heading level0 row6\" >male</th>\n",
       "      <td id=\"T_2179e_row6_col0\" class=\"data row6 col0\" >2625</td>\n",
       "      <td id=\"T_2179e_row6_col1\" class=\"data row6 col1\" >930</td>\n",
       "      <td id=\"T_2179e_row6_col2\" class=\"data row6 col2\" >26.16%</td>\n",
       "    </tr>\n",
       "    <tr>\n",
       "      <th id=\"T_2179e_level0_row7\" class=\"row_heading level0 row7\" >non-senior</th>\n",
       "      <td id=\"T_2179e_row7_col0\" class=\"data row7 col0\" >4508</td>\n",
       "      <td id=\"T_2179e_row7_col1\" class=\"data row7 col1\" >1393</td>\n",
       "      <td id=\"T_2179e_row7_col2\" class=\"data row7 col2\" >23.61%</td>\n",
       "    </tr>\n",
       "    <tr>\n",
       "      <th id=\"T_2179e_level0_row8\" class=\"row_heading level0 row8\" >1yr_contract</th>\n",
       "      <td id=\"T_2179e_row8_col0\" class=\"data row8 col0\" >1307</td>\n",
       "      <td id=\"T_2179e_row8_col1\" class=\"data row8 col1\" >166</td>\n",
       "      <td id=\"T_2179e_row8_col2\" class=\"data row8 col2\" >11.27%</td>\n",
       "    </tr>\n",
       "    <tr>\n",
       "      <th id=\"T_2179e_level0_row9\" class=\"row_heading level0 row9\" >tenure_gt_5yr</th>\n",
       "      <td id=\"T_2179e_row9_col0\" class=\"data row9 col0\" >1314</td>\n",
       "      <td id=\"T_2179e_row9_col1\" class=\"data row9 col1\" >93</td>\n",
       "      <td id=\"T_2179e_row9_col2\" class=\"data row9 col2\" >6.61%</td>\n",
       "    </tr>\n",
       "    <tr>\n",
       "      <th id=\"T_2179e_level0_row10\" class=\"row_heading level0 row10\" >2yr_contract</th>\n",
       "      <td id=\"T_2179e_row10_col0\" class=\"data row10 col0\" >1647</td>\n",
       "      <td id=\"T_2179e_row10_col1\" class=\"data row10 col1\" >48</td>\n",
       "      <td id=\"T_2179e_row10_col2\" class=\"data row10 col2\" >2.83%</td>\n",
       "    </tr>\n",
       "  </tbody>\n",
       "</table>\n"
      ],
      "text/plain": [
       "<pandas.io.formats.style.Styler at 0x1f06f672be0>"
      ]
     },
     "execution_count": 21,
     "metadata": {},
     "output_type": "execute_result"
    }
   ],
   "source": [
    "new_df['Churn Rate %'] = new_df[1] / (new_df[1] + new_df[0])\n",
    "\n",
    "sorted_new_df = new_df.sort_values(by=['Churn Rate %'], ascending=False)\n",
    "sorted_new_df.head(13).style.format({0: \"{:.0f}\", 1: \"{:.0f}\", 'Churn Rate %': \"{:.2%}\"})\\\n",
    "                            .bar(subset=['Churn Rate %'], color='#ee1f5f')"
   ]
  },
  {
   "cell_type": "markdown",
   "metadata": {},
   "source": [
    "Comparison of Churn Rates: \n",
    "* Long-tenure customers are less likely to churn - Churn rate of tenure less than 1 year is 48.28%\n",
    "* Customers with more flexible month-to-month contract are more likely to churn - Churn rate of monthly contract is 42.71%\n",
    "* A high portion of senior citizens will churn than non-senior citizens\n",
    "* Female is slightly likely to churn compared with male"
   ]
  },
  {
   "cell_type": "markdown",
   "metadata": {},
   "source": [
    "<a id='countplot'></a>\n",
    "### CountPlot"
   ]
  },
  {
   "cell_type": "code",
   "execution_count": 22,
   "metadata": {},
   "outputs": [
    {
     "data": {
      "text/plain": [
       "<AxesSubplot:xlabel='Contract_Two year', ylabel='count'>"
      ]
     },
     "execution_count": 22,
     "metadata": {},
     "output_type": "execute_result"
    },
    {
     "data": {
      "image/png": "[encoded data removed]",
      "text/plain": [
       "<Figure size 1080x360 with 3 Axes>"
      ]
     },
     "metadata": {
      "needs_background": "light"
     },
     "output_type": "display_data"
    }
   ],
   "source": [
    "main, subplots = plt.subplots(1, 3, figsize=(15,5))\n",
    "sns.countplot(data=df2, x=\"Contract_Month-to-month\", hue=\"Churn\", ax=subplots[0])\n",
    "sns.countplot(data=df2, x=\"Contract_One year\", hue=\"Churn\", ax=subplots[1])\n",
    "sns.countplot(data=df2, x=\"Contract_Two year\", hue=\"Churn\", ax=subplots[2])"
   ]
  },
  {
   "cell_type": "code",
   "execution_count": 23,
   "metadata": {},
   "outputs": [
    {
     "data": {
      "text/plain": [
       "<AxesSubplot:xlabel='PaymentMethod_Mailed check', ylabel='count'>"
      ]
     },
     "execution_count": 23,
     "metadata": {},
     "output_type": "execute_result"
    },
    {
     "data": {
      "image/png": "[encoded data removed]",
      "text/plain": [
       "<Figure size 1080x360 with 4 Axes>"
      ]
     },
     "metadata": {
      "needs_background": "light"
     },
     "output_type": "display_data"
    }
   ],
   "source": [
    "main, subplots = plt.subplots(1, 4, figsize=(15,5))\n",
    "sns.countplot(data=df2, x=\"PaymentMethod_Bank transfer (automatic)\", hue=\"Churn\", ax=subplots[0])\n",
    "sns.countplot(data=df2, x=\"PaymentMethod_Credit card (automatic)\", hue=\"Churn\", ax=subplots[1])\n",
    "sns.countplot(data=df2, x=\"PaymentMethod_Electronic check\", hue=\"Churn\", ax=subplots[2])\n",
    "sns.countplot(data=df2, x=\"PaymentMethod_Mailed check\", hue=\"Churn\", ax=subplots[3])"
   ]
  },
  {
   "cell_type": "markdown",
   "metadata": {},
   "source": [
    "* PaymentMethod_Electronic check has the highest churn rate compared with other payment methods"
   ]
  },
  {
   "cell_type": "code",
   "execution_count": 24,
   "metadata": {},
   "outputs": [
    {
     "data": {
      "text/plain": [
       "<AxesSubplot:xlabel='InternetService_No', ylabel='count'>"
      ]
     },
     "execution_count": 24,
     "metadata": {},
     "output_type": "execute_result"
    },
    {
     "data": {
      "image/png": "[encoded data removed]",
      "text/plain": [
       "<Figure size 1080x360 with 3 Axes>"
      ]
     },
     "metadata": {
      "needs_background": "light"
     },
     "output_type": "display_data"
    }
   ],
   "source": [
    "main, subplots = plt.subplots(1, 3, figsize=(15,5))\n",
    "sns.countplot(data=df2, x=\"InternetService_DSL\", hue=\"Churn\", ax=subplots[0])\n",
    "sns.countplot(data=df2, x=\"InternetService_Fiber optic\", hue=\"Churn\", ax=subplots[1])\n",
    "sns.countplot(data=df2, x=\"InternetService_No\", hue=\"Churn\", ax=subplots[2])"
   ]
  },
  {
   "cell_type": "markdown",
   "metadata": {},
   "source": [
    "* InternetService_Fiber optic has the highest churn rate, followed by InternetService_DSL and InternetService_No\n",
    "* Implying fiber internet customers are not statisfied with the service"
   ]
  },
  {
   "cell_type": "markdown",
   "metadata": {},
   "source": [
    "<a id='tree'></a>\n",
    "# Initial Decision Tree\n",
    "\n",
    "\n"
   ]
  },
  {
   "cell_type": "markdown",
   "metadata": {},
   "source": [
    "Target: Churn"
   ]
  },
  {
   "cell_type": "code",
   "execution_count": 25,
   "metadata": {},
   "outputs": [],
   "source": [
    "from sklearn.model_selection import train_test_split\n",
    "from sklearn.tree import DecisionTreeClassifier\n",
    "from sklearn import metrics\n",
    "from sklearn import tree\n",
    "import graphviz"
   ]
  },
  {
   "cell_type": "code",
   "execution_count": 26,
   "metadata": {},
   "outputs": [],
   "source": [
    "df3 = df2.dropna()"
   ]
  },
  {
   "cell_type": "code",
   "execution_count": 27,
   "metadata": {},
   "outputs": [
    {
     "data": {
      "text/plain": [
       "DecisionTreeClassifier(max_depth=3)"
      ]
     },
     "execution_count": 27,
     "metadata": {},
     "output_type": "execute_result"
    }
   ],
   "source": [
    "train_data = df3.drop(['Churn'], axis=1)\n",
    "train_labels = df3['Churn']\n",
    "\n",
    "X_train, X_test, y_train, y_test = train_test_split(train_data, train_labels, test_size=0.3, random_state=1)\n",
    "\n",
    "model = tree.DecisionTreeClassifier(max_depth=3)\n",
    "model.fit(X_train, y_train)"
   ]
  },
  {
   "cell_type": "code",
   "execution_count": 28,
   "metadata": {},
   "outputs": [
    {
     "name": "stdout",
     "output_type": "stream",
     "text": [
      "Accuracy = 79.76%\n"
     ]
    }
   ],
   "source": [
    "string = \"Accuracy = {AR:.2%}\"\n",
    "\n",
    "y_pred = model.predict(X_test)\n",
    "AR = metrics.accuracy_score(y_test, y_pred)\n",
    "print(string.format(AR = AR))"
   ]
  },
  {
   "cell_type": "code",
   "execution_count": 29,
   "metadata": {},
   "outputs": [
    {
     "data": {
      "image/svg+xml": "<?xml version=\"1.0\" encoding=\"UTF-8\" standalone=\"no\"?>\n<!DOCTYPE svg PUBLIC \"-//W3C//DTD SVG 1.1//EN\"\n \"http://www.w3.org/Graphics/SVG/1.1/DTD/svg11.dtd\">\n<!-- Generated by graphviz version 2.49.3 (20211023.0002)\n -->\n<!-- Title: Tree Pages: 1 -->\n<svg width=\"1142pt\" height=\"433pt\"\n viewBox=\"0.00 0.00 1142.00 433.00\" xmlns=\"http://www.w3.org/2000/svg\" xmlns:xlink=\"http://www.w3.org/1999/xlink\">\n<g id=\"graph0\" class=\"graph\" transform=\"scale(1 1) rotate(0) translate(4 429)\">\n<title>Tree</title>\n<polygon fill=\"white\" stroke=\"transparent\" points=\"-4,4 -4,-429 1138,-429 1138,4 -4,4\"/>\n<!-- 0 -->\n<g id=\"node1\" class=\"node\">\n<title>0</title>\n<path fill=\"#eeaf81\" stroke=\"black\" d=\"M720.5,-425C720.5,-425 523.5,-425 523.5,-425 517.5,-425 511.5,-419 511.5,-413 511.5,-413 511.5,-354 511.5,-354 511.5,-348 517.5,-342 523.5,-342 523.5,-342 720.5,-342 720.5,-342 726.5,-342 732.5,-348 732.5,-354 732.5,-354 732.5,-413 732.5,-413 732.5,-419 726.5,-425 720.5,-425\"/>\n<text text-anchor=\"middle\" x=\"622\" y=\"-409.8\" font-family=\"Helvetica,sans-Serif\" font-size=\"14.00\">Contract_Month&#45;to&#45;month &lt;= 0.5</text>\n<text text-anchor=\"middle\" x=\"622\" y=\"-394.8\" font-family=\"Helvetica,sans-Serif\" font-size=\"14.00\">gini = 0.391</text>\n<text text-anchor=\"middle\" x=\"622\" y=\"-379.8\" font-family=\"Helvetica,sans-Serif\" font-size=\"14.00\">samples = 4922</text>\n<text text-anchor=\"middle\" x=\"622\" y=\"-364.8\" font-family=\"Helvetica,sans-Serif\" font-size=\"14.00\">value = [3608, 1314]</text>\n<text text-anchor=\"middle\" x=\"622\" y=\"-349.8\" font-family=\"Helvetica,sans-Serif\" font-size=\"14.00\">class = No</text>\n</g>\n<!-- 1 -->\n<g id=\"node2\" class=\"node\">\n<title>1</title>\n<path fill=\"#e78a48\" stroke=\"black\" d=\"M517,-306C517,-306 353,-306 353,-306 347,-306 341,-300 341,-294 341,-294 341,-235 341,-235 341,-229 347,-223 353,-223 353,-223 517,-223 517,-223 523,-223 529,-229 529,-235 529,-235 529,-294 529,-294 529,-300 523,-306 517,-306\"/>\n<text text-anchor=\"middle\" x=\"435\" y=\"-290.8\" font-family=\"Helvetica,sans-Serif\" font-size=\"14.00\">MonthlyCharges &lt;= 93.675</text>\n<text text-anchor=\"middle\" x=\"435\" y=\"-275.8\" font-family=\"Helvetica,sans-Serif\" font-size=\"14.00\">gini = 0.128</text>\n<text text-anchor=\"middle\" x=\"435\" y=\"-260.8\" font-family=\"Helvetica,sans-Serif\" font-size=\"14.00\">samples = 2217</text>\n<text text-anchor=\"middle\" x=\"435\" y=\"-245.8\" font-family=\"Helvetica,sans-Serif\" font-size=\"14.00\">value = [2065, 152]</text>\n<text text-anchor=\"middle\" x=\"435\" y=\"-230.8\" font-family=\"Helvetica,sans-Serif\" font-size=\"14.00\">class = No</text>\n</g>\n<!-- 0&#45;&gt;1 -->\n<g id=\"edge1\" class=\"edge\">\n<title>0&#45;&gt;1</title>\n<path fill=\"none\" stroke=\"black\" d=\"M557.12,-341.91C541.46,-332.11 524.6,-321.56 508.57,-311.53\"/>\n<polygon fill=\"black\" stroke=\"black\" points=\"510.1,-308.36 499.76,-306.02 506.39,-314.29 510.1,-308.36\"/>\n<text text-anchor=\"middle\" x=\"505.37\" y=\"-326.68\" font-family=\"Helvetica,sans-Serif\" font-size=\"14.00\">True</text>\n</g>\n<!-- 8 -->\n<g id=\"node9\" class=\"node\">\n<title>8</title>\n<path fill=\"#f9e0ce\" stroke=\"black\" d=\"M805.5,-306C805.5,-306 596.5,-306 596.5,-306 590.5,-306 584.5,-300 584.5,-294 584.5,-294 584.5,-235 584.5,-235 584.5,-229 590.5,-223 596.5,-223 596.5,-223 805.5,-223 805.5,-223 811.5,-223 817.5,-229 817.5,-235 817.5,-235 817.5,-294 817.5,-294 817.5,-300 811.5,-306 805.5,-306\"/>\n<text text-anchor=\"middle\" x=\"701\" y=\"-290.8\" font-family=\"Helvetica,sans-Serif\" font-size=\"14.00\">InternetService_Fiber optic &lt;= 0.5</text>\n<text text-anchor=\"middle\" x=\"701\" y=\"-275.8\" font-family=\"Helvetica,sans-Serif\" font-size=\"14.00\">gini = 0.49</text>\n<text text-anchor=\"middle\" x=\"701\" y=\"-260.8\" font-family=\"Helvetica,sans-Serif\" font-size=\"14.00\">samples = 2705</text>\n<text text-anchor=\"middle\" x=\"701\" y=\"-245.8\" font-family=\"Helvetica,sans-Serif\" font-size=\"14.00\">value = [1543, 1162]</text>\n<text text-anchor=\"middle\" x=\"701\" y=\"-230.8\" font-family=\"Helvetica,sans-Serif\" font-size=\"14.00\">class = No</text>\n</g>\n<!-- 0&#45;&gt;8 -->\n<g id=\"edge8\" class=\"edge\">\n<title>0&#45;&gt;8</title>\n<path fill=\"none\" stroke=\"black\" d=\"M649.41,-341.91C655.41,-333.01 661.83,-323.51 668.03,-314.33\"/>\n<polygon fill=\"black\" stroke=\"black\" points=\"670.94,-316.27 673.64,-306.02 665.14,-312.35 670.94,-316.27\"/>\n<text text-anchor=\"middle\" x=\"678.4\" y=\"-326.86\" font-family=\"Helvetica,sans-Serif\" font-size=\"14.00\">False</text>\n</g>\n<!-- 2 -->\n<g id=\"node3\" class=\"node\">\n<title>2</title>\n<path fill=\"#e68641\" stroke=\"black\" d=\"M279,-187C279,-187 123,-187 123,-187 117,-187 111,-181 111,-175 111,-175 111,-116 111,-116 111,-110 117,-104 123,-104 123,-104 279,-104 279,-104 285,-104 291,-110 291,-116 291,-116 291,-175 291,-175 291,-181 285,-187 279,-187\"/>\n<text text-anchor=\"middle\" x=\"201\" y=\"-171.8\" font-family=\"Helvetica,sans-Serif\" font-size=\"14.00\">Contract_One year &lt;= 0.5</text>\n<text text-anchor=\"middle\" x=\"201\" y=\"-156.8\" font-family=\"Helvetica,sans-Serif\" font-size=\"14.00\">gini = 0.077</text>\n<text text-anchor=\"middle\" x=\"201\" y=\"-141.8\" font-family=\"Helvetica,sans-Serif\" font-size=\"14.00\">samples = 1652</text>\n<text text-anchor=\"middle\" x=\"201\" y=\"-126.8\" font-family=\"Helvetica,sans-Serif\" font-size=\"14.00\">value = [1586, 66]</text>\n<text text-anchor=\"middle\" x=\"201\" y=\"-111.8\" font-family=\"Helvetica,sans-Serif\" font-size=\"14.00\">class = No</text>\n</g>\n<!-- 1&#45;&gt;2 -->\n<g id=\"edge2\" class=\"edge\">\n<title>1&#45;&gt;2</title>\n<path fill=\"none\" stroke=\"black\" d=\"M353.81,-222.91C333.58,-212.79 311.76,-201.88 291.12,-191.56\"/>\n<polygon fill=\"black\" stroke=\"black\" points=\"292.55,-188.36 282.04,-187.02 289.42,-194.62 292.55,-188.36\"/>\n</g>\n<!-- 5 -->\n<g id=\"node6\" class=\"node\">\n<title>5</title>\n<path fill=\"#ea985d\" stroke=\"black\" d=\"M513,-187C513,-187 357,-187 357,-187 351,-187 345,-181 345,-175 345,-175 345,-116 345,-116 345,-110 351,-104 357,-104 357,-104 513,-104 513,-104 519,-104 525,-110 525,-116 525,-116 525,-175 525,-175 525,-181 519,-187 513,-187\"/>\n<text text-anchor=\"middle\" x=\"435\" y=\"-171.8\" font-family=\"Helvetica,sans-Serif\" font-size=\"14.00\">Contract_One year &lt;= 0.5</text>\n<text text-anchor=\"middle\" x=\"435\" y=\"-156.8\" font-family=\"Helvetica,sans-Serif\" font-size=\"14.00\">gini = 0.258</text>\n<text text-anchor=\"middle\" x=\"435\" y=\"-141.8\" font-family=\"Helvetica,sans-Serif\" font-size=\"14.00\">samples = 565</text>\n<text text-anchor=\"middle\" x=\"435\" y=\"-126.8\" font-family=\"Helvetica,sans-Serif\" font-size=\"14.00\">value = [479, 86]</text>\n<text text-anchor=\"middle\" x=\"435\" y=\"-111.8\" font-family=\"Helvetica,sans-Serif\" font-size=\"14.00\">class = No</text>\n</g>\n<!-- 1&#45;&gt;5 -->\n<g id=\"edge5\" class=\"edge\">\n<title>1&#45;&gt;5</title>\n<path fill=\"none\" stroke=\"black\" d=\"M435,-222.91C435,-214.65 435,-205.86 435,-197.3\"/>\n<polygon fill=\"black\" stroke=\"black\" points=\"438.5,-197.02 435,-187.02 431.5,-197.02 438.5,-197.02\"/>\n</g>\n<!-- 3 -->\n<g id=\"node4\" class=\"node\">\n<title>3</title>\n<path fill=\"#e5823b\" stroke=\"black\" d=\"M110,-68C110,-68 12,-68 12,-68 6,-68 0,-62 0,-56 0,-56 0,-12 0,-12 0,-6 6,0 12,0 12,0 110,0 110,0 116,0 122,-6 122,-12 122,-12 122,-56 122,-56 122,-62 116,-68 110,-68\"/>\n<text text-anchor=\"middle\" x=\"61\" y=\"-52.8\" font-family=\"Helvetica,sans-Serif\" font-size=\"14.00\">gini = 0.022</text>\n<text text-anchor=\"middle\" x=\"61\" y=\"-37.8\" font-family=\"Helvetica,sans-Serif\" font-size=\"14.00\">samples = 898</text>\n<text text-anchor=\"middle\" x=\"61\" y=\"-22.8\" font-family=\"Helvetica,sans-Serif\" font-size=\"14.00\">value = [888, 10]</text>\n<text text-anchor=\"middle\" x=\"61\" y=\"-7.8\" font-family=\"Helvetica,sans-Serif\" font-size=\"14.00\">class = No</text>\n</g>\n<!-- 2&#45;&gt;3 -->\n<g id=\"edge3\" class=\"edge\">\n<title>2&#45;&gt;3</title>\n<path fill=\"none\" stroke=\"black\" d=\"M148.87,-103.73C136.74,-94.24 123.85,-84.16 111.78,-74.72\"/>\n<polygon fill=\"black\" stroke=\"black\" points=\"113.61,-71.7 103.57,-68.3 109.3,-77.22 113.61,-71.7\"/>\n</g>\n<!-- 4 -->\n<g id=\"node5\" class=\"node\">\n<title>4</title>\n<path fill=\"#e78b49\" stroke=\"black\" d=\"M250,-68C250,-68 152,-68 152,-68 146,-68 140,-62 140,-56 140,-56 140,-12 140,-12 140,-6 146,0 152,0 152,0 250,0 250,0 256,0 262,-6 262,-12 262,-12 262,-56 262,-56 262,-62 256,-68 250,-68\"/>\n<text text-anchor=\"middle\" x=\"201\" y=\"-52.8\" font-family=\"Helvetica,sans-Serif\" font-size=\"14.00\">gini = 0.138</text>\n<text text-anchor=\"middle\" x=\"201\" y=\"-37.8\" font-family=\"Helvetica,sans-Serif\" font-size=\"14.00\">samples = 754</text>\n<text text-anchor=\"middle\" x=\"201\" y=\"-22.8\" font-family=\"Helvetica,sans-Serif\" font-size=\"14.00\">value = [698, 56]</text>\n<text text-anchor=\"middle\" x=\"201\" y=\"-7.8\" font-family=\"Helvetica,sans-Serif\" font-size=\"14.00\">class = No</text>\n</g>\n<!-- 2&#45;&gt;4 -->\n<g id=\"edge4\" class=\"edge\">\n<title>2&#45;&gt;4</title>\n<path fill=\"none\" stroke=\"black\" d=\"M201,-103.73C201,-95.52 201,-86.86 201,-78.56\"/>\n<polygon fill=\"black\" stroke=\"black\" points=\"204.5,-78.3 201,-68.3 197.5,-78.3 204.5,-78.3\"/>\n</g>\n<!-- 6 -->\n<g id=\"node7\" class=\"node\">\n<title>6</title>\n<path fill=\"#e78c4a\" stroke=\"black\" d=\"M390,-68C390,-68 292,-68 292,-68 286,-68 280,-62 280,-56 280,-56 280,-12 280,-12 280,-6 286,0 292,0 292,0 390,0 390,0 396,0 402,-6 402,-12 402,-12 402,-56 402,-56 402,-62 396,-68 390,-68\"/>\n<text text-anchor=\"middle\" x=\"341\" y=\"-52.8\" font-family=\"Helvetica,sans-Serif\" font-size=\"14.00\">gini = 0.144</text>\n<text text-anchor=\"middle\" x=\"341\" y=\"-37.8\" font-family=\"Helvetica,sans-Serif\" font-size=\"14.00\">samples = 281</text>\n<text text-anchor=\"middle\" x=\"341\" y=\"-22.8\" font-family=\"Helvetica,sans-Serif\" font-size=\"14.00\">value = [259, 22]</text>\n<text text-anchor=\"middle\" x=\"341\" y=\"-7.8\" font-family=\"Helvetica,sans-Serif\" font-size=\"14.00\">class = No</text>\n</g>\n<!-- 5&#45;&gt;6 -->\n<g id=\"edge6\" class=\"edge\">\n<title>5&#45;&gt;6</title>\n<path fill=\"none\" stroke=\"black\" d=\"M400,-103.73C392.25,-94.7 384.03,-85.12 376.27,-76.08\"/>\n<polygon fill=\"black\" stroke=\"black\" points=\"378.76,-73.61 369.59,-68.3 373.44,-78.17 378.76,-73.61\"/>\n</g>\n<!-- 7 -->\n<g id=\"node8\" class=\"node\">\n<title>7</title>\n<path fill=\"#eda673\" stroke=\"black\" d=\"M530,-68C530,-68 432,-68 432,-68 426,-68 420,-62 420,-56 420,-56 420,-12 420,-12 420,-6 426,0 432,0 432,0 530,0 530,0 536,0 542,-6 542,-12 542,-12 542,-56 542,-56 542,-62 536,-68 530,-68\"/>\n<text text-anchor=\"middle\" x=\"481\" y=\"-52.8\" font-family=\"Helvetica,sans-Serif\" font-size=\"14.00\">gini = 0.349</text>\n<text text-anchor=\"middle\" x=\"481\" y=\"-37.8\" font-family=\"Helvetica,sans-Serif\" font-size=\"14.00\">samples = 284</text>\n<text text-anchor=\"middle\" x=\"481\" y=\"-22.8\" font-family=\"Helvetica,sans-Serif\" font-size=\"14.00\">value = [220, 64]</text>\n<text text-anchor=\"middle\" x=\"481\" y=\"-7.8\" font-family=\"Helvetica,sans-Serif\" font-size=\"14.00\">class = No</text>\n</g>\n<!-- 5&#45;&gt;7 -->\n<g id=\"edge7\" class=\"edge\">\n<title>5&#45;&gt;7</title>\n<path fill=\"none\" stroke=\"black\" d=\"M452.13,-103.73C455.69,-95.24 459.46,-86.28 463.05,-77.73\"/>\n<polygon fill=\"black\" stroke=\"black\" points=\"466.36,-78.87 467.01,-68.3 459.91,-76.16 466.36,-78.87\"/>\n</g>\n<!-- 9 -->\n<g id=\"node10\" class=\"node\">\n<title>9</title>\n<path fill=\"#f0b48a\" stroke=\"black\" d=\"M754,-187C754,-187 648,-187 648,-187 642,-187 636,-181 636,-175 636,-175 636,-116 636,-116 636,-110 642,-104 648,-104 648,-104 754,-104 754,-104 760,-104 766,-110 766,-116 766,-116 766,-175 766,-175 766,-181 760,-187 754,-187\"/>\n<text text-anchor=\"middle\" x=\"701\" y=\"-171.8\" font-family=\"Helvetica,sans-Serif\" font-size=\"14.00\">tenure &lt;= 3.5</text>\n<text text-anchor=\"middle\" x=\"701\" y=\"-156.8\" font-family=\"Helvetica,sans-Serif\" font-size=\"14.00\">gini = 0.411</text>\n<text text-anchor=\"middle\" x=\"701\" y=\"-141.8\" font-family=\"Helvetica,sans-Serif\" font-size=\"14.00\">samples = 1226</text>\n<text text-anchor=\"middle\" x=\"701\" y=\"-126.8\" font-family=\"Helvetica,sans-Serif\" font-size=\"14.00\">value = [871, 355]</text>\n<text text-anchor=\"middle\" x=\"701\" y=\"-111.8\" font-family=\"Helvetica,sans-Serif\" font-size=\"14.00\">class = No</text>\n</g>\n<!-- 8&#45;&gt;9 -->\n<g id=\"edge9\" class=\"edge\">\n<title>8&#45;&gt;9</title>\n<path fill=\"none\" stroke=\"black\" d=\"M701,-222.91C701,-214.65 701,-205.86 701,-197.3\"/>\n<polygon fill=\"black\" stroke=\"black\" points=\"704.5,-197.02 701,-187.02 697.5,-197.02 704.5,-197.02\"/>\n</g>\n<!-- 12 -->\n<g id=\"node13\" class=\"node\">\n<title>12</title>\n<path fill=\"#deeffb\" stroke=\"black\" d=\"M974,-187C974,-187 868,-187 868,-187 862,-187 856,-181 856,-175 856,-175 856,-116 856,-116 856,-110 862,-104 868,-104 868,-104 974,-104 974,-104 980,-104 986,-110 986,-116 986,-116 986,-175 986,-175 986,-181 980,-187 974,-187\"/>\n<text text-anchor=\"middle\" x=\"921\" y=\"-171.8\" font-family=\"Helvetica,sans-Serif\" font-size=\"14.00\">tenure &lt;= 15.5</text>\n<text text-anchor=\"middle\" x=\"921\" y=\"-156.8\" font-family=\"Helvetica,sans-Serif\" font-size=\"14.00\">gini = 0.496</text>\n<text text-anchor=\"middle\" x=\"921\" y=\"-141.8\" font-family=\"Helvetica,sans-Serif\" font-size=\"14.00\">samples = 1479</text>\n<text text-anchor=\"middle\" x=\"921\" y=\"-126.8\" font-family=\"Helvetica,sans-Serif\" font-size=\"14.00\">value = [672, 807]</text>\n<text text-anchor=\"middle\" x=\"921\" y=\"-111.8\" font-family=\"Helvetica,sans-Serif\" font-size=\"14.00\">class = Yes</text>\n</g>\n<!-- 8&#45;&gt;12 -->\n<g id=\"edge12\" class=\"edge\">\n<title>8&#45;&gt;12</title>\n<path fill=\"none\" stroke=\"black\" d=\"M777.33,-222.91C799.8,-210.96 824.34,-197.9 846.68,-186.02\"/>\n<polygon fill=\"black\" stroke=\"black\" points=\"848.6,-188.97 855.78,-181.18 845.31,-182.79 848.6,-188.97\"/>\n</g>\n<!-- 10 -->\n<g id=\"node11\" class=\"node\">\n<title>10</title>\n<path fill=\"#fae8db\" stroke=\"black\" d=\"M678,-68C678,-68 572,-68 572,-68 566,-68 560,-62 560,-56 560,-56 560,-12 560,-12 560,-6 566,0 572,0 572,0 678,0 678,0 684,0 690,-6 690,-12 690,-12 690,-56 690,-56 690,-62 684,-68 678,-68\"/>\n<text text-anchor=\"middle\" x=\"625\" y=\"-52.8\" font-family=\"Helvetica,sans-Serif\" font-size=\"14.00\">gini = 0.495</text>\n<text text-anchor=\"middle\" x=\"625\" y=\"-37.8\" font-family=\"Helvetica,sans-Serif\" font-size=\"14.00\">samples = 431</text>\n<text text-anchor=\"middle\" x=\"625\" y=\"-22.8\" font-family=\"Helvetica,sans-Serif\" font-size=\"14.00\">value = [237, 194]</text>\n<text text-anchor=\"middle\" x=\"625\" y=\"-7.8\" font-family=\"Helvetica,sans-Serif\" font-size=\"14.00\">class = No</text>\n</g>\n<!-- 9&#45;&gt;10 -->\n<g id=\"edge10\" class=\"edge\">\n<title>9&#45;&gt;10</title>\n<path fill=\"none\" stroke=\"black\" d=\"M672.7,-103.73C666.56,-94.88 660.06,-85.51 653.89,-76.63\"/>\n<polygon fill=\"black\" stroke=\"black\" points=\"656.69,-74.52 648.11,-68.3 650.94,-78.51 656.69,-74.52\"/>\n</g>\n<!-- 11 -->\n<g id=\"node12\" class=\"node\">\n<title>11</title>\n<path fill=\"#eca16b\" stroke=\"black\" d=\"M826,-68C826,-68 720,-68 720,-68 714,-68 708,-62 708,-56 708,-56 708,-12 708,-12 708,-6 714,0 720,0 720,0 826,0 826,0 832,0 838,-6 838,-12 838,-12 838,-56 838,-56 838,-62 832,-68 826,-68\"/>\n<text text-anchor=\"middle\" x=\"773\" y=\"-52.8\" font-family=\"Helvetica,sans-Serif\" font-size=\"14.00\">gini = 0.323</text>\n<text text-anchor=\"middle\" x=\"773\" y=\"-37.8\" font-family=\"Helvetica,sans-Serif\" font-size=\"14.00\">samples = 795</text>\n<text text-anchor=\"middle\" x=\"773\" y=\"-22.8\" font-family=\"Helvetica,sans-Serif\" font-size=\"14.00\">value = [634, 161]</text>\n<text text-anchor=\"middle\" x=\"773\" y=\"-7.8\" font-family=\"Helvetica,sans-Serif\" font-size=\"14.00\">class = No</text>\n</g>\n<!-- 9&#45;&gt;11 -->\n<g id=\"edge11\" class=\"edge\">\n<title>9&#45;&gt;11</title>\n<path fill=\"none\" stroke=\"black\" d=\"M727.81,-103.73C733.57,-94.97 739.66,-85.7 745.45,-76.91\"/>\n<polygon fill=\"black\" stroke=\"black\" points=\"748.53,-78.58 751.1,-68.3 742.69,-74.73 748.53,-78.58\"/>\n</g>\n<!-- 13 -->\n<g id=\"node14\" class=\"node\">\n<title>13</title>\n<path fill=\"#93c9f1\" stroke=\"black\" d=\"M974,-68C974,-68 868,-68 868,-68 862,-68 856,-62 856,-56 856,-56 856,-12 856,-12 856,-6 862,0 868,0 868,0 974,0 974,0 980,0 986,-6 986,-12 986,-12 986,-56 986,-56 986,-62 980,-68 974,-68\"/>\n<text text-anchor=\"middle\" x=\"921\" y=\"-52.8\" font-family=\"Helvetica,sans-Serif\" font-size=\"14.00\">gini = 0.429</text>\n<text text-anchor=\"middle\" x=\"921\" y=\"-37.8\" font-family=\"Helvetica,sans-Serif\" font-size=\"14.00\">samples = 716</text>\n<text text-anchor=\"middle\" x=\"921\" y=\"-22.8\" font-family=\"Helvetica,sans-Serif\" font-size=\"14.00\">value = [223, 493]</text>\n<text text-anchor=\"middle\" x=\"921\" y=\"-7.8\" font-family=\"Helvetica,sans-Serif\" font-size=\"14.00\">class = Yes</text>\n</g>\n<!-- 12&#45;&gt;13 -->\n<g id=\"edge13\" class=\"edge\">\n<title>12&#45;&gt;13</title>\n<path fill=\"none\" stroke=\"black\" d=\"M921,-103.73C921,-95.52 921,-86.86 921,-78.56\"/>\n<polygon fill=\"black\" stroke=\"black\" points=\"924.5,-78.3 921,-68.3 917.5,-78.3 924.5,-78.3\"/>\n</g>\n<!-- 14 -->\n<g id=\"node15\" class=\"node\">\n<title>14</title>\n<path fill=\"#f7d9c3\" stroke=\"black\" d=\"M1122,-68C1122,-68 1016,-68 1016,-68 1010,-68 1004,-62 1004,-56 1004,-56 1004,-12 1004,-12 1004,-6 1010,0 1016,0 1016,0 1122,0 1122,0 1128,0 1134,-6 1134,-12 1134,-12 1134,-56 1134,-56 1134,-62 1128,-68 1122,-68\"/>\n<text text-anchor=\"middle\" x=\"1069\" y=\"-52.8\" font-family=\"Helvetica,sans-Serif\" font-size=\"14.00\">gini = 0.484</text>\n<text text-anchor=\"middle\" x=\"1069\" y=\"-37.8\" font-family=\"Helvetica,sans-Serif\" font-size=\"14.00\">samples = 763</text>\n<text text-anchor=\"middle\" x=\"1069\" y=\"-22.8\" font-family=\"Helvetica,sans-Serif\" font-size=\"14.00\">value = [449, 314]</text>\n<text text-anchor=\"middle\" x=\"1069\" y=\"-7.8\" font-family=\"Helvetica,sans-Serif\" font-size=\"14.00\">class = No</text>\n</g>\n<!-- 12&#45;&gt;14 -->\n<g id=\"edge14\" class=\"edge\">\n<title>12&#45;&gt;14</title>\n<path fill=\"none\" stroke=\"black\" d=\"M976.11,-103.73C989.05,-94.15 1002.82,-83.96 1015.69,-74.44\"/>\n<polygon fill=\"black\" stroke=\"black\" points=\"1018.04,-77.06 1023.99,-68.3 1013.87,-71.43 1018.04,-77.06\"/>\n</g>\n</g>\n</svg>\n",
      "text/plain": [
       "<graphviz.sources.Source at 0x1f071f77c40>"
      ]
     },
     "execution_count": 29,
     "metadata": {},
     "output_type": "execute_result"
    }
   ],
   "source": [
    "columns = list(X_train.columns)\n",
    "dot_data = tree.export_graphviz(model, out_file=None, feature_names=columns, class_names=['No', 'Yes'], filled=True, rounded=True)\n",
    "\n",
    "graph = graphviz.Source(dot_data)\n",
    "graph"
   ]
  },
  {
   "cell_type": "markdown",
   "metadata": {},
   "source": [
    "* Monthly contract with tenure <= 15.5 is most likely to churn (493 out of 716)"
   ]
  },
  {
   "cell_type": "markdown",
   "metadata": {},
   "source": [
    "<a id='feat_imp'></a>\n",
    "# Feature Selection"
   ]
  },
  {
   "cell_type": "code",
   "execution_count": 30,
   "metadata": {},
   "outputs": [],
   "source": [
    "from sklearn.ensemble import ExtraTreesClassifier\n",
    "from sklearn.feature_selection import SelectFromModel\n",
    "\n",
    "# https://towardsdatascience.com/feature-selection-techniques-in-machine-learning-with-python-f24e7da3f36e"
   ]
  },
  {
   "cell_type": "code",
   "execution_count": 31,
   "metadata": {},
   "outputs": [
    {
     "data": {
      "text/plain": [
       "ExtraTreesClassifier()"
      ]
     },
     "execution_count": 31,
     "metadata": {},
     "output_type": "execute_result"
    }
   ],
   "source": [
    "model = ExtraTreesClassifier()\n",
    "model.fit(X_train, y_train)"
   ]
  },
  {
   "cell_type": "code",
   "execution_count": 32,
   "metadata": {},
   "outputs": [
    {
     "data": {
      "text/plain": [
       "<AxesSubplot:>"
      ]
     },
     "execution_count": 32,
     "metadata": {},
     "output_type": "execute_result"
    },
    {
     "data": {
      "image/png": "[encoded data removed]",
      "text/plain": [
       "<Figure size 432x288 with 1 Axes>"
      ]
     },
     "metadata": {
      "needs_background": "light"
     },
     "output_type": "display_data"
    }
   ],
   "source": [
    "feat_importances = pd.Series(model.feature_importances_, index=X_train.columns)\n",
    "feat_importances.sort_values(ascending=False,inplace=True)\n",
    "feat_importances.nlargest(10).plot(kind=\"barh\")\n"
   ]
  },
  {
   "cell_type": "markdown",
   "metadata": {},
   "source": [
    "* Top 3 feature importances - TotalCharges, tenure, MonthlyCharges"
   ]
  },
  {
   "cell_type": "markdown",
   "metadata": {},
   "source": [
    "<a id='final_tree'></a>\n",
    "# Final Decision Tree"
   ]
  },
  {
   "cell_type": "code",
   "execution_count": 33,
   "metadata": {},
   "outputs": [],
   "source": [
    "df4 = df2.rename(columns={\"InternetService_Fiber optic\": \"FiberOptic\", \n",
    "                          \"PaymentMethod_Electronic check\": \"ElectronicCheck\"})"
   ]
  },
  {
   "cell_type": "code",
   "execution_count": 34,
   "metadata": {},
   "outputs": [
    {
     "data": {
      "text/plain": [
       "DecisionTreeClassifier(max_depth=3)"
      ]
     },
     "execution_count": 34,
     "metadata": {},
     "output_type": "execute_result"
    }
   ],
   "source": [
    "# top features\n",
    "# TotalCharges highly correlated with Tenure [0.83] - drop TotalCharges\n",
    "# FiberOptic highly correlated with MonthlyCharges [0.79]\n",
    "\n",
    "selected_feat= ['tenure', 'MonthlyCharges', 'Contract_Month-to-month', \n",
    "                'gender', 'ElectronicCheck', 'PaperlessBilling']\n",
    "\n",
    "train_data_2 = {}\n",
    "train_data_2 = df4[selected_feat]\n",
    "train_label_2 = df4['Churn']\n",
    "\n",
    "X_train_2, X_test_2, y_train_2, y_test_2 = train_test_split(train_data_2, train_label_2, test_size=0.3, random_state=1)\n",
    "\n",
    "model = tree.DecisionTreeClassifier(max_depth=3)\n",
    "model.fit(X_train_2, y_train_2)"
   ]
  },
  {
   "cell_type": "code",
   "execution_count": 35,
   "metadata": {},
   "outputs": [
    {
     "name": "stdout",
     "output_type": "stream",
     "text": [
      "Accuracy = 80.08%\n"
     ]
    }
   ],
   "source": [
    "string = \"Accuracy = {AR:.2%}\"\n",
    "\n",
    "y_pred_2 = model.predict(X_test_2)\n",
    "AR = metrics.accuracy_score(y_test_2, y_pred_2)\n",
    "print(string.format(AR = AR))"
   ]
  },
  {
   "cell_type": "code",
   "execution_count": 36,
   "metadata": {},
   "outputs": [
    {
     "data": {
      "image/svg+xml": "<?xml version=\"1.0\" encoding=\"UTF-8\" standalone=\"no\"?>\n<!DOCTYPE svg PUBLIC \"-//W3C//DTD SVG 1.1//EN\"\n \"http://www.w3.org/Graphics/SVG/1.1/DTD/svg11.dtd\">\n<!-- Generated by graphviz version 2.49.3 (20211023.0002)\n -->\n<!-- Title: Tree Pages: 1 -->\n<svg width=\"1134pt\" height=\"433pt\"\n viewBox=\"0.00 0.00 1134.00 433.00\" xmlns=\"http://www.w3.org/2000/svg\" xmlns:xlink=\"http://www.w3.org/1999/xlink\">\n<g id=\"graph0\" class=\"graph\" transform=\"scale(1 1) rotate(0) translate(4 429)\">\n<title>Tree</title>\n<polygon fill=\"white\" stroke=\"transparent\" points=\"-4,4 -4,-429 1130,-429 1130,4 -4,4\"/>\n<!-- 0 -->\n<g id=\"node1\" class=\"node\">\n<title>0</title>\n<path fill=\"#efb083\" stroke=\"black\" d=\"M611.5,-425C611.5,-425 414.5,-425 414.5,-425 408.5,-425 402.5,-419 402.5,-413 402.5,-413 402.5,-354 402.5,-354 402.5,-348 408.5,-342 414.5,-342 414.5,-342 611.5,-342 611.5,-342 617.5,-342 623.5,-348 623.5,-354 623.5,-354 623.5,-413 623.5,-413 623.5,-419 617.5,-425 611.5,-425\"/>\n<text text-anchor=\"middle\" x=\"513\" y=\"-409.8\" font-family=\"Helvetica,sans-Serif\" font-size=\"14.00\">Contract_Month&#45;to&#45;month &lt;= 0.5</text>\n<text text-anchor=\"middle\" x=\"513\" y=\"-394.8\" font-family=\"Helvetica,sans-Serif\" font-size=\"14.00\">gini = 0.396</text>\n<text text-anchor=\"middle\" x=\"513\" y=\"-379.8\" font-family=\"Helvetica,sans-Serif\" font-size=\"14.00\">samples = 4930</text>\n<text text-anchor=\"middle\" x=\"513\" y=\"-364.8\" font-family=\"Helvetica,sans-Serif\" font-size=\"14.00\">value = [3589, 1341]</text>\n<text text-anchor=\"middle\" x=\"513\" y=\"-349.8\" font-family=\"Helvetica,sans-Serif\" font-size=\"14.00\">class = No</text>\n</g>\n<!-- 1 -->\n<g id=\"node2\" class=\"node\">\n<title>1</title>\n<path fill=\"#e78b49\" stroke=\"black\" d=\"M474,-306C474,-306 310,-306 310,-306 304,-306 298,-300 298,-294 298,-294 298,-235 298,-235 298,-229 304,-223 310,-223 310,-223 474,-223 474,-223 480,-223 486,-229 486,-235 486,-235 486,-294 486,-294 486,-300 480,-306 474,-306\"/>\n<text text-anchor=\"middle\" x=\"392\" y=\"-290.8\" font-family=\"Helvetica,sans-Serif\" font-size=\"14.00\">MonthlyCharges &lt;= 93.675</text>\n<text text-anchor=\"middle\" x=\"392\" y=\"-275.8\" font-family=\"Helvetica,sans-Serif\" font-size=\"14.00\">gini = 0.138</text>\n<text text-anchor=\"middle\" x=\"392\" y=\"-260.8\" font-family=\"Helvetica,sans-Serif\" font-size=\"14.00\">samples = 2202</text>\n<text text-anchor=\"middle\" x=\"392\" y=\"-245.8\" font-family=\"Helvetica,sans-Serif\" font-size=\"14.00\">value = [2038, 164]</text>\n<text text-anchor=\"middle\" x=\"392\" y=\"-230.8\" font-family=\"Helvetica,sans-Serif\" font-size=\"14.00\">class = No</text>\n</g>\n<!-- 0&#45;&gt;1 -->\n<g id=\"edge1\" class=\"edge\">\n<title>0&#45;&gt;1</title>\n<path fill=\"none\" stroke=\"black\" d=\"M471.02,-341.91C461.45,-332.65 451.19,-322.73 441.34,-313.21\"/>\n<polygon fill=\"black\" stroke=\"black\" points=\"443.53,-310.46 433.91,-306.02 438.66,-315.49 443.53,-310.46\"/>\n<text text-anchor=\"middle\" x=\"434.33\" y=\"-327.32\" font-family=\"Helvetica,sans-Serif\" font-size=\"14.00\">True</text>\n</g>\n<!-- 8 -->\n<g id=\"node9\" class=\"node\">\n<title>8</title>\n<path fill=\"#f9e1cf\" stroke=\"black\" d=\"M773,-306C773,-306 609,-306 609,-306 603,-306 597,-300 597,-294 597,-294 597,-235 597,-235 597,-229 603,-223 609,-223 609,-223 773,-223 773,-223 779,-223 785,-229 785,-235 785,-235 785,-294 785,-294 785,-300 779,-306 773,-306\"/>\n<text text-anchor=\"middle\" x=\"691\" y=\"-290.8\" font-family=\"Helvetica,sans-Serif\" font-size=\"14.00\">MonthlyCharges &lt;= 68.425</text>\n<text text-anchor=\"middle\" x=\"691\" y=\"-275.8\" font-family=\"Helvetica,sans-Serif\" font-size=\"14.00\">gini = 0.491</text>\n<text text-anchor=\"middle\" x=\"691\" y=\"-260.8\" font-family=\"Helvetica,sans-Serif\" font-size=\"14.00\">samples = 2728</text>\n<text text-anchor=\"middle\" x=\"691\" y=\"-245.8\" font-family=\"Helvetica,sans-Serif\" font-size=\"14.00\">value = [1551, 1177]</text>\n<text text-anchor=\"middle\" x=\"691\" y=\"-230.8\" font-family=\"Helvetica,sans-Serif\" font-size=\"14.00\">class = No</text>\n</g>\n<!-- 0&#45;&gt;8 -->\n<g id=\"edge8\" class=\"edge\">\n<title>0&#45;&gt;8</title>\n<path fill=\"none\" stroke=\"black\" d=\"M574.76,-341.91C589.67,-332.11 605.71,-321.56 620.97,-311.53\"/>\n<polygon fill=\"black\" stroke=\"black\" points=\"622.92,-314.44 629.35,-306.02 619.07,-308.59 622.92,-314.44\"/>\n<text text-anchor=\"middle\" x=\"624.29\" y=\"-326.8\" font-family=\"Helvetica,sans-Serif\" font-size=\"14.00\">False</text>\n</g>\n<!-- 2 -->\n<g id=\"node3\" class=\"node\">\n<title>2</title>\n<path fill=\"#e68742\" stroke=\"black\" d=\"M283,-187C283,-187 119,-187 119,-187 113,-187 107,-181 107,-175 107,-175 107,-116 107,-116 107,-110 113,-104 119,-104 119,-104 283,-104 283,-104 289,-104 295,-110 295,-116 295,-116 295,-175 295,-175 295,-181 289,-187 283,-187\"/>\n<text text-anchor=\"middle\" x=\"201\" y=\"-171.8\" font-family=\"Helvetica,sans-Serif\" font-size=\"14.00\">MonthlyCharges &lt;= 41.375</text>\n<text text-anchor=\"middle\" x=\"201\" y=\"-156.8\" font-family=\"Helvetica,sans-Serif\" font-size=\"14.00\">gini = 0.086</text>\n<text text-anchor=\"middle\" x=\"201\" y=\"-141.8\" font-family=\"Helvetica,sans-Serif\" font-size=\"14.00\">samples = 1664</text>\n<text text-anchor=\"middle\" x=\"201\" y=\"-126.8\" font-family=\"Helvetica,sans-Serif\" font-size=\"14.00\">value = [1589, 75]</text>\n<text text-anchor=\"middle\" x=\"201\" y=\"-111.8\" font-family=\"Helvetica,sans-Serif\" font-size=\"14.00\">class = No</text>\n</g>\n<!-- 1&#45;&gt;2 -->\n<g id=\"edge2\" class=\"edge\">\n<title>1&#45;&gt;2</title>\n<path fill=\"none\" stroke=\"black\" d=\"M325.73,-222.91C309.59,-213.02 292.2,-202.37 275.69,-192.25\"/>\n<polygon fill=\"black\" stroke=\"black\" points=\"277.5,-189.26 267.15,-187.02 273.85,-195.23 277.5,-189.26\"/>\n</g>\n<!-- 5 -->\n<g id=\"node6\" class=\"node\">\n<title>5</title>\n<path fill=\"#ea9a60\" stroke=\"black\" d=\"M441,-187C441,-187 343,-187 343,-187 337,-187 331,-181 331,-175 331,-175 331,-116 331,-116 331,-110 337,-104 343,-104 343,-104 441,-104 441,-104 447,-104 453,-110 453,-116 453,-116 453,-175 453,-175 453,-181 447,-187 441,-187\"/>\n<text text-anchor=\"middle\" x=\"392\" y=\"-171.8\" font-family=\"Helvetica,sans-Serif\" font-size=\"14.00\">tenure &lt;= 70.5</text>\n<text text-anchor=\"middle\" x=\"392\" y=\"-156.8\" font-family=\"Helvetica,sans-Serif\" font-size=\"14.00\">gini = 0.276</text>\n<text text-anchor=\"middle\" x=\"392\" y=\"-141.8\" font-family=\"Helvetica,sans-Serif\" font-size=\"14.00\">samples = 538</text>\n<text text-anchor=\"middle\" x=\"392\" y=\"-126.8\" font-family=\"Helvetica,sans-Serif\" font-size=\"14.00\">value = [449, 89]</text>\n<text text-anchor=\"middle\" x=\"392\" y=\"-111.8\" font-family=\"Helvetica,sans-Serif\" font-size=\"14.00\">class = No</text>\n</g>\n<!-- 1&#45;&gt;5 -->\n<g id=\"edge5\" class=\"edge\">\n<title>1&#45;&gt;5</title>\n<path fill=\"none\" stroke=\"black\" d=\"M392,-222.91C392,-214.65 392,-205.86 392,-197.3\"/>\n<polygon fill=\"black\" stroke=\"black\" points=\"395.5,-197.02 392,-187.02 388.5,-197.02 395.5,-197.02\"/>\n</g>\n<!-- 3 -->\n<g id=\"node4\" class=\"node\">\n<title>3</title>\n<path fill=\"#e5833c\" stroke=\"black\" d=\"M110,-68C110,-68 12,-68 12,-68 6,-68 0,-62 0,-56 0,-56 0,-12 0,-12 0,-6 6,0 12,0 12,0 110,0 110,0 116,0 122,-6 122,-12 122,-12 122,-56 122,-56 122,-62 116,-68 110,-68\"/>\n<text text-anchor=\"middle\" x=\"61\" y=\"-52.8\" font-family=\"Helvetica,sans-Serif\" font-size=\"14.00\">gini = 0.034</text>\n<text text-anchor=\"middle\" x=\"61\" y=\"-37.8\" font-family=\"Helvetica,sans-Serif\" font-size=\"14.00\">samples = 758</text>\n<text text-anchor=\"middle\" x=\"61\" y=\"-22.8\" font-family=\"Helvetica,sans-Serif\" font-size=\"14.00\">value = [745, 13]</text>\n<text text-anchor=\"middle\" x=\"61\" y=\"-7.8\" font-family=\"Helvetica,sans-Serif\" font-size=\"14.00\">class = No</text>\n</g>\n<!-- 2&#45;&gt;3 -->\n<g id=\"edge3\" class=\"edge\">\n<title>2&#45;&gt;3</title>\n<path fill=\"none\" stroke=\"black\" d=\"M148.87,-103.73C136.74,-94.24 123.85,-84.16 111.78,-74.72\"/>\n<polygon fill=\"black\" stroke=\"black\" points=\"113.61,-71.7 103.57,-68.3 109.3,-77.22 113.61,-71.7\"/>\n</g>\n<!-- 4 -->\n<g id=\"node5\" class=\"node\">\n<title>4</title>\n<path fill=\"#e78a48\" stroke=\"black\" d=\"M250,-68C250,-68 152,-68 152,-68 146,-68 140,-62 140,-56 140,-56 140,-12 140,-12 140,-6 146,0 152,0 152,0 250,0 250,0 256,0 262,-6 262,-12 262,-12 262,-56 262,-56 262,-62 256,-68 250,-68\"/>\n<text text-anchor=\"middle\" x=\"201\" y=\"-52.8\" font-family=\"Helvetica,sans-Serif\" font-size=\"14.00\">gini = 0.127</text>\n<text text-anchor=\"middle\" x=\"201\" y=\"-37.8\" font-family=\"Helvetica,sans-Serif\" font-size=\"14.00\">samples = 906</text>\n<text text-anchor=\"middle\" x=\"201\" y=\"-22.8\" font-family=\"Helvetica,sans-Serif\" font-size=\"14.00\">value = [844, 62]</text>\n<text text-anchor=\"middle\" x=\"201\" y=\"-7.8\" font-family=\"Helvetica,sans-Serif\" font-size=\"14.00\">class = No</text>\n</g>\n<!-- 2&#45;&gt;4 -->\n<g id=\"edge4\" class=\"edge\">\n<title>2&#45;&gt;4</title>\n<path fill=\"none\" stroke=\"black\" d=\"M201,-103.73C201,-95.52 201,-86.86 201,-78.56\"/>\n<polygon fill=\"black\" stroke=\"black\" points=\"204.5,-78.3 201,-68.3 197.5,-78.3 204.5,-78.3\"/>\n</g>\n<!-- 6 -->\n<g id=\"node7\" class=\"node\">\n<title>6</title>\n<path fill=\"#eca36e\" stroke=\"black\" d=\"M390,-68C390,-68 292,-68 292,-68 286,-68 280,-62 280,-56 280,-56 280,-12 280,-12 280,-6 286,0 292,0 292,0 390,0 390,0 396,0 402,-6 402,-12 402,-12 402,-56 402,-56 402,-62 396,-68 390,-68\"/>\n<text text-anchor=\"middle\" x=\"341\" y=\"-52.8\" font-family=\"Helvetica,sans-Serif\" font-size=\"14.00\">gini = 0.335</text>\n<text text-anchor=\"middle\" x=\"341\" y=\"-37.8\" font-family=\"Helvetica,sans-Serif\" font-size=\"14.00\">samples = 395</text>\n<text text-anchor=\"middle\" x=\"341\" y=\"-22.8\" font-family=\"Helvetica,sans-Serif\" font-size=\"14.00\">value = [311, 84]</text>\n<text text-anchor=\"middle\" x=\"341\" y=\"-7.8\" font-family=\"Helvetica,sans-Serif\" font-size=\"14.00\">class = No</text>\n</g>\n<!-- 5&#45;&gt;6 -->\n<g id=\"edge6\" class=\"edge\">\n<title>5&#45;&gt;6</title>\n<path fill=\"none\" stroke=\"black\" d=\"M373.01,-103.73C369.02,-95.15 364.79,-86.09 360.77,-77.46\"/>\n<polygon fill=\"black\" stroke=\"black\" points=\"363.9,-75.89 356.51,-68.3 357.56,-78.84 363.9,-75.89\"/>\n</g>\n<!-- 7 -->\n<g id=\"node8\" class=\"node\">\n<title>7</title>\n<path fill=\"#e68640\" stroke=\"black\" d=\"M521.5,-68C521.5,-68 432.5,-68 432.5,-68 426.5,-68 420.5,-62 420.5,-56 420.5,-56 420.5,-12 420.5,-12 420.5,-6 426.5,0 432.5,0 432.5,0 521.5,0 521.5,0 527.5,0 533.5,-6 533.5,-12 533.5,-12 533.5,-56 533.5,-56 533.5,-62 527.5,-68 521.5,-68\"/>\n<text text-anchor=\"middle\" x=\"477\" y=\"-52.8\" font-family=\"Helvetica,sans-Serif\" font-size=\"14.00\">gini = 0.067</text>\n<text text-anchor=\"middle\" x=\"477\" y=\"-37.8\" font-family=\"Helvetica,sans-Serif\" font-size=\"14.00\">samples = 143</text>\n<text text-anchor=\"middle\" x=\"477\" y=\"-22.8\" font-family=\"Helvetica,sans-Serif\" font-size=\"14.00\">value = [138, 5]</text>\n<text text-anchor=\"middle\" x=\"477\" y=\"-7.8\" font-family=\"Helvetica,sans-Serif\" font-size=\"14.00\">class = No</text>\n</g>\n<!-- 5&#45;&gt;7 -->\n<g id=\"edge7\" class=\"edge\">\n<title>5&#45;&gt;7</title>\n<path fill=\"none\" stroke=\"black\" d=\"M423.65,-103.73C430.59,-94.79 437.94,-85.32 444.9,-76.36\"/>\n<polygon fill=\"black\" stroke=\"black\" points=\"447.78,-78.35 451.15,-68.3 442.25,-74.05 447.78,-78.35\"/>\n</g>\n<!-- 9 -->\n<g id=\"node10\" class=\"node\">\n<title>9</title>\n<path fill=\"#f0b78d\" stroke=\"black\" d=\"M744,-187C744,-187 638,-187 638,-187 632,-187 626,-181 626,-175 626,-175 626,-116 626,-116 626,-110 632,-104 638,-104 638,-104 744,-104 744,-104 750,-104 756,-110 756,-116 756,-116 756,-175 756,-175 756,-181 750,-187 744,-187\"/>\n<text text-anchor=\"middle\" x=\"691\" y=\"-171.8\" font-family=\"Helvetica,sans-Serif\" font-size=\"14.00\">tenure &lt;= 5.5</text>\n<text text-anchor=\"middle\" x=\"691\" y=\"-156.8\" font-family=\"Helvetica,sans-Serif\" font-size=\"14.00\">gini = 0.419</text>\n<text text-anchor=\"middle\" x=\"691\" y=\"-141.8\" font-family=\"Helvetica,sans-Serif\" font-size=\"14.00\">samples = 1149</text>\n<text text-anchor=\"middle\" x=\"691\" y=\"-126.8\" font-family=\"Helvetica,sans-Serif\" font-size=\"14.00\">value = [806, 343]</text>\n<text text-anchor=\"middle\" x=\"691\" y=\"-111.8\" font-family=\"Helvetica,sans-Serif\" font-size=\"14.00\">class = No</text>\n</g>\n<!-- 8&#45;&gt;9 -->\n<g id=\"edge9\" class=\"edge\">\n<title>8&#45;&gt;9</title>\n<path fill=\"none\" stroke=\"black\" d=\"M691,-222.91C691,-214.65 691,-205.86 691,-197.3\"/>\n<polygon fill=\"black\" stroke=\"black\" points=\"694.5,-197.02 691,-187.02 687.5,-197.02 694.5,-197.02\"/>\n</g>\n<!-- 12 -->\n<g id=\"node13\" class=\"node\">\n<title>12</title>\n<path fill=\"#eaf5fc\" stroke=\"black\" d=\"M966,-187C966,-187 860,-187 860,-187 854,-187 848,-181 848,-175 848,-175 848,-116 848,-116 848,-110 854,-104 860,-104 860,-104 966,-104 966,-104 972,-104 978,-110 978,-116 978,-116 978,-175 978,-175 978,-181 972,-187 966,-187\"/>\n<text text-anchor=\"middle\" x=\"913\" y=\"-171.8\" font-family=\"Helvetica,sans-Serif\" font-size=\"14.00\">tenure &lt;= 14.5</text>\n<text text-anchor=\"middle\" x=\"913\" y=\"-156.8\" font-family=\"Helvetica,sans-Serif\" font-size=\"14.00\">gini = 0.498</text>\n<text text-anchor=\"middle\" x=\"913\" y=\"-141.8\" font-family=\"Helvetica,sans-Serif\" font-size=\"14.00\">samples = 1579</text>\n<text text-anchor=\"middle\" x=\"913\" y=\"-126.8\" font-family=\"Helvetica,sans-Serif\" font-size=\"14.00\">value = [745, 834]</text>\n<text text-anchor=\"middle\" x=\"913\" y=\"-111.8\" font-family=\"Helvetica,sans-Serif\" font-size=\"14.00\">class = Yes</text>\n</g>\n<!-- 8&#45;&gt;12 -->\n<g id=\"edge12\" class=\"edge\">\n<title>8&#45;&gt;12</title>\n<path fill=\"none\" stroke=\"black\" d=\"M768.02,-222.91C791.02,-210.79 816.17,-197.53 838.97,-185.52\"/>\n<polygon fill=\"black\" stroke=\"black\" points=\"840.7,-188.56 847.91,-180.8 837.43,-182.37 840.7,-188.56\"/>\n</g>\n<!-- 10 -->\n<g id=\"node11\" class=\"node\">\n<title>10</title>\n<path fill=\"#f9e0cf\" stroke=\"black\" d=\"M670,-68C670,-68 564,-68 564,-68 558,-68 552,-62 552,-56 552,-56 552,-12 552,-12 552,-6 558,0 564,0 564,0 670,0 670,0 676,0 682,-6 682,-12 682,-12 682,-56 682,-56 682,-62 676,-68 670,-68\"/>\n<text text-anchor=\"middle\" x=\"617\" y=\"-52.8\" font-family=\"Helvetica,sans-Serif\" font-size=\"14.00\">gini = 0.49</text>\n<text text-anchor=\"middle\" x=\"617\" y=\"-37.8\" font-family=\"Helvetica,sans-Serif\" font-size=\"14.00\">samples = 513</text>\n<text text-anchor=\"middle\" x=\"617\" y=\"-22.8\" font-family=\"Helvetica,sans-Serif\" font-size=\"14.00\">value = [292, 221]</text>\n<text text-anchor=\"middle\" x=\"617\" y=\"-7.8\" font-family=\"Helvetica,sans-Serif\" font-size=\"14.00\">class = No</text>\n</g>\n<!-- 9&#45;&gt;10 -->\n<g id=\"edge10\" class=\"edge\">\n<title>9&#45;&gt;10</title>\n<path fill=\"none\" stroke=\"black\" d=\"M663.45,-103.73C657.47,-94.88 651.13,-85.51 645.13,-76.63\"/>\n<polygon fill=\"black\" stroke=\"black\" points=\"648,-74.63 639.5,-68.3 642.2,-78.54 648,-74.63\"/>\n</g>\n<!-- 11 -->\n<g id=\"node12\" class=\"node\">\n<title>11</title>\n<path fill=\"#eb9f68\" stroke=\"black\" d=\"M818,-68C818,-68 712,-68 712,-68 706,-68 700,-62 700,-56 700,-56 700,-12 700,-12 700,-6 706,0 712,0 712,0 818,0 818,0 824,0 830,-6 830,-12 830,-12 830,-56 830,-56 830,-62 824,-68 818,-68\"/>\n<text text-anchor=\"middle\" x=\"765\" y=\"-52.8\" font-family=\"Helvetica,sans-Serif\" font-size=\"14.00\">gini = 0.31</text>\n<text text-anchor=\"middle\" x=\"765\" y=\"-37.8\" font-family=\"Helvetica,sans-Serif\" font-size=\"14.00\">samples = 636</text>\n<text text-anchor=\"middle\" x=\"765\" y=\"-22.8\" font-family=\"Helvetica,sans-Serif\" font-size=\"14.00\">value = [514, 122]</text>\n<text text-anchor=\"middle\" x=\"765\" y=\"-7.8\" font-family=\"Helvetica,sans-Serif\" font-size=\"14.00\">class = No</text>\n</g>\n<!-- 9&#45;&gt;11 -->\n<g id=\"edge11\" class=\"edge\">\n<title>9&#45;&gt;11</title>\n<path fill=\"none\" stroke=\"black\" d=\"M718.55,-103.73C724.53,-94.88 730.87,-85.51 736.87,-76.63\"/>\n<polygon fill=\"black\" stroke=\"black\" points=\"739.8,-78.54 742.5,-68.3 734,-74.63 739.8,-78.54\"/>\n</g>\n<!-- 13 -->\n<g id=\"node14\" class=\"node\">\n<title>13</title>\n<path fill=\"#97cbf1\" stroke=\"black\" d=\"M966,-68C966,-68 860,-68 860,-68 854,-68 848,-62 848,-56 848,-56 848,-12 848,-12 848,-6 854,0 860,0 860,0 966,0 966,0 972,0 978,-6 978,-12 978,-12 978,-56 978,-56 978,-62 972,-68 966,-68\"/>\n<text text-anchor=\"middle\" x=\"913\" y=\"-52.8\" font-family=\"Helvetica,sans-Serif\" font-size=\"14.00\">gini = 0.436</text>\n<text text-anchor=\"middle\" x=\"913\" y=\"-37.8\" font-family=\"Helvetica,sans-Serif\" font-size=\"14.00\">samples = 734</text>\n<text text-anchor=\"middle\" x=\"913\" y=\"-22.8\" font-family=\"Helvetica,sans-Serif\" font-size=\"14.00\">value = [236, 498]</text>\n<text text-anchor=\"middle\" x=\"913\" y=\"-7.8\" font-family=\"Helvetica,sans-Serif\" font-size=\"14.00\">class = Yes</text>\n</g>\n<!-- 12&#45;&gt;13 -->\n<g id=\"edge13\" class=\"edge\">\n<title>12&#45;&gt;13</title>\n<path fill=\"none\" stroke=\"black\" d=\"M913,-103.73C913,-95.52 913,-86.86 913,-78.56\"/>\n<polygon fill=\"black\" stroke=\"black\" points=\"916.5,-78.3 913,-68.3 909.5,-78.3 916.5,-78.3\"/>\n</g>\n<!-- 14 -->\n<g id=\"node15\" class=\"node\">\n<title>14</title>\n<path fill=\"#f6d4bc\" stroke=\"black\" d=\"M1114,-68C1114,-68 1008,-68 1008,-68 1002,-68 996,-62 996,-56 996,-56 996,-12 996,-12 996,-6 1002,0 1008,0 1008,0 1114,0 1114,0 1120,0 1126,-6 1126,-12 1126,-12 1126,-56 1126,-56 1126,-62 1120,-68 1114,-68\"/>\n<text text-anchor=\"middle\" x=\"1061\" y=\"-52.8\" font-family=\"Helvetica,sans-Serif\" font-size=\"14.00\">gini = 0.479</text>\n<text text-anchor=\"middle\" x=\"1061\" y=\"-37.8\" font-family=\"Helvetica,sans-Serif\" font-size=\"14.00\">samples = 845</text>\n<text text-anchor=\"middle\" x=\"1061\" y=\"-22.8\" font-family=\"Helvetica,sans-Serif\" font-size=\"14.00\">value = [509, 336]</text>\n<text text-anchor=\"middle\" x=\"1061\" y=\"-7.8\" font-family=\"Helvetica,sans-Serif\" font-size=\"14.00\">class = No</text>\n</g>\n<!-- 12&#45;&gt;14 -->\n<g id=\"edge14\" class=\"edge\">\n<title>12&#45;&gt;14</title>\n<path fill=\"none\" stroke=\"black\" d=\"M968.11,-103.73C981.05,-94.15 994.82,-83.96 1007.69,-74.44\"/>\n<polygon fill=\"black\" stroke=\"black\" points=\"1010.04,-77.06 1015.99,-68.3 1005.87,-71.43 1010.04,-77.06\"/>\n</g>\n</g>\n</svg>\n",
      "text/plain": [
       "<graphviz.sources.Source at 0x1f07417caf0>"
      ]
     },
     "execution_count": 36,
     "metadata": {},
     "output_type": "execute_result"
    }
   ],
   "source": [
    "columns = list(X_train_2.columns)\n",
    "dot_data = tree.export_graphviz(model, out_file=None, feature_names=columns, class_names=['No', 'Yes'], filled=True, rounded=True)\n",
    "\n",
    "graph = graphviz.Source(dot_data)\n",
    "graph"
   ]
  },
  {
   "cell_type": "markdown",
   "metadata": {},
   "source": [
    "* Monthly contract with short tenure is most likely to churn \n",
    "  - Tenure <= 14.5 having 67.85% churn rate\n",
    "  - Tenure > 14.5 having 39.76% churn rate\n",
    "\n",
    "* Monthly contract with high monthly charges ~$94 and tenure <= 70.5 has higher churn rate than tenure > 70.5\n",
    "\n",
    "* A non-monthly contract with low monthly charges ~$41 is less likely to churn \n",
    "  - 1.72% churn rate\n",
    "\n",
    "`Determinants of Telco Churn - Flexible Monthly Contract, Short Tenure, High Monthly Charges`\n"
   ]
  },
  {
   "cell_type": "code",
   "execution_count": 37,
   "metadata": {},
   "outputs": [],
   "source": [
    "df_predict = {}\n",
    "df_predict = train_data_2.iloc[0:0].copy()"
   ]
  },
  {
   "cell_type": "code",
   "execution_count": 38,
   "metadata": {},
   "outputs": [],
   "source": [
    "df_predict = df_predict.append({\n",
    "    \"tenure\": 12, \n",
    "    \"MonthlyCharges\": 90, \n",
    "    \"Contract_Month-to-month\": 1, \n",
    "    \"gender\": 0, \n",
    "    \"ElectronicCheck\": 1, \n",
    "    \"PaperlessBilling\": 0\n",
    "}, ignore_index=True)"
   ]
  },
  {
   "cell_type": "code",
   "execution_count": 39,
   "metadata": {},
   "outputs": [
    {
     "data": {
      "text/html": [
       "<div>\n",
       "<style scoped>\n",
       "    .dataframe tbody tr th:only-of-type {\n",
       "        vertical-align: middle;\n",
       "    }\n",
       "\n",
       "    .dataframe tbody tr th {\n",
       "        vertical-align: top;\n",
       "    }\n",
       "\n",
       "    .dataframe thead th {\n",
       "        text-align: right;\n",
       "    }\n",
       "</style>\n",
       "<table border=\"1\" class=\"dataframe\">\n",
       "  <thead>\n",
       "    <tr style=\"text-align: right;\">\n",
       "      <th></th>\n",
       "      <th>tenure</th>\n",
       "      <th>MonthlyCharges</th>\n",
       "      <th>Contract_Month-to-month</th>\n",
       "      <th>gender</th>\n",
       "      <th>ElectronicCheck</th>\n",
       "      <th>PaperlessBilling</th>\n",
       "    </tr>\n",
       "  </thead>\n",
       "  <tbody>\n",
       "    <tr>\n",
       "      <th>0</th>\n",
       "      <td>12</td>\n",
       "      <td>90.0</td>\n",
       "      <td>1</td>\n",
       "      <td>0</td>\n",
       "      <td>1</td>\n",
       "      <td>0</td>\n",
       "    </tr>\n",
       "  </tbody>\n",
       "</table>\n",
       "</div>"
      ],
      "text/plain": [
       "   tenure  MonthlyCharges  Contract_Month-to-month  gender  ElectronicCheck  \\\n",
       "0      12            90.0                        1       0                1   \n",
       "\n",
       "   PaperlessBilling  \n",
       "0                 0  "
      ]
     },
     "execution_count": 39,
     "metadata": {},
     "output_type": "execute_result"
    }
   ],
   "source": [
    "df_predict"
   ]
  },
  {
   "cell_type": "code",
   "execution_count": 40,
   "metadata": {},
   "outputs": [
    {
     "data": {
      "text/plain": [
       "array([1], dtype=int64)"
      ]
     },
     "execution_count": 40,
     "metadata": {},
     "output_type": "execute_result"
    }
   ],
   "source": [
    "model.predict(df_predict)"
   ]
  },
  {
   "cell_type": "markdown",
   "metadata": {},
   "source": [
    "<a id='logistic'></a>\n",
    "# Logistics Regression"
   ]
  },
  {
   "cell_type": "code",
   "execution_count": 41,
   "metadata": {},
   "outputs": [],
   "source": [
    "from sklearn.linear_model import LogisticRegression\n",
    "from sklearn import metrics"
   ]
  },
  {
   "cell_type": "code",
   "execution_count": 42,
   "metadata": {},
   "outputs": [],
   "source": [
    "reg = LogisticRegression()\n",
    "reg.fit(X_train_2, y_train_2)\n",
    "y_pred = reg.predict(X_test_2)"
   ]
  },
  {
   "cell_type": "code",
   "execution_count": 43,
   "metadata": {},
   "outputs": [
    {
     "name": "stdout",
     "output_type": "stream",
     "text": [
      "Accuracy of logistic regression = 80.08%\n"
     ]
    }
   ],
   "source": [
    "string = \"Accuracy of logistic regression = {AR:.2%}\"\n",
    "reg.score(X_test_2, y_test_2)\n",
    "print(string.format(AR = AR))"
   ]
  },
  {
   "cell_type": "code",
   "execution_count": 44,
   "metadata": {},
   "outputs": [
    {
     "data": {
      "image/png": "[encoded data removed]",
      "text/plain": [
       "<Figure size 432x288 with 1 Axes>"
      ]
     },
     "metadata": {
      "needs_background": "light"
     },
     "output_type": "display_data"
    }
   ],
   "source": [
    "y_pred_proba = reg.predict_proba(X_test_2)[::,1]\n",
    "fpr, tpr, _ = metrics.roc_curve(y_test_2, y_pred_proba)\n",
    "auc = metrics.roc_auc_score(y_test_2, y_pred_proba)\n",
    "plt.plot(fpr,tpr,label=\"data 1, auc=\"+str(auc))\n",
    "plt.legend(loc=4)\n",
    "plt.show()"
   ]
  },
  {
   "cell_type": "code",
   "execution_count": 45,
   "metadata": {},
   "outputs": [
    {
     "data": {
      "text/plain": [
       "array([0, 0, 1, ..., 1, 0, 0], dtype=int64)"
      ]
     },
     "execution_count": 45,
     "metadata": {},
     "output_type": "execute_result"
    }
   ],
   "source": [
    "reg_outputs = reg.predict(X_train_2)\n",
    "reg_outputs"
   ]
  },
  {
   "cell_type": "code",
   "execution_count": 46,
   "metadata": {},
   "outputs": [
    {
     "data": {
      "text/plain": [
       "5925     True\n",
       "4395    False\n",
       "1579     True\n",
       "1040    False\n",
       "1074     True\n",
       "        ...  \n",
       "905      True\n",
       "5192     True\n",
       "3980     True\n",
       "235     False\n",
       "5157     True\n",
       "Name: Churn, Length: 4930, dtype: bool"
      ]
     },
     "execution_count": 46,
     "metadata": {},
     "output_type": "execute_result"
    }
   ],
   "source": [
    "reg_outputs == y_train_2"
   ]
  },
  {
   "cell_type": "code",
   "execution_count": 47,
   "metadata": {},
   "outputs": [
    {
     "data": {
      "text/plain": [
       "3869"
      ]
     },
     "execution_count": 47,
     "metadata": {},
     "output_type": "execute_result"
    }
   ],
   "source": [
    "np.sum((reg_outputs == y_train_2))"
   ]
  },
  {
   "cell_type": "code",
   "execution_count": 48,
   "metadata": {},
   "outputs": [
    {
     "data": {
      "text/plain": [
       "4930"
      ]
     },
     "execution_count": 48,
     "metadata": {},
     "output_type": "execute_result"
    }
   ],
   "source": [
    "reg_outputs.shape[0]"
   ]
  },
  {
   "cell_type": "code",
   "execution_count": 49,
   "metadata": {},
   "outputs": [
    {
     "name": "stdout",
     "output_type": "stream",
     "text": [
      "Area Under Curve = 78.48%\n"
     ]
    }
   ],
   "source": [
    "string = \"Area Under Curve = {AR:.2%}\"\n",
    "log_AR = np.sum((reg_outputs == y_train_2)) / reg_outputs.shape[0]\n",
    "print(string.format(AR = log_AR))"
   ]
  },
  {
   "cell_type": "code",
   "execution_count": 50,
   "metadata": {},
   "outputs": [
    {
     "data": {
      "text/html": [
       "<div>\n",
       "<style scoped>\n",
       "    .dataframe tbody tr th:only-of-type {\n",
       "        vertical-align: middle;\n",
       "    }\n",
       "\n",
       "    .dataframe tbody tr th {\n",
       "        vertical-align: top;\n",
       "    }\n",
       "\n",
       "    .dataframe thead th {\n",
       "        text-align: right;\n",
       "    }\n",
       "</style>\n",
       "<table border=\"1\" class=\"dataframe\">\n",
       "  <thead>\n",
       "    <tr style=\"text-align: right;\">\n",
       "      <th></th>\n",
       "      <th>Features</th>\n",
       "      <th>Coefficient</th>\n",
       "    </tr>\n",
       "  </thead>\n",
       "  <tbody>\n",
       "    <tr>\n",
       "      <th>0</th>\n",
       "      <td>tenure</td>\n",
       "      <td>-0.036192</td>\n",
       "    </tr>\n",
       "    <tr>\n",
       "      <th>1</th>\n",
       "      <td>MonthlyCharges</td>\n",
       "      <td>0.024049</td>\n",
       "    </tr>\n",
       "    <tr>\n",
       "      <th>2</th>\n",
       "      <td>Contract_Month-to-month</td>\n",
       "      <td>1.090983</td>\n",
       "    </tr>\n",
       "    <tr>\n",
       "      <th>3</th>\n",
       "      <td>gender</td>\n",
       "      <td>0.011962</td>\n",
       "    </tr>\n",
       "    <tr>\n",
       "      <th>4</th>\n",
       "      <td>ElectronicCheck</td>\n",
       "      <td>0.531726</td>\n",
       "    </tr>\n",
       "    <tr>\n",
       "      <th>5</th>\n",
       "      <td>PaperlessBilling</td>\n",
       "      <td>0.411038</td>\n",
       "    </tr>\n",
       "  </tbody>\n",
       "</table>\n",
       "</div>"
      ],
      "text/plain": [
       "                  Features  Coefficient\n",
       "0                   tenure    -0.036192\n",
       "1           MonthlyCharges     0.024049\n",
       "2  Contract_Month-to-month     1.090983\n",
       "3                   gender     0.011962\n",
       "4          ElectronicCheck     0.531726\n",
       "5         PaperlessBilling     0.411038"
      ]
     },
     "execution_count": 50,
     "metadata": {},
     "output_type": "execute_result"
    }
   ],
   "source": [
    "summary_table = pd.DataFrame(columns=['Features'], data=selected_feat)\n",
    "summary_table['Coefficient'] = np.transpose(reg.coef_)\n",
    "summary_table"
   ]
  },
  {
   "cell_type": "code",
   "execution_count": 51,
   "metadata": {},
   "outputs": [
    {
     "data": {
      "text/html": [
       "<div>\n",
       "<style scoped>\n",
       "    .dataframe tbody tr th:only-of-type {\n",
       "        vertical-align: middle;\n",
       "    }\n",
       "\n",
       "    .dataframe tbody tr th {\n",
       "        vertical-align: top;\n",
       "    }\n",
       "\n",
       "    .dataframe thead th {\n",
       "        text-align: right;\n",
       "    }\n",
       "</style>\n",
       "<table border=\"1\" class=\"dataframe\">\n",
       "  <thead>\n",
       "    <tr style=\"text-align: right;\">\n",
       "      <th></th>\n",
       "      <th>Features</th>\n",
       "      <th>Coefficient</th>\n",
       "    </tr>\n",
       "  </thead>\n",
       "  <tbody>\n",
       "    <tr>\n",
       "      <th>0</th>\n",
       "      <td>Intercept</td>\n",
       "      <td>-2.897860</td>\n",
       "    </tr>\n",
       "    <tr>\n",
       "      <th>1</th>\n",
       "      <td>tenure</td>\n",
       "      <td>-0.036192</td>\n",
       "    </tr>\n",
       "    <tr>\n",
       "      <th>2</th>\n",
       "      <td>MonthlyCharges</td>\n",
       "      <td>0.024049</td>\n",
       "    </tr>\n",
       "    <tr>\n",
       "      <th>3</th>\n",
       "      <td>Contract_Month-to-month</td>\n",
       "      <td>1.090983</td>\n",
       "    </tr>\n",
       "    <tr>\n",
       "      <th>4</th>\n",
       "      <td>gender</td>\n",
       "      <td>0.011962</td>\n",
       "    </tr>\n",
       "    <tr>\n",
       "      <th>5</th>\n",
       "      <td>ElectronicCheck</td>\n",
       "      <td>0.531726</td>\n",
       "    </tr>\n",
       "    <tr>\n",
       "      <th>6</th>\n",
       "      <td>PaperlessBilling</td>\n",
       "      <td>0.411038</td>\n",
       "    </tr>\n",
       "  </tbody>\n",
       "</table>\n",
       "</div>"
      ],
      "text/plain": [
       "                  Features  Coefficient\n",
       "0                Intercept    -2.897860\n",
       "1                   tenure    -0.036192\n",
       "2           MonthlyCharges     0.024049\n",
       "3  Contract_Month-to-month     1.090983\n",
       "4                   gender     0.011962\n",
       "5          ElectronicCheck     0.531726\n",
       "6         PaperlessBilling     0.411038"
      ]
     },
     "execution_count": 51,
     "metadata": {},
     "output_type": "execute_result"
    }
   ],
   "source": [
    "summary_table.index = summary_table.index + 1\n",
    "summary_table.loc[0] = ['Intercept', reg.intercept_[0]]\n",
    "summary_table = summary_table.sort_index()\n",
    "summary_table"
   ]
  },
  {
   "cell_type": "code",
   "execution_count": 52,
   "metadata": {},
   "outputs": [
    {
     "data": {
      "text/html": [
       "<div>\n",
       "<style scoped>\n",
       "    .dataframe tbody tr th:only-of-type {\n",
       "        vertical-align: middle;\n",
       "    }\n",
       "\n",
       "    .dataframe tbody tr th {\n",
       "        vertical-align: top;\n",
       "    }\n",
       "\n",
       "    .dataframe thead th {\n",
       "        text-align: right;\n",
       "    }\n",
       "</style>\n",
       "<table border=\"1\" class=\"dataframe\">\n",
       "  <thead>\n",
       "    <tr style=\"text-align: right;\">\n",
       "      <th></th>\n",
       "      <th>Features</th>\n",
       "      <th>Coefficient</th>\n",
       "      <th>Odds_Ratio</th>\n",
       "    </tr>\n",
       "  </thead>\n",
       "  <tbody>\n",
       "    <tr>\n",
       "      <th>3</th>\n",
       "      <td>Contract_Month-to-month</td>\n",
       "      <td>1.090983</td>\n",
       "      <td>2.977201</td>\n",
       "    </tr>\n",
       "    <tr>\n",
       "      <th>5</th>\n",
       "      <td>ElectronicCheck</td>\n",
       "      <td>0.531726</td>\n",
       "      <td>1.701867</td>\n",
       "    </tr>\n",
       "    <tr>\n",
       "      <th>6</th>\n",
       "      <td>PaperlessBilling</td>\n",
       "      <td>0.411038</td>\n",
       "      <td>1.508382</td>\n",
       "    </tr>\n",
       "    <tr>\n",
       "      <th>2</th>\n",
       "      <td>MonthlyCharges</td>\n",
       "      <td>0.024049</td>\n",
       "      <td>1.024340</td>\n",
       "    </tr>\n",
       "    <tr>\n",
       "      <th>4</th>\n",
       "      <td>gender</td>\n",
       "      <td>0.011962</td>\n",
       "      <td>1.012034</td>\n",
       "    </tr>\n",
       "    <tr>\n",
       "      <th>1</th>\n",
       "      <td>tenure</td>\n",
       "      <td>-0.036192</td>\n",
       "      <td>0.964455</td>\n",
       "    </tr>\n",
       "    <tr>\n",
       "      <th>0</th>\n",
       "      <td>Intercept</td>\n",
       "      <td>-2.897860</td>\n",
       "      <td>0.055141</td>\n",
       "    </tr>\n",
       "  </tbody>\n",
       "</table>\n",
       "</div>"
      ],
      "text/plain": [
       "                  Features  Coefficient  Odds_Ratio\n",
       "3  Contract_Month-to-month     1.090983    2.977201\n",
       "5          ElectronicCheck     0.531726    1.701867\n",
       "6         PaperlessBilling     0.411038    1.508382\n",
       "2           MonthlyCharges     0.024049    1.024340\n",
       "4                   gender     0.011962    1.012034\n",
       "1                   tenure    -0.036192    0.964455\n",
       "0                Intercept    -2.897860    0.055141"
      ]
     },
     "execution_count": 52,
     "metadata": {},
     "output_type": "execute_result"
    }
   ],
   "source": [
    "summary_table['Odds_Ratio'] = np.exp(summary_table.Coefficient)\n",
    "summary_table.sort_values('Odds_Ratio', ascending=False)"
   ]
  }
 ],
 "metadata": {
  "interpreter": {
   "hash": "732add9bf382e549494bd37f0bc6a8431f4167bf7609584a1df652bd1b1dd6cf"
  },
  "kernelspec": {
   "display_name": "Python 3.9.2 64-bit",
   "language": "python",
   "name": "python3"
  },
  "language_info": {
   "codemirror_mode": {
    "name": "ipython",
    "version": 3
   },
   "file_extension": ".py",
   "mimetype": "text/x-python",
   "name": "python",
   "nbconvert_exporter": "python",
   "pygments_lexer": "ipython3",
   "version": "3.9.2"
  },
  "orig_nbformat": 4
 },
 "nbformat": 4,
 "nbformat_minor": 2
}
